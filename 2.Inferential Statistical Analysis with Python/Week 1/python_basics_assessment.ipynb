{
 "cells": [
  {
   "cell_type": "markdown",
   "id": "2dc21088",
   "metadata": {},
   "source": []
  },
  {
   "cell_type": "code",
   "execution_count": 24,
   "id": "7a57073a",
   "metadata": {},
   "outputs": [],
   "source": [
    "import numpy as np\n",
    "import pandas as pd\n",
    "import random"
   ]
  },
  {
   "cell_type": "markdown",
   "id": "1706ba16",
   "metadata": {},
   "source": [
    "1.Write a function that inputs an integers and returns the negative."
   ]
  },
  {
   "cell_type": "code",
   "execution_count": 1,
   "id": "164a25fd",
   "metadata": {},
   "outputs": [],
   "source": [
    "def return_negative (integer):\n",
    "    return -integer"
   ]
  },
  {
   "cell_type": "code",
   "execution_count": 2,
   "id": "869d6151",
   "metadata": {},
   "outputs": [
    {
     "data": {
      "text/plain": [
       "-4"
      ]
     },
     "execution_count": 2,
     "metadata": {},
     "output_type": "execute_result"
    }
   ],
   "source": [
    "x = 4\n",
    "return_negative(x)"
   ]
  },
  {
   "cell_type": "markdown",
   "id": "7c95b902",
   "metadata": {},
   "source": [
    "2.Write a function that inputs a list of integers and returns the minimum value."
   ]
  },
  {
   "cell_type": "code",
   "execution_count": 4,
   "id": "169d7be2",
   "metadata": {},
   "outputs": [],
   "source": [
    "def return_min_value (lst):\n",
    "    min_value = float('inf')\n",
    "    for x in lst:\n",
    "        if x < min_value:\n",
    "            min_value = x\n",
    "    return min_value"
   ]
  },
  {
   "cell_type": "code",
   "execution_count": 5,
   "id": "e8992d84",
   "metadata": {},
   "outputs": [
    {
     "data": {
      "text/plain": [
       "-3"
      ]
     },
     "execution_count": 5,
     "metadata": {},
     "output_type": "execute_result"
    }
   ],
   "source": [
    "lst = [-3, 0, 2, 100, -1, 2]\n",
    "return_min_value (lst)"
   ]
  },
  {
   "cell_type": "markdown",
   "id": "366792a8",
   "metadata": {},
   "source": [
    "3.Challenge problem:\n",
    "\n",
    "Write a function that take in four arguments: lst1, lst2, str1, str2, and returns a pandas DataFrame that has the first column labeled str1 and the second column labaled str2, that have values lst1 and lst2 scaled to be between 0 and 1.\n",
    "\n",
    "For example\n",
    "\n",
    "lst1 = [1, 2, 3]\n",
    "lst2 = [2, 4, 5]\n",
    "str1 = 'one'\n",
    "str2 = 'two'\n",
    "\n",
    "my_function(lst1, lst2, str1, str2)\n",
    "\n",
    "should return a DataFrame that looks like:\n",
    "\tone \ttwo\n",
    "0 \t0 \t0\n",
    "1 \t.5 \t.666\n",
    "2 \t1 \t1\n",
    "\n"
   ]
  },
  {
   "cell_type": "code",
   "execution_count": 16,
   "id": "1a0a2489",
   "metadata": {},
   "outputs": [],
   "source": [
    "def return_df (lst1,lst2,str1,str2):\n",
    "    col1_values = []\n",
    "    for x in lst1:\n",
    "        num = random.uniform(0, 1)\n",
    "        col1_values.append(num)\n",
    "    col2_values = []\n",
    "    for x in lst2:\n",
    "        num =  random.uniform(0, 1)\n",
    "        col2_values.append(num)\n",
    "    \n",
    "    df = pd.DataFrame({str1: col1_values, str2: col2_values})\n",
    "    return df"
   ]
  },
  {
   "cell_type": "code",
   "execution_count": 17,
   "id": "0bd1c3aa",
   "metadata": {
    "scrolled": false
   },
   "outputs": [
    {
     "data": {
      "text/html": [
       "<div>\n",
       "<style scoped>\n",
       "    .dataframe tbody tr th:only-of-type {\n",
       "        vertical-align: middle;\n",
       "    }\n",
       "\n",
       "    .dataframe tbody tr th {\n",
       "        vertical-align: top;\n",
       "    }\n",
       "\n",
       "    .dataframe thead th {\n",
       "        text-align: right;\n",
       "    }\n",
       "</style>\n",
       "<table border=\"1\" class=\"dataframe\">\n",
       "  <thead>\n",
       "    <tr style=\"text-align: right;\">\n",
       "      <th></th>\n",
       "      <th>one</th>\n",
       "      <th>alpha</th>\n",
       "    </tr>\n",
       "  </thead>\n",
       "  <tbody>\n",
       "    <tr>\n",
       "      <th>0</th>\n",
       "      <td>0.460386</td>\n",
       "      <td>0.296741</td>\n",
       "    </tr>\n",
       "    <tr>\n",
       "      <th>1</th>\n",
       "      <td>0.663060</td>\n",
       "      <td>0.871630</td>\n",
       "    </tr>\n",
       "    <tr>\n",
       "      <th>2</th>\n",
       "      <td>0.261401</td>\n",
       "      <td>0.188038</td>\n",
       "    </tr>\n",
       "    <tr>\n",
       "      <th>3</th>\n",
       "      <td>0.436834</td>\n",
       "      <td>0.519136</td>\n",
       "    </tr>\n",
       "    <tr>\n",
       "      <th>4</th>\n",
       "      <td>0.824750</td>\n",
       "      <td>0.757074</td>\n",
       "    </tr>\n",
       "    <tr>\n",
       "      <th>...</th>\n",
       "      <td>...</td>\n",
       "      <td>...</td>\n",
       "    </tr>\n",
       "    <tr>\n",
       "      <th>95</th>\n",
       "      <td>0.897828</td>\n",
       "      <td>0.457273</td>\n",
       "    </tr>\n",
       "    <tr>\n",
       "      <th>96</th>\n",
       "      <td>0.698347</td>\n",
       "      <td>0.454583</td>\n",
       "    </tr>\n",
       "    <tr>\n",
       "      <th>97</th>\n",
       "      <td>0.307649</td>\n",
       "      <td>0.349968</td>\n",
       "    </tr>\n",
       "    <tr>\n",
       "      <th>98</th>\n",
       "      <td>0.242509</td>\n",
       "      <td>0.785401</td>\n",
       "    </tr>\n",
       "    <tr>\n",
       "      <th>99</th>\n",
       "      <td>0.538021</td>\n",
       "      <td>0.512033</td>\n",
       "    </tr>\n",
       "  </tbody>\n",
       "</table>\n",
       "<p>100 rows × 2 columns</p>\n",
       "</div>"
      ],
      "text/plain": [
       "         one     alpha\n",
       "0   0.460386  0.296741\n",
       "1   0.663060  0.871630\n",
       "2   0.261401  0.188038\n",
       "3   0.436834  0.519136\n",
       "4   0.824750  0.757074\n",
       "..       ...       ...\n",
       "95  0.897828  0.457273\n",
       "96  0.698347  0.454583\n",
       "97  0.307649  0.349968\n",
       "98  0.242509  0.785401\n",
       "99  0.538021  0.512033\n",
       "\n",
       "[100 rows x 2 columns]"
      ]
     },
     "execution_count": 17,
     "metadata": {},
     "output_type": "execute_result"
    }
   ],
   "source": [
    "lst1 = np.random.randint(-234, 938, 100)\n",
    "lst2 = np.random.randint(-522, 123, 100)\n",
    "str1 = 'one'\n",
    "str2 = 'alpha'\n",
    "\n",
    "return_df (lst1,lst2,str1,str2)"
   ]
  }
 ],
 "metadata": {
  "kernelspec": {
   "display_name": "Python 3 (ipykernel)",
   "language": "python",
   "name": "python3"
  },
  "language_info": {
   "codemirror_mode": {
    "name": "ipython",
    "version": 3
   },
   "file_extension": ".py",
   "mimetype": "text/x-python",
   "name": "python",
   "nbconvert_exporter": "python",
   "pygments_lexer": "ipython3",
   "version": "3.9.7"
  }
 },
 "nbformat": 4,
 "nbformat_minor": 5
}
