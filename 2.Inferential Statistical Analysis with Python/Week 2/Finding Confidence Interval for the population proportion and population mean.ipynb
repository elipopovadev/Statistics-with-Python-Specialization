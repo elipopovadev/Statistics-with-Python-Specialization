{
 "cells": [
  {
   "cell_type": "code",
   "execution_count": 1,
   "id": "26b8d3a4",
   "metadata": {},
   "outputs": [],
   "source": [
    "import numpy as np"
   ]
  },
  {
   "cell_type": "code",
   "execution_count": 2,
   "id": "4479c71c",
   "metadata": {},
   "outputs": [],
   "source": [
    "p_hat = 0.85 # sample proportion of success\n",
    "q_hat = 1 - 0.85 # sample proportion of failure\n",
    "n = 659"
   ]
  },
  {
   "cell_type": "code",
   "execution_count": 9,
   "id": "e3ee8467",
   "metadata": {},
   "outputs": [
    {
     "data": {
      "text/plain": [
       "0.0272626743784251"
      ]
     },
     "execution_count": 9,
     "metadata": {},
     "output_type": "execute_result"
    }
   ],
   "source": [
    "Z_score = 1.96 # Z-score for 95% confidence level\n",
    "E = Z_score * np.sqrt(p_hat * q_hat / n) # E - margin of error\n",
    "E"
   ]
  },
  {
   "cell_type": "code",
   "execution_count": 6,
   "id": "a6482641",
   "metadata": {},
   "outputs": [
    {
     "data": {
      "text/plain": [
       "0.8227373256215749"
      ]
     },
     "execution_count": 6,
     "metadata": {},
     "output_type": "execute_result"
    }
   ],
   "source": [
    "low_bound = p_hat - E\n",
    "low_bound"
   ]
  },
  {
   "cell_type": "code",
   "execution_count": 8,
   "id": "b40e7f89",
   "metadata": {},
   "outputs": [
    {
     "data": {
      "text/plain": [
       "0.8772626743784251"
      ]
     },
     "execution_count": 8,
     "metadata": {},
     "output_type": "execute_result"
    }
   ],
   "source": [
    "upper_bound = p_hat + E\n",
    "upper_bound"
   ]
  },
  {
   "cell_type": "markdown",
   "id": "d2fa7f58",
   "metadata": {},
   "source": [
    "I am 95% sure that p (population prortion of success) is between 0.8227373256215749 and 0.8772626743784251"
   ]
  },
  {
   "cell_type": "code",
   "execution_count": 13,
   "id": "21aba008",
   "metadata": {},
   "outputs": [],
   "source": [
    "import statsmodels.api as sm"
   ]
  },
  {
   "cell_type": "code",
   "execution_count": 14,
   "id": "f6b8a07d",
   "metadata": {},
   "outputs": [
    {
     "data": {
      "text/plain": [
       "(0.8227378265796143, 0.8772621734203857)"
      ]
     },
     "execution_count": 14,
     "metadata": {},
     "output_type": "execute_result"
    }
   ],
   "source": [
    "sm.stats.proportion_confint(n * p_hat, n)"
   ]
  },
  {
   "cell_type": "markdown",
   "id": "2d9504b1",
   "metadata": {},
   "source": [
    "Now, lets take our Cartwheel dataset introduced in lecture and calculate a 95% confidence interval for our mean cartwheel distance:"
   ]
  },
  {
   "cell_type": "code",
   "execution_count": 15,
   "id": "fb57bb99",
   "metadata": {},
   "outputs": [],
   "source": [
    "import pandas as pd\n",
    "df = pd.read_csv('C:/Users/eli/Desktop/Cartwheeldata.csv')"
   ]
  },
  {
   "cell_type": "code",
   "execution_count": 17,
   "id": "fa45a8ae",
   "metadata": {},
   "outputs": [
    {
     "data": {
      "text/html": [
       "<div>\n",
       "<style scoped>\n",
       "    .dataframe tbody tr th:only-of-type {\n",
       "        vertical-align: middle;\n",
       "    }\n",
       "\n",
       "    .dataframe tbody tr th {\n",
       "        vertical-align: top;\n",
       "    }\n",
       "\n",
       "    .dataframe thead th {\n",
       "        text-align: right;\n",
       "    }\n",
       "</style>\n",
       "<table border=\"1\" class=\"dataframe\">\n",
       "  <thead>\n",
       "    <tr style=\"text-align: right;\">\n",
       "      <th></th>\n",
       "      <th>ID</th>\n",
       "      <th>Age</th>\n",
       "      <th>Gender</th>\n",
       "      <th>GenderGroup</th>\n",
       "      <th>Glasses</th>\n",
       "      <th>GlassesGroup</th>\n",
       "      <th>Height</th>\n",
       "      <th>Wingspan</th>\n",
       "      <th>CWDistance</th>\n",
       "      <th>Complete</th>\n",
       "      <th>CompleteGroup</th>\n",
       "      <th>Score</th>\n",
       "    </tr>\n",
       "  </thead>\n",
       "  <tbody>\n",
       "    <tr>\n",
       "      <th>0</th>\n",
       "      <td>1</td>\n",
       "      <td>56</td>\n",
       "      <td>F</td>\n",
       "      <td>1</td>\n",
       "      <td>Y</td>\n",
       "      <td>1</td>\n",
       "      <td>62.0</td>\n",
       "      <td>61.0</td>\n",
       "      <td>79</td>\n",
       "      <td>Y</td>\n",
       "      <td>1</td>\n",
       "      <td>7</td>\n",
       "    </tr>\n",
       "    <tr>\n",
       "      <th>1</th>\n",
       "      <td>2</td>\n",
       "      <td>26</td>\n",
       "      <td>F</td>\n",
       "      <td>1</td>\n",
       "      <td>Y</td>\n",
       "      <td>1</td>\n",
       "      <td>62.0</td>\n",
       "      <td>60.0</td>\n",
       "      <td>70</td>\n",
       "      <td>Y</td>\n",
       "      <td>1</td>\n",
       "      <td>8</td>\n",
       "    </tr>\n",
       "    <tr>\n",
       "      <th>2</th>\n",
       "      <td>3</td>\n",
       "      <td>33</td>\n",
       "      <td>F</td>\n",
       "      <td>1</td>\n",
       "      <td>Y</td>\n",
       "      <td>1</td>\n",
       "      <td>66.0</td>\n",
       "      <td>64.0</td>\n",
       "      <td>85</td>\n",
       "      <td>Y</td>\n",
       "      <td>1</td>\n",
       "      <td>7</td>\n",
       "    </tr>\n",
       "    <tr>\n",
       "      <th>3</th>\n",
       "      <td>4</td>\n",
       "      <td>39</td>\n",
       "      <td>F</td>\n",
       "      <td>1</td>\n",
       "      <td>N</td>\n",
       "      <td>0</td>\n",
       "      <td>64.0</td>\n",
       "      <td>63.0</td>\n",
       "      <td>87</td>\n",
       "      <td>Y</td>\n",
       "      <td>1</td>\n",
       "      <td>10</td>\n",
       "    </tr>\n",
       "    <tr>\n",
       "      <th>4</th>\n",
       "      <td>5</td>\n",
       "      <td>27</td>\n",
       "      <td>M</td>\n",
       "      <td>2</td>\n",
       "      <td>N</td>\n",
       "      <td>0</td>\n",
       "      <td>73.0</td>\n",
       "      <td>75.0</td>\n",
       "      <td>72</td>\n",
       "      <td>N</td>\n",
       "      <td>0</td>\n",
       "      <td>4</td>\n",
       "    </tr>\n",
       "  </tbody>\n",
       "</table>\n",
       "</div>"
      ],
      "text/plain": [
       "   ID  Age Gender  GenderGroup Glasses  GlassesGroup  Height  Wingspan  \\\n",
       "0   1   56      F            1       Y             1    62.0      61.0   \n",
       "1   2   26      F            1       Y             1    62.0      60.0   \n",
       "2   3   33      F            1       Y             1    66.0      64.0   \n",
       "3   4   39      F            1       N             0    64.0      63.0   \n",
       "4   5   27      M            2       N             0    73.0      75.0   \n",
       "\n",
       "   CWDistance Complete  CompleteGroup  Score  \n",
       "0          79        Y              1      7  \n",
       "1          70        Y              1      8  \n",
       "2          85        Y              1      7  \n",
       "3          87        Y              1     10  \n",
       "4          72        N              0      4  "
      ]
     },
     "execution_count": 17,
     "metadata": {},
     "output_type": "execute_result"
    }
   ],
   "source": [
    "df.head()"
   ]
  },
  {
   "cell_type": "code",
   "execution_count": 18,
   "id": "4f2d615b",
   "metadata": {},
   "outputs": [
    {
     "data": {
      "text/html": [
       "<div>\n",
       "<style scoped>\n",
       "    .dataframe tbody tr th:only-of-type {\n",
       "        vertical-align: middle;\n",
       "    }\n",
       "\n",
       "    .dataframe tbody tr th {\n",
       "        vertical-align: top;\n",
       "    }\n",
       "\n",
       "    .dataframe thead th {\n",
       "        text-align: right;\n",
       "    }\n",
       "</style>\n",
       "<table border=\"1\" class=\"dataframe\">\n",
       "  <thead>\n",
       "    <tr style=\"text-align: right;\">\n",
       "      <th></th>\n",
       "      <th>ID</th>\n",
       "      <th>Age</th>\n",
       "      <th>GenderGroup</th>\n",
       "      <th>GlassesGroup</th>\n",
       "      <th>Height</th>\n",
       "      <th>Wingspan</th>\n",
       "      <th>CWDistance</th>\n",
       "      <th>CompleteGroup</th>\n",
       "      <th>Score</th>\n",
       "    </tr>\n",
       "  </thead>\n",
       "  <tbody>\n",
       "    <tr>\n",
       "      <th>count</th>\n",
       "      <td>25.000000</td>\n",
       "      <td>25.000000</td>\n",
       "      <td>25.000000</td>\n",
       "      <td>25.000000</td>\n",
       "      <td>25.000000</td>\n",
       "      <td>25.000000</td>\n",
       "      <td>25.000000</td>\n",
       "      <td>25.00000</td>\n",
       "      <td>25.000000</td>\n",
       "    </tr>\n",
       "    <tr>\n",
       "      <th>mean</th>\n",
       "      <td>13.000000</td>\n",
       "      <td>28.240000</td>\n",
       "      <td>1.520000</td>\n",
       "      <td>0.560000</td>\n",
       "      <td>67.650000</td>\n",
       "      <td>66.260000</td>\n",
       "      <td>82.480000</td>\n",
       "      <td>0.76000</td>\n",
       "      <td>6.400000</td>\n",
       "    </tr>\n",
       "    <tr>\n",
       "      <th>std</th>\n",
       "      <td>7.359801</td>\n",
       "      <td>6.989754</td>\n",
       "      <td>0.509902</td>\n",
       "      <td>0.506623</td>\n",
       "      <td>4.431187</td>\n",
       "      <td>5.492647</td>\n",
       "      <td>15.058552</td>\n",
       "      <td>0.43589</td>\n",
       "      <td>2.533114</td>\n",
       "    </tr>\n",
       "    <tr>\n",
       "      <th>min</th>\n",
       "      <td>1.000000</td>\n",
       "      <td>22.000000</td>\n",
       "      <td>1.000000</td>\n",
       "      <td>0.000000</td>\n",
       "      <td>61.500000</td>\n",
       "      <td>57.500000</td>\n",
       "      <td>63.000000</td>\n",
       "      <td>0.00000</td>\n",
       "      <td>2.000000</td>\n",
       "    </tr>\n",
       "    <tr>\n",
       "      <th>25%</th>\n",
       "      <td>7.000000</td>\n",
       "      <td>24.000000</td>\n",
       "      <td>1.000000</td>\n",
       "      <td>0.000000</td>\n",
       "      <td>64.000000</td>\n",
       "      <td>62.000000</td>\n",
       "      <td>70.000000</td>\n",
       "      <td>1.00000</td>\n",
       "      <td>4.000000</td>\n",
       "    </tr>\n",
       "    <tr>\n",
       "      <th>50%</th>\n",
       "      <td>13.000000</td>\n",
       "      <td>26.000000</td>\n",
       "      <td>2.000000</td>\n",
       "      <td>1.000000</td>\n",
       "      <td>68.000000</td>\n",
       "      <td>66.000000</td>\n",
       "      <td>81.000000</td>\n",
       "      <td>1.00000</td>\n",
       "      <td>6.000000</td>\n",
       "    </tr>\n",
       "    <tr>\n",
       "      <th>75%</th>\n",
       "      <td>19.000000</td>\n",
       "      <td>29.000000</td>\n",
       "      <td>2.000000</td>\n",
       "      <td>1.000000</td>\n",
       "      <td>71.000000</td>\n",
       "      <td>71.000000</td>\n",
       "      <td>92.000000</td>\n",
       "      <td>1.00000</td>\n",
       "      <td>8.000000</td>\n",
       "    </tr>\n",
       "    <tr>\n",
       "      <th>max</th>\n",
       "      <td>25.000000</td>\n",
       "      <td>56.000000</td>\n",
       "      <td>2.000000</td>\n",
       "      <td>1.000000</td>\n",
       "      <td>75.000000</td>\n",
       "      <td>76.000000</td>\n",
       "      <td>115.000000</td>\n",
       "      <td>1.00000</td>\n",
       "      <td>10.000000</td>\n",
       "    </tr>\n",
       "  </tbody>\n",
       "</table>\n",
       "</div>"
      ],
      "text/plain": [
       "              ID        Age  GenderGroup  GlassesGroup     Height   Wingspan  \\\n",
       "count  25.000000  25.000000    25.000000     25.000000  25.000000  25.000000   \n",
       "mean   13.000000  28.240000     1.520000      0.560000  67.650000  66.260000   \n",
       "std     7.359801   6.989754     0.509902      0.506623   4.431187   5.492647   \n",
       "min     1.000000  22.000000     1.000000      0.000000  61.500000  57.500000   \n",
       "25%     7.000000  24.000000     1.000000      0.000000  64.000000  62.000000   \n",
       "50%    13.000000  26.000000     2.000000      1.000000  68.000000  66.000000   \n",
       "75%    19.000000  29.000000     2.000000      1.000000  71.000000  71.000000   \n",
       "max    25.000000  56.000000     2.000000      1.000000  75.000000  76.000000   \n",
       "\n",
       "       CWDistance  CompleteGroup      Score  \n",
       "count   25.000000       25.00000  25.000000  \n",
       "mean    82.480000        0.76000   6.400000  \n",
       "std     15.058552        0.43589   2.533114  \n",
       "min     63.000000        0.00000   2.000000  \n",
       "25%     70.000000        1.00000   4.000000  \n",
       "50%     81.000000        1.00000   6.000000  \n",
       "75%     92.000000        1.00000   8.000000  \n",
       "max    115.000000        1.00000  10.000000  "
      ]
     },
     "execution_count": 18,
     "metadata": {},
     "output_type": "execute_result"
    }
   ],
   "source": [
    "df.describe()"
   ]
  },
  {
   "cell_type": "code",
   "execution_count": 20,
   "id": "471c954e",
   "metadata": {},
   "outputs": [
    {
     "data": {
      "text/plain": [
       "25"
      ]
     },
     "execution_count": 20,
     "metadata": {},
     "output_type": "execute_result"
    }
   ],
   "source": [
    "X_bar = df[\"CWDistance\"].mean() # sample mean for CWDistance\n",
    "s = df[\"CWDistance\"].std() # sample std for CWDistance\n",
    "n = len(df)\n",
    "n"
   ]
  },
  {
   "cell_type": "code",
   "execution_count": 21,
   "id": "0f304e85",
   "metadata": {},
   "outputs": [],
   "source": [
    "Degrees_of_Freedom = n - 1\n",
    "T_score = 2.064"
   ]
  },
  {
   "cell_type": "code",
   "execution_count": 27,
   "id": "de8744ae",
   "metadata": {},
   "outputs": [
    {
     "data": {
      "text/plain": [
       "6.216170425462932"
      ]
     },
     "execution_count": 27,
     "metadata": {},
     "output_type": "execute_result"
    }
   ],
   "source": [
    "E = T_score * s / np.sqrt(n) # we don't know population std(σ), we know only sample std(s)\n",
    "E"
   ]
  },
  {
   "cell_type": "code",
   "execution_count": 26,
   "id": "c23b2436",
   "metadata": {},
   "outputs": [
    {
     "data": {
      "text/plain": [
       "76.26382957453707"
      ]
     },
     "execution_count": 26,
     "metadata": {},
     "output_type": "execute_result"
    }
   ],
   "source": [
    "lower_bound = X_bar - E\n",
    "lower_bound"
   ]
  },
  {
   "cell_type": "code",
   "execution_count": 25,
   "id": "16f89375",
   "metadata": {},
   "outputs": [
    {
     "data": {
      "text/plain": [
       "88.69617042546294"
      ]
     },
     "execution_count": 25,
     "metadata": {},
     "output_type": "execute_result"
    }
   ],
   "source": [
    "upper_bound = X_bar + E\n",
    "upper_bound"
   ]
  },
  {
   "cell_type": "markdown",
   "id": "ab93baa8",
   "metadata": {},
   "source": [
    "I am 95% sure that population mean is between 76.26382957453707 and  88.69617042546294 "
   ]
  },
  {
   "cell_type": "code",
   "execution_count": 28,
   "id": "8af34d94",
   "metadata": {},
   "outputs": [
    {
     "data": {
      "text/plain": [
       "(76.57715593233026, 88.38284406766975)"
      ]
     },
     "execution_count": 28,
     "metadata": {},
     "output_type": "execute_result"
    }
   ],
   "source": [
    "sm.stats.DescrStatsW(df[\"CWDistance\"]).zconfint_mean()"
   ]
  }
 ],
 "metadata": {
  "kernelspec": {
   "display_name": "Python 3 (ipykernel)",
   "language": "python",
   "name": "python3"
  },
  "language_info": {
   "codemirror_mode": {
    "name": "ipython",
    "version": 3
   },
   "file_extension": ".py",
   "mimetype": "text/x-python",
   "name": "python",
   "nbconvert_exporter": "python",
   "pygments_lexer": "ipython3",
   "version": "3.9.7"
  }
 },
 "nbformat": 4,
 "nbformat_minor": 5
}
