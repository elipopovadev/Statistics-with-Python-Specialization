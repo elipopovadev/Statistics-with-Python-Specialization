{
 "cells": [
  {
   "cell_type": "markdown",
   "id": "ce25c9a0",
   "metadata": {},
   "source": [
    "Confidence Intervals\n",
    "\n",
    "This tutorial is going to demonstrate how to load data, clean/manipulate a dataset, and construct a confidence interval for the difference between two population proportions and means.\n",
    "\n",
    "We will use the 2015-2016 wave of the NHANES data for our analysis.\n",
    "\n",
    "For our population proportions, we will analyze the difference of proportion between female and male smokers. The column that specifies smoker and non-smoker is \"SMQ020\" in our dataset.\n",
    "\n",
    "For our population means, we will analyze the difference of mean of body mass index within our female and male populations. The column that includes the body mass index value is \"BMXBMI\".\n",
    "\n",
    "Additionally, the gender is specified in the column \"RIAGENDR\".\n"
   ]
  },
  {
   "cell_type": "code",
   "execution_count": 27,
   "id": "36602772",
   "metadata": {},
   "outputs": [],
   "source": [
    "import pandas as pd\n",
    "import numpy as np\n",
    "import matplotlib\n",
    "matplotlib.use('Agg')\n",
    "import seaborn as sns\n",
    "%matplotlib inline\n",
    "import matplotlib.pyplot as plt\n",
    "import statsmodels.api as sm"
   ]
  },
  {
   "cell_type": "code",
   "execution_count": 4,
   "id": "ec2e8b5b",
   "metadata": {},
   "outputs": [],
   "source": [
    "url = \"C:/Users/eli/Desktop/nhanes_2015_2016.csv\"\n",
    "da = pd.read_csv(url)"
   ]
  },
  {
   "cell_type": "markdown",
   "id": "9075a405",
   "metadata": {},
   "source": [
    "Investigating and Cleaning Data"
   ]
  },
  {
   "cell_type": "code",
   "execution_count": 5,
   "id": "7abe461a",
   "metadata": {},
   "outputs": [
    {
     "data": {
      "text/plain": [
       "0       Yes\n",
       "1       Yes\n",
       "2       Yes\n",
       "3        No\n",
       "4        No\n",
       "       ... \n",
       "5730    Yes\n",
       "5731     No\n",
       "5732    Yes\n",
       "5733    Yes\n",
       "5734     No\n",
       "Name: SMQ020x, Length: 5735, dtype: object"
      ]
     },
     "execution_count": 5,
     "metadata": {},
     "output_type": "execute_result"
    }
   ],
   "source": [
    "# Recode SMQ020 from 1/2 to Yes/No into new variable SMQ020x\n",
    "da[\"SMQ020x\"] = da.SMQ020.replace({1: \"Yes\", 2: \"No\", 7: np.nan, 9: np.nan})\n",
    "da[\"SMQ020x\"]"
   ]
  },
  {
   "cell_type": "code",
   "execution_count": 6,
   "id": "066e1c15",
   "metadata": {},
   "outputs": [
    {
     "data": {
      "text/plain": [
       "0         Male\n",
       "1         Male\n",
       "2         Male\n",
       "3       Female\n",
       "4       Female\n",
       "         ...  \n",
       "5730    Female\n",
       "5731      Male\n",
       "5732    Female\n",
       "5733      Male\n",
       "5734    Female\n",
       "Name: RIAGENDRx, Length: 5735, dtype: object"
      ]
     },
     "execution_count": 6,
     "metadata": {},
     "output_type": "execute_result"
    }
   ],
   "source": [
    "# Recode RIAGENDR from 1/2 to Male/Female into new variable RIAGENDRx\n",
    "da[\"RIAGENDRx\"] = da.RIAGENDR.replace({1: \"Male\", 2: \"Female\"})\n",
    "da[\"RIAGENDRx\"]"
   ]
  },
  {
   "cell_type": "code",
   "execution_count": 9,
   "id": "f29123de",
   "metadata": {},
   "outputs": [
    {
     "data": {
      "text/html": [
       "<div>\n",
       "<style scoped>\n",
       "    .dataframe tbody tr th:only-of-type {\n",
       "        vertical-align: middle;\n",
       "    }\n",
       "\n",
       "    .dataframe tbody tr th {\n",
       "        vertical-align: top;\n",
       "    }\n",
       "\n",
       "    .dataframe thead th {\n",
       "        text-align: right;\n",
       "    }\n",
       "</style>\n",
       "<table border=\"1\" class=\"dataframe\">\n",
       "  <thead>\n",
       "    <tr style=\"text-align: right;\">\n",
       "      <th>RIAGENDRx</th>\n",
       "      <th>Female</th>\n",
       "      <th>Male</th>\n",
       "    </tr>\n",
       "    <tr>\n",
       "      <th>SMQ020x</th>\n",
       "      <th></th>\n",
       "      <th></th>\n",
       "    </tr>\n",
       "  </thead>\n",
       "  <tbody>\n",
       "    <tr>\n",
       "      <th>No</th>\n",
       "      <td>2066</td>\n",
       "      <td>1340</td>\n",
       "    </tr>\n",
       "    <tr>\n",
       "      <th>Yes</th>\n",
       "      <td>906</td>\n",
       "      <td>1413</td>\n",
       "    </tr>\n",
       "  </tbody>\n",
       "</table>\n",
       "</div>"
      ],
      "text/plain": [
       "RIAGENDRx  Female  Male\n",
       "SMQ020x                \n",
       "No           2066  1340\n",
       "Yes           906  1413"
      ]
     },
     "execution_count": 9,
     "metadata": {},
     "output_type": "execute_result"
    }
   ],
   "source": [
    "dx = da[[\"SMQ020x\", \"RIAGENDRx\"]].dropna()\n",
    "pd.crosstab(dx.SMQ020x, dx.RIAGENDRx)"
   ]
  },
  {
   "cell_type": "code",
   "execution_count": 11,
   "id": "5fd3c66b",
   "metadata": {},
   "outputs": [],
   "source": [
    "# Recode SMQ020x from Yes/No to 1/0 into existing variable SMQ020x\n",
    "dx[\"SMQ020x\"] = dx.SMQ020x.replace({\"Yes\": 1, \"No\": 0})"
   ]
  },
  {
   "cell_type": "code",
   "execution_count": 13,
   "id": "69472a03",
   "metadata": {},
   "outputs": [
    {
     "data": {
      "text/html": [
       "<div>\n",
       "<style scoped>\n",
       "    .dataframe tbody tr th:only-of-type {\n",
       "        vertical-align: middle;\n",
       "    }\n",
       "\n",
       "    .dataframe tbody tr th {\n",
       "        vertical-align: top;\n",
       "    }\n",
       "\n",
       "    .dataframe thead th {\n",
       "        text-align: right;\n",
       "    }\n",
       "</style>\n",
       "<table border=\"1\" class=\"dataframe\">\n",
       "  <thead>\n",
       "    <tr style=\"text-align: right;\">\n",
       "      <th></th>\n",
       "      <th>Proportion of smokers</th>\n",
       "      <th>Total n</th>\n",
       "    </tr>\n",
       "    <tr>\n",
       "      <th>RIAGENDRx</th>\n",
       "      <th></th>\n",
       "      <th></th>\n",
       "    </tr>\n",
       "  </thead>\n",
       "  <tbody>\n",
       "    <tr>\n",
       "      <th>Female</th>\n",
       "      <td>0.304845</td>\n",
       "      <td>2972</td>\n",
       "    </tr>\n",
       "    <tr>\n",
       "      <th>Male</th>\n",
       "      <td>0.513258</td>\n",
       "      <td>2753</td>\n",
       "    </tr>\n",
       "  </tbody>\n",
       "</table>\n",
       "</div>"
      ],
      "text/plain": [
       "           Proportion of smokers  Total n\n",
       "RIAGENDRx                                \n",
       "Female                  0.304845     2972\n",
       "Male                    0.513258     2753"
      ]
     },
     "execution_count": 13,
     "metadata": {},
     "output_type": "execute_result"
    }
   ],
   "source": [
    "dz = dx.groupby(\"RIAGENDRx\").agg({\"SMQ020x\": [np.mean, np.size]}) # np.mean in this case is about smokers\n",
    "dz.columns = [\"Proportion of smokers\", \"Total n\"]\n",
    "dz"
   ]
  },
  {
   "cell_type": "markdown",
   "id": "275144ba",
   "metadata": {},
   "source": [
    "Difference of Two Population Proportions"
   ]
  },
  {
   "cell_type": "code",
   "execution_count": 17,
   "id": "0a152232",
   "metadata": {},
   "outputs": [],
   "source": [
    "p_hat_f = 0.304845\n",
    "q_hat_f = 1 - p_hat_f\n",
    "n_f = 2972\n",
    "\n",
    "p_hat_m = 0.513258\n",
    "q_hat_m = 1 - p_hat_m\n",
    "n_m = 2753"
   ]
  },
  {
   "cell_type": "code",
   "execution_count": 16,
   "id": "22f686c4",
   "metadata": {},
   "outputs": [],
   "source": [
    "Z_score = 1.96 # for 95% Confidence Interval"
   ]
  },
  {
   "cell_type": "code",
   "execution_count": 19,
   "id": "2cc0b4be",
   "metadata": {},
   "outputs": [
    {
     "data": {
      "text/plain": [
       "0.024950565457887045"
      ]
     },
     "execution_count": 19,
     "metadata": {},
     "output_type": "execute_result"
    }
   ],
   "source": [
    "diff = Z_score * np.sqrt((p_hat_f * q_hat_f / n_f) + (p_hat_m * q_hat_m / n_m))  \n",
    "diff "
   ]
  },
  {
   "cell_type": "code",
   "execution_count": 21,
   "id": "56ca5167",
   "metadata": {},
   "outputs": [
    {
     "data": {
      "text/plain": [
       "-0.23336356545788706"
      ]
     },
     "execution_count": 21,
     "metadata": {},
     "output_type": "execute_result"
    }
   ],
   "source": [
    "lower_bound = (p_hat_f - p_hat_m) - diff\n",
    "lower_bound"
   ]
  },
  {
   "cell_type": "code",
   "execution_count": 23,
   "id": "1fa86f18",
   "metadata": {},
   "outputs": [
    {
     "data": {
      "text/plain": [
       "-0.18346243454211297"
      ]
     },
     "execution_count": 23,
     "metadata": {},
     "output_type": "execute_result"
    }
   ],
   "source": [
    "upper_bound = (p_hat_f - p_hat_m) + diff\n",
    "upper_bound"
   ]
  },
  {
   "cell_type": "code",
   "execution_count": null,
   "id": "0fba0330",
   "metadata": {},
   "outputs": [],
   "source": [
    "I am 95% sure that the difference between population proportions of women and men smokers is between\n",
    "-0.23336356545788706 and -0.18346243454211297"
   ]
  },
  {
   "cell_type": "markdown",
   "id": "774f1752",
   "metadata": {},
   "source": [
    "Difference of Two Population Means"
   ]
  },
  {
   "cell_type": "code",
   "execution_count": 24,
   "id": "bfa11287",
   "metadata": {},
   "outputs": [
    {
     "data": {
      "text/plain": [
       "0    27.8\n",
       "1    30.8\n",
       "2    28.8\n",
       "3    42.4\n",
       "4    20.3\n",
       "Name: BMXBMI, dtype: float64"
      ]
     },
     "execution_count": 24,
     "metadata": {},
     "output_type": "execute_result"
    }
   ],
   "source": [
    "da[\"BMXBMI\"].head()"
   ]
  },
  {
   "cell_type": "code",
   "execution_count": 25,
   "id": "a28f5a65",
   "metadata": {},
   "outputs": [
    {
     "data": {
      "text/html": [
       "<div>\n",
       "<style scoped>\n",
       "    .dataframe tbody tr th:only-of-type {\n",
       "        vertical-align: middle;\n",
       "    }\n",
       "\n",
       "    .dataframe tbody tr th {\n",
       "        vertical-align: top;\n",
       "    }\n",
       "\n",
       "    .dataframe thead tr th {\n",
       "        text-align: left;\n",
       "    }\n",
       "\n",
       "    .dataframe thead tr:last-of-type th {\n",
       "        text-align: right;\n",
       "    }\n",
       "</style>\n",
       "<table border=\"1\" class=\"dataframe\">\n",
       "  <thead>\n",
       "    <tr>\n",
       "      <th></th>\n",
       "      <th colspan=\"3\" halign=\"left\">BMXBMI</th>\n",
       "    </tr>\n",
       "    <tr>\n",
       "      <th></th>\n",
       "      <th>mean</th>\n",
       "      <th>std</th>\n",
       "      <th>size</th>\n",
       "    </tr>\n",
       "    <tr>\n",
       "      <th>RIAGENDRx</th>\n",
       "      <th></th>\n",
       "      <th></th>\n",
       "      <th></th>\n",
       "    </tr>\n",
       "  </thead>\n",
       "  <tbody>\n",
       "    <tr>\n",
       "      <th>Female</th>\n",
       "      <td>29.939946</td>\n",
       "      <td>7.753319</td>\n",
       "      <td>2976</td>\n",
       "    </tr>\n",
       "    <tr>\n",
       "      <th>Male</th>\n",
       "      <td>28.778072</td>\n",
       "      <td>6.252568</td>\n",
       "      <td>2759</td>\n",
       "    </tr>\n",
       "  </tbody>\n",
       "</table>\n",
       "</div>"
      ],
      "text/plain": [
       "              BMXBMI                \n",
       "                mean       std  size\n",
       "RIAGENDRx                           \n",
       "Female     29.939946  7.753319  2976\n",
       "Male       28.778072  6.252568  2759"
      ]
     },
     "execution_count": 25,
     "metadata": {},
     "output_type": "execute_result"
    }
   ],
   "source": [
    "da.groupby(\"RIAGENDRx\").agg({\"BMXBMI\": [np.mean, np.std, np.size]})"
   ]
  },
  {
   "cell_type": "code",
   "execution_count": 34,
   "id": "13865b77",
   "metadata": {},
   "outputs": [],
   "source": [
    "\n",
    "# First approach - assumption that (σ1 * σ1) is not equal to (σ2 * σ2)\n",
    "X_bar1 = 29.939946 \n",
    "X_bar2 = 28.778072\n",
    "s1 = 7.753319\n",
    "s2 = 6.252568 "
   ]
  },
  {
   "cell_type": "code",
   "execution_count": 35,
   "id": "f432473c",
   "metadata": {},
   "outputs": [
    {
     "data": {
      "text/plain": [
       "2758"
      ]
     },
     "execution_count": 35,
     "metadata": {},
     "output_type": "execute_result"
    }
   ],
   "source": [
    "n1 = 2976\n",
    "n2 = 2759\n",
    "Degrees_of_Freedom = min((n1 - 1), (n2 - 1))\n",
    "Degrees_of_Freedom"
   ]
  },
  {
   "cell_type": "code",
   "execution_count": 31,
   "id": "2dcc3aa9",
   "metadata": {
    "scrolled": true
   },
   "outputs": [
    {
     "data": {
      "text/plain": [
       "0.3633642745235303"
      ]
     },
     "execution_count": 31,
     "metadata": {},
     "output_type": "execute_result"
    }
   ],
   "source": [
    "T_score = 1.96 # T_score is equal to Z_score for larger sample; 95% Confidence Level\n",
    "diff_means = T_score * np.sqrt((s1 * s1 / n1) + (s2 * s2 / n2))\n",
    "diff_means"
   ]
  },
  {
   "cell_type": "code",
   "execution_count": 36,
   "id": "21992675",
   "metadata": {},
   "outputs": [
    {
     "data": {
      "text/plain": [
       "0.798509725476467"
      ]
     },
     "execution_count": 36,
     "metadata": {},
     "output_type": "execute_result"
    }
   ],
   "source": [
    "lower = (X_bar1 - X_bar2) - diff_means\n",
    "lower"
   ]
  },
  {
   "cell_type": "code",
   "execution_count": 37,
   "id": "a2132c4b",
   "metadata": {},
   "outputs": [
    {
     "data": {
      "text/plain": [
       "1.5252382745235278"
      ]
     },
     "execution_count": 37,
     "metadata": {},
     "output_type": "execute_result"
    }
   ],
   "source": [
    "upper =  (X_bar1 - X_bar2) + diff_means\n",
    "upper"
   ]
  },
  {
   "cell_type": "markdown",
   "id": "a3672477",
   "metadata": {},
   "source": [
    "I am 95% sure that the difference between population means of BMI of women and men is between\n",
    "0.798509725476467 and 1.5252382745235278"
   ]
  },
  {
   "cell_type": "raw",
   "id": "8648b70a",
   "metadata": {},
   "source": []
  },
  {
   "cell_type": "raw",
   "id": "1432d30d",
   "metadata": {},
   "source": []
  },
  {
   "cell_type": "raw",
   "id": "2b2c4abc",
   "metadata": {},
   "source": []
  }
 ],
 "metadata": {
  "kernelspec": {
   "display_name": "Python 3 (ipykernel)",
   "language": "python",
   "name": "python3"
  },
  "language_info": {
   "codemirror_mode": {
    "name": "ipython",
    "version": 3
   },
   "file_extension": ".py",
   "mimetype": "text/x-python",
   "name": "python",
   "nbconvert_exporter": "python",
   "pygments_lexer": "ipython3",
   "version": "3.9.7"
  }
 },
 "nbformat": 4,
 "nbformat_minor": 5
}
