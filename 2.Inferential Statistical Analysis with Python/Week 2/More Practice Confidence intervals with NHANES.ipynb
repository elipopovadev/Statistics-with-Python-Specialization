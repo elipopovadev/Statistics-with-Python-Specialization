{
 "cells": [
  {
   "cell_type": "code",
   "execution_count": 3,
   "id": "e6cb3e34",
   "metadata": {},
   "outputs": [],
   "source": [
    "%matplotlib inline\n",
    "import matplotlib.pyplot as plt\n",
    "import pandas as pd\n",
    "import numpy as np\n",
    "import seaborn as sns\n",
    "import statsmodels.api as sm"
   ]
  },
  {
   "cell_type": "markdown",
   "id": "7130182b",
   "metadata": {},
   "source": [
    "**Question 1\n",
    "\n",
    "**Restrict the sample to women between 35 and 50,\n",
    "then use the marital status variable DMDMARTL to partition this sample into two groups - women who are currently married, and women who are not currently married. Within each of these groups, calculate the proportion of women who have completed college. Calculate 95% confidence intervals for each of these proportions.\n"
   ]
  },
  {
   "cell_type": "code",
   "execution_count": 10,
   "id": "fb210cad",
   "metadata": {},
   "outputs": [
    {
     "data": {
      "text/html": [
       "<div>\n",
       "<style scoped>\n",
       "    .dataframe tbody tr th:only-of-type {\n",
       "        vertical-align: middle;\n",
       "    }\n",
       "\n",
       "    .dataframe tbody tr th {\n",
       "        vertical-align: top;\n",
       "    }\n",
       "\n",
       "    .dataframe thead th {\n",
       "        text-align: right;\n",
       "    }\n",
       "</style>\n",
       "<table border=\"1\" class=\"dataframe\">\n",
       "  <thead>\n",
       "    <tr style=\"text-align: right;\">\n",
       "      <th></th>\n",
       "      <th>SEQN</th>\n",
       "      <th>ALQ101</th>\n",
       "      <th>ALQ110</th>\n",
       "      <th>ALQ130</th>\n",
       "      <th>SMQ020</th>\n",
       "      <th>RIAGENDR</th>\n",
       "      <th>RIDAGEYR</th>\n",
       "      <th>RIDRETH1</th>\n",
       "      <th>DMDCITZN</th>\n",
       "      <th>DMDEDUC2</th>\n",
       "      <th>...</th>\n",
       "      <th>BPXSY2</th>\n",
       "      <th>BPXDI2</th>\n",
       "      <th>BMXWT</th>\n",
       "      <th>BMXHT</th>\n",
       "      <th>BMXBMI</th>\n",
       "      <th>BMXLEG</th>\n",
       "      <th>BMXARML</th>\n",
       "      <th>BMXARMC</th>\n",
       "      <th>BMXWAIST</th>\n",
       "      <th>HIQ210</th>\n",
       "    </tr>\n",
       "  </thead>\n",
       "  <tbody>\n",
       "    <tr>\n",
       "      <th>0</th>\n",
       "      <td>83732</td>\n",
       "      <td>1.0</td>\n",
       "      <td>NaN</td>\n",
       "      <td>1.0</td>\n",
       "      <td>1</td>\n",
       "      <td>1</td>\n",
       "      <td>62</td>\n",
       "      <td>3</td>\n",
       "      <td>1.0</td>\n",
       "      <td>5.0</td>\n",
       "      <td>...</td>\n",
       "      <td>124.0</td>\n",
       "      <td>64.0</td>\n",
       "      <td>94.8</td>\n",
       "      <td>184.5</td>\n",
       "      <td>27.8</td>\n",
       "      <td>43.3</td>\n",
       "      <td>43.6</td>\n",
       "      <td>35.9</td>\n",
       "      <td>101.1</td>\n",
       "      <td>2.0</td>\n",
       "    </tr>\n",
       "    <tr>\n",
       "      <th>1</th>\n",
       "      <td>83733</td>\n",
       "      <td>1.0</td>\n",
       "      <td>NaN</td>\n",
       "      <td>6.0</td>\n",
       "      <td>1</td>\n",
       "      <td>1</td>\n",
       "      <td>53</td>\n",
       "      <td>3</td>\n",
       "      <td>2.0</td>\n",
       "      <td>3.0</td>\n",
       "      <td>...</td>\n",
       "      <td>140.0</td>\n",
       "      <td>88.0</td>\n",
       "      <td>90.4</td>\n",
       "      <td>171.4</td>\n",
       "      <td>30.8</td>\n",
       "      <td>38.0</td>\n",
       "      <td>40.0</td>\n",
       "      <td>33.2</td>\n",
       "      <td>107.9</td>\n",
       "      <td>NaN</td>\n",
       "    </tr>\n",
       "    <tr>\n",
       "      <th>2</th>\n",
       "      <td>83734</td>\n",
       "      <td>1.0</td>\n",
       "      <td>NaN</td>\n",
       "      <td>NaN</td>\n",
       "      <td>1</td>\n",
       "      <td>1</td>\n",
       "      <td>78</td>\n",
       "      <td>3</td>\n",
       "      <td>1.0</td>\n",
       "      <td>3.0</td>\n",
       "      <td>...</td>\n",
       "      <td>132.0</td>\n",
       "      <td>44.0</td>\n",
       "      <td>83.4</td>\n",
       "      <td>170.1</td>\n",
       "      <td>28.8</td>\n",
       "      <td>35.6</td>\n",
       "      <td>37.0</td>\n",
       "      <td>31.0</td>\n",
       "      <td>116.5</td>\n",
       "      <td>2.0</td>\n",
       "    </tr>\n",
       "    <tr>\n",
       "      <th>3</th>\n",
       "      <td>83735</td>\n",
       "      <td>2.0</td>\n",
       "      <td>1.0</td>\n",
       "      <td>1.0</td>\n",
       "      <td>2</td>\n",
       "      <td>2</td>\n",
       "      <td>56</td>\n",
       "      <td>3</td>\n",
       "      <td>1.0</td>\n",
       "      <td>5.0</td>\n",
       "      <td>...</td>\n",
       "      <td>134.0</td>\n",
       "      <td>68.0</td>\n",
       "      <td>109.8</td>\n",
       "      <td>160.9</td>\n",
       "      <td>42.4</td>\n",
       "      <td>38.5</td>\n",
       "      <td>37.7</td>\n",
       "      <td>38.3</td>\n",
       "      <td>110.1</td>\n",
       "      <td>2.0</td>\n",
       "    </tr>\n",
       "    <tr>\n",
       "      <th>4</th>\n",
       "      <td>83736</td>\n",
       "      <td>2.0</td>\n",
       "      <td>1.0</td>\n",
       "      <td>1.0</td>\n",
       "      <td>2</td>\n",
       "      <td>2</td>\n",
       "      <td>42</td>\n",
       "      <td>4</td>\n",
       "      <td>1.0</td>\n",
       "      <td>4.0</td>\n",
       "      <td>...</td>\n",
       "      <td>114.0</td>\n",
       "      <td>54.0</td>\n",
       "      <td>55.2</td>\n",
       "      <td>164.9</td>\n",
       "      <td>20.3</td>\n",
       "      <td>37.4</td>\n",
       "      <td>36.0</td>\n",
       "      <td>27.2</td>\n",
       "      <td>80.4</td>\n",
       "      <td>2.0</td>\n",
       "    </tr>\n",
       "  </tbody>\n",
       "</table>\n",
       "<p>5 rows × 28 columns</p>\n",
       "</div>"
      ],
      "text/plain": [
       "    SEQN  ALQ101  ALQ110  ALQ130  SMQ020  RIAGENDR  RIDAGEYR  RIDRETH1  \\\n",
       "0  83732     1.0     NaN     1.0       1         1        62         3   \n",
       "1  83733     1.0     NaN     6.0       1         1        53         3   \n",
       "2  83734     1.0     NaN     NaN       1         1        78         3   \n",
       "3  83735     2.0     1.0     1.0       2         2        56         3   \n",
       "4  83736     2.0     1.0     1.0       2         2        42         4   \n",
       "\n",
       "   DMDCITZN  DMDEDUC2  ...  BPXSY2  BPXDI2  BMXWT  BMXHT  BMXBMI  BMXLEG  \\\n",
       "0       1.0       5.0  ...   124.0    64.0   94.8  184.5    27.8    43.3   \n",
       "1       2.0       3.0  ...   140.0    88.0   90.4  171.4    30.8    38.0   \n",
       "2       1.0       3.0  ...   132.0    44.0   83.4  170.1    28.8    35.6   \n",
       "3       1.0       5.0  ...   134.0    68.0  109.8  160.9    42.4    38.5   \n",
       "4       1.0       4.0  ...   114.0    54.0   55.2  164.9    20.3    37.4   \n",
       "\n",
       "   BMXARML  BMXARMC  BMXWAIST  HIQ210  \n",
       "0     43.6     35.9     101.1     2.0  \n",
       "1     40.0     33.2     107.9     NaN  \n",
       "2     37.0     31.0     116.5     2.0  \n",
       "3     37.7     38.3     110.1     2.0  \n",
       "4     36.0     27.2      80.4     2.0  \n",
       "\n",
       "[5 rows x 28 columns]"
      ]
     },
     "execution_count": 10,
     "metadata": {},
     "output_type": "execute_result"
    }
   ],
   "source": [
    "da = pd.read_csv(\"C:/Users/eli/Desktop/nhanes_2015_2016.csv\")\n",
    "da.head()"
   ]
  },
  {
   "cell_type": "code",
   "execution_count": 232,
   "id": "21ae2bb3",
   "metadata": {},
   "outputs": [
    {
     "data": {
      "text/html": [
       "<div>\n",
       "<style scoped>\n",
       "    .dataframe tbody tr th:only-of-type {\n",
       "        vertical-align: middle;\n",
       "    }\n",
       "\n",
       "    .dataframe tbody tr th {\n",
       "        vertical-align: top;\n",
       "    }\n",
       "\n",
       "    .dataframe thead th {\n",
       "        text-align: right;\n",
       "    }\n",
       "</style>\n",
       "<table border=\"1\" class=\"dataframe\">\n",
       "  <thead>\n",
       "    <tr style=\"text-align: right;\">\n",
       "      <th></th>\n",
       "      <th>SEQN</th>\n",
       "      <th>ALQ101</th>\n",
       "      <th>ALQ110</th>\n",
       "      <th>ALQ130</th>\n",
       "      <th>SMQ020</th>\n",
       "      <th>RIAGENDR</th>\n",
       "      <th>RIDAGEYR</th>\n",
       "      <th>RIDRETH1</th>\n",
       "      <th>DMDCITZN</th>\n",
       "      <th>DMDEDUC2</th>\n",
       "      <th>...</th>\n",
       "      <th>BPXSY2</th>\n",
       "      <th>BPXDI2</th>\n",
       "      <th>BMXWT</th>\n",
       "      <th>BMXHT</th>\n",
       "      <th>BMXBMI</th>\n",
       "      <th>BMXLEG</th>\n",
       "      <th>BMXARML</th>\n",
       "      <th>BMXARMC</th>\n",
       "      <th>BMXWAIST</th>\n",
       "      <th>HIQ210</th>\n",
       "    </tr>\n",
       "  </thead>\n",
       "  <tbody>\n",
       "    <tr>\n",
       "      <th>4</th>\n",
       "      <td>83736</td>\n",
       "      <td>2.0</td>\n",
       "      <td>1.0</td>\n",
       "      <td>1.0</td>\n",
       "      <td>2</td>\n",
       "      <td>2</td>\n",
       "      <td>42</td>\n",
       "      <td>4</td>\n",
       "      <td>1.0</td>\n",
       "      <td>4.0</td>\n",
       "      <td>...</td>\n",
       "      <td>114.0</td>\n",
       "      <td>54.0</td>\n",
       "      <td>55.2</td>\n",
       "      <td>164.9</td>\n",
       "      <td>20.3</td>\n",
       "      <td>37.4</td>\n",
       "      <td>36.0</td>\n",
       "      <td>27.2</td>\n",
       "      <td>80.4</td>\n",
       "      <td>2.0</td>\n",
       "    </tr>\n",
       "    <tr>\n",
       "      <th>34</th>\n",
       "      <td>83799</td>\n",
       "      <td>NaN</td>\n",
       "      <td>NaN</td>\n",
       "      <td>NaN</td>\n",
       "      <td>2</td>\n",
       "      <td>2</td>\n",
       "      <td>37</td>\n",
       "      <td>2</td>\n",
       "      <td>1.0</td>\n",
       "      <td>4.0</td>\n",
       "      <td>...</td>\n",
       "      <td>110.0</td>\n",
       "      <td>72.0</td>\n",
       "      <td>66.6</td>\n",
       "      <td>161.6</td>\n",
       "      <td>25.5</td>\n",
       "      <td>NaN</td>\n",
       "      <td>NaN</td>\n",
       "      <td>NaN</td>\n",
       "      <td>NaN</td>\n",
       "      <td>2.0</td>\n",
       "    </tr>\n",
       "    <tr>\n",
       "      <th>50</th>\n",
       "      <td>83828</td>\n",
       "      <td>1.0</td>\n",
       "      <td>NaN</td>\n",
       "      <td>2.0</td>\n",
       "      <td>2</td>\n",
       "      <td>2</td>\n",
       "      <td>39</td>\n",
       "      <td>1</td>\n",
       "      <td>2.0</td>\n",
       "      <td>3.0</td>\n",
       "      <td>...</td>\n",
       "      <td>100.0</td>\n",
       "      <td>62.0</td>\n",
       "      <td>71.3</td>\n",
       "      <td>162.0</td>\n",
       "      <td>27.2</td>\n",
       "      <td>36.8</td>\n",
       "      <td>34.6</td>\n",
       "      <td>29.1</td>\n",
       "      <td>94.6</td>\n",
       "      <td>NaN</td>\n",
       "    </tr>\n",
       "    <tr>\n",
       "      <th>52</th>\n",
       "      <td>83832</td>\n",
       "      <td>2.0</td>\n",
       "      <td>1.0</td>\n",
       "      <td>4.0</td>\n",
       "      <td>2</td>\n",
       "      <td>2</td>\n",
       "      <td>50</td>\n",
       "      <td>1</td>\n",
       "      <td>2.0</td>\n",
       "      <td>1.0</td>\n",
       "      <td>...</td>\n",
       "      <td>NaN</td>\n",
       "      <td>NaN</td>\n",
       "      <td>105.9</td>\n",
       "      <td>157.7</td>\n",
       "      <td>42.6</td>\n",
       "      <td>29.2</td>\n",
       "      <td>35.0</td>\n",
       "      <td>40.7</td>\n",
       "      <td>129.1</td>\n",
       "      <td>NaN</td>\n",
       "    </tr>\n",
       "    <tr>\n",
       "      <th>55</th>\n",
       "      <td>83837</td>\n",
       "      <td>2.0</td>\n",
       "      <td>2.0</td>\n",
       "      <td>NaN</td>\n",
       "      <td>2</td>\n",
       "      <td>2</td>\n",
       "      <td>45</td>\n",
       "      <td>1</td>\n",
       "      <td>1.0</td>\n",
       "      <td>2.0</td>\n",
       "      <td>...</td>\n",
       "      <td>114.0</td>\n",
       "      <td>68.0</td>\n",
       "      <td>77.5</td>\n",
       "      <td>148.3</td>\n",
       "      <td>35.2</td>\n",
       "      <td>30.5</td>\n",
       "      <td>34.0</td>\n",
       "      <td>34.4</td>\n",
       "      <td>107.6</td>\n",
       "      <td>2.0</td>\n",
       "    </tr>\n",
       "  </tbody>\n",
       "</table>\n",
       "<p>5 rows × 28 columns</p>\n",
       "</div>"
      ],
      "text/plain": [
       "     SEQN  ALQ101  ALQ110  ALQ130  SMQ020  RIAGENDR  RIDAGEYR  RIDRETH1  \\\n",
       "4   83736     2.0     1.0     1.0       2         2        42         4   \n",
       "34  83799     NaN     NaN     NaN       2         2        37         2   \n",
       "50  83828     1.0     NaN     2.0       2         2        39         1   \n",
       "52  83832     2.0     1.0     4.0       2         2        50         1   \n",
       "55  83837     2.0     2.0     NaN       2         2        45         1   \n",
       "\n",
       "    DMDCITZN  DMDEDUC2  ...  BPXSY2  BPXDI2  BMXWT  BMXHT  BMXBMI  BMXLEG  \\\n",
       "4        1.0       4.0  ...   114.0    54.0   55.2  164.9    20.3    37.4   \n",
       "34       1.0       4.0  ...   110.0    72.0   66.6  161.6    25.5     NaN   \n",
       "50       2.0       3.0  ...   100.0    62.0   71.3  162.0    27.2    36.8   \n",
       "52       2.0       1.0  ...     NaN     NaN  105.9  157.7    42.6    29.2   \n",
       "55       1.0       2.0  ...   114.0    68.0   77.5  148.3    35.2    30.5   \n",
       "\n",
       "    BMXARML  BMXARMC  BMXWAIST  HIQ210  \n",
       "4      36.0     27.2      80.4     2.0  \n",
       "34      NaN      NaN       NaN     2.0  \n",
       "50     34.6     29.1      94.6     NaN  \n",
       "52     35.0     40.7     129.1     NaN  \n",
       "55     34.0     34.4     107.6     2.0  \n",
       "\n",
       "[5 rows x 28 columns]"
      ]
     },
     "execution_count": 232,
     "metadata": {},
     "output_type": "execute_result"
    }
   ],
   "source": [
    "condition1 = da['RIDAGEYR'] >= 35 \n",
    "condition2 = da['RIDAGEYR'] <= 50\n",
    "condition3 = da['RIAGENDR'] == 2\n",
    "df = da[condition1 & condition2 & condition3]\n",
    "df.head()"
   ]
  },
  {
   "cell_type": "code",
   "execution_count": 233,
   "id": "fd93db45",
   "metadata": {},
   "outputs": [
    {
     "name": "stderr",
     "output_type": "stream",
     "text": [
      "C:\\Users\\eli\\AppData\\Local\\Temp/ipykernel_8076/2568906576.py:2: SettingWithCopyWarning: \n",
      "A value is trying to be set on a copy of a slice from a DataFrame.\n",
      "Try using .loc[row_indexer,col_indexer] = value instead\n",
      "\n",
      "See the caveats in the documentation: https://pandas.pydata.org/pandas-docs/stable/user_guide/indexing.html#returning-a-view-versus-a-copy\n",
      "  df['DMDMARTL'] = df['DMDMARTL'].replace({1:1, 2:0, 3:0, 4:0, 5:0, 6:0, 77: np.nan})\n",
      "C:\\Users\\eli\\AppData\\Local\\Temp/ipykernel_8076/2568906576.py:4: SettingWithCopyWarning: \n",
      "A value is trying to be set on a copy of a slice from a DataFrame.\n",
      "Try using .loc[row_indexer,col_indexer] = value instead\n",
      "\n",
      "See the caveats in the documentation: https://pandas.pydata.org/pandas-docs/stable/user_guide/indexing.html#returning-a-view-versus-a-copy\n",
      "  df['DMDEDUC2'] = df['DMDEDUC2'].replace({1:0, 2:0, 3:0, 4:0, 5:1, 7:np.nan, 9:np.nan})\n"
     ]
    }
   ],
   "source": [
    " # currently married vs who are not currently married\n",
    "df['DMDMARTL'] = df['DMDMARTL'].replace({1:1, 2:0, 3:0, 4:0, 5:0, 6:0, 77: np.nan})\n",
    "# have completed college vs don't have completed college\n",
    "df['DMDEDUC2'] = df['DMDEDUC2'].replace({1:0, 2:0, 3:0, 4:0, 5:1, 7:np.nan, 9:np.nan})"
   ]
  },
  {
   "cell_type": "code",
   "execution_count": 234,
   "id": "7d27a52e",
   "metadata": {},
   "outputs": [
    {
     "data": {
      "text/html": [
       "<div>\n",
       "<style scoped>\n",
       "    .dataframe tbody tr th:only-of-type {\n",
       "        vertical-align: middle;\n",
       "    }\n",
       "\n",
       "    .dataframe tbody tr th {\n",
       "        vertical-align: top;\n",
       "    }\n",
       "\n",
       "    .dataframe thead th {\n",
       "        text-align: right;\n",
       "    }\n",
       "</style>\n",
       "<table border=\"1\" class=\"dataframe\">\n",
       "  <thead>\n",
       "    <tr style=\"text-align: right;\">\n",
       "      <th></th>\n",
       "      <th>DMDMARTL</th>\n",
       "      <th>DMDEDUC2</th>\n",
       "    </tr>\n",
       "  </thead>\n",
       "  <tbody>\n",
       "    <tr>\n",
       "      <th>4</th>\n",
       "      <td>0.0</td>\n",
       "      <td>0.0</td>\n",
       "    </tr>\n",
       "    <tr>\n",
       "      <th>34</th>\n",
       "      <td>1.0</td>\n",
       "      <td>0.0</td>\n",
       "    </tr>\n",
       "    <tr>\n",
       "      <th>50</th>\n",
       "      <td>1.0</td>\n",
       "      <td>0.0</td>\n",
       "    </tr>\n",
       "    <tr>\n",
       "      <th>52</th>\n",
       "      <td>0.0</td>\n",
       "      <td>0.0</td>\n",
       "    </tr>\n",
       "    <tr>\n",
       "      <th>55</th>\n",
       "      <td>1.0</td>\n",
       "      <td>0.0</td>\n",
       "    </tr>\n",
       "    <tr>\n",
       "      <th>...</th>\n",
       "      <td>...</td>\n",
       "      <td>...</td>\n",
       "    </tr>\n",
       "    <tr>\n",
       "      <th>5658</th>\n",
       "      <td>0.0</td>\n",
       "      <td>0.0</td>\n",
       "    </tr>\n",
       "    <tr>\n",
       "      <th>5685</th>\n",
       "      <td>1.0</td>\n",
       "      <td>1.0</td>\n",
       "    </tr>\n",
       "    <tr>\n",
       "      <th>5689</th>\n",
       "      <td>1.0</td>\n",
       "      <td>0.0</td>\n",
       "    </tr>\n",
       "    <tr>\n",
       "      <th>5721</th>\n",
       "      <td>0.0</td>\n",
       "      <td>1.0</td>\n",
       "    </tr>\n",
       "    <tr>\n",
       "      <th>5724</th>\n",
       "      <td>1.0</td>\n",
       "      <td>1.0</td>\n",
       "    </tr>\n",
       "  </tbody>\n",
       "</table>\n",
       "<p>787 rows × 2 columns</p>\n",
       "</div>"
      ],
      "text/plain": [
       "      DMDMARTL  DMDEDUC2\n",
       "4          0.0       0.0\n",
       "34         1.0       0.0\n",
       "50         1.0       0.0\n",
       "52         0.0       0.0\n",
       "55         1.0       0.0\n",
       "...        ...       ...\n",
       "5658       0.0       0.0\n",
       "5685       1.0       1.0\n",
       "5689       1.0       0.0\n",
       "5721       0.0       1.0\n",
       "5724       1.0       1.0\n",
       "\n",
       "[787 rows x 2 columns]"
      ]
     },
     "execution_count": 234,
     "metadata": {},
     "output_type": "execute_result"
    }
   ],
   "source": [
    "dz = df[['DMDMARTL', 'DMDEDUC2']].dropna() \n",
    "dz"
   ]
  },
  {
   "cell_type": "code",
   "execution_count": 235,
   "id": "16ee4eae",
   "metadata": {},
   "outputs": [
    {
     "data": {
      "text/html": [
       "<div>\n",
       "<style scoped>\n",
       "    .dataframe tbody tr th:only-of-type {\n",
       "        vertical-align: middle;\n",
       "    }\n",
       "\n",
       "    .dataframe tbody tr th {\n",
       "        vertical-align: top;\n",
       "    }\n",
       "\n",
       "    .dataframe thead th {\n",
       "        text-align: right;\n",
       "    }\n",
       "</style>\n",
       "<table border=\"1\" class=\"dataframe\">\n",
       "  <thead>\n",
       "    <tr style=\"text-align: right;\">\n",
       "      <th></th>\n",
       "      <th>Proportion of College Completed</th>\n",
       "      <th>Total n</th>\n",
       "    </tr>\n",
       "    <tr>\n",
       "      <th>DMDMARTL</th>\n",
       "      <th></th>\n",
       "      <th></th>\n",
       "    </tr>\n",
       "  </thead>\n",
       "  <tbody>\n",
       "    <tr>\n",
       "      <th>0.0</th>\n",
       "      <td>0.213018</td>\n",
       "      <td>338</td>\n",
       "    </tr>\n",
       "    <tr>\n",
       "      <th>1.0</th>\n",
       "      <td>0.360802</td>\n",
       "      <td>449</td>\n",
       "    </tr>\n",
       "  </tbody>\n",
       "</table>\n",
       "</div>"
      ],
      "text/plain": [
       "          Proportion of College Completed  Total n\n",
       "DMDMARTL                                          \n",
       "0.0                              0.213018      338\n",
       "1.0                              0.360802      449"
      ]
     },
     "execution_count": 235,
     "metadata": {},
     "output_type": "execute_result"
    }
   ],
   "source": [
    "dx = dz.groupby('DMDMARTL').agg({'DMDEDUC2': [np.mean, np.size]})\n",
    "dx.columns = [\"Proportion of College Completed\", \"Total n\"]\n",
    "dx"
   ]
  },
  {
   "cell_type": "code",
   "execution_count": 236,
   "id": "b44c3347",
   "metadata": {},
   "outputs": [
    {
     "data": {
      "text/plain": [
       "0.04365040446502326"
      ]
     },
     "execution_count": 236,
     "metadata": {},
     "output_type": "execute_result"
    }
   ],
   "source": [
    "# 95% confidence intervals for unmarried women with college degree\n",
    "p_hat1 = 0.213018\n",
    "q_hat1 = 1 - p_hat1\n",
    "n1 = 338\n",
    "Z_score = 1.96\n",
    "E = Z_score * np.sqrt(p_hat1 * q_hat1 / n1)\n",
    "E"
   ]
  },
  {
   "cell_type": "code",
   "execution_count": 237,
   "id": "769428ed",
   "metadata": {},
   "outputs": [
    {
     "data": {
      "text/plain": [
       "0.16936759553497677"
      ]
     },
     "execution_count": 237,
     "metadata": {},
     "output_type": "execute_result"
    }
   ],
   "source": [
    "low_b = p_hat1 - E\n",
    "low_b"
   ]
  },
  {
   "cell_type": "code",
   "execution_count": 238,
   "id": "f8a2324f",
   "metadata": {},
   "outputs": [
    {
     "data": {
      "text/plain": [
       "0.25666840446502326"
      ]
     },
     "execution_count": 238,
     "metadata": {},
     "output_type": "execute_result"
    }
   ],
   "source": [
    "upper_b = p_hat1 + E\n",
    "upper_b"
   ]
  },
  {
   "cell_type": "markdown",
   "id": "2a57ca30",
   "metadata": {},
   "source": [
    "**I am 95% sure that population proportion of unmarried women with college degree is between 0.16936759553497677 and 0.25666840446502326"
   ]
  },
  {
   "cell_type": "code",
   "execution_count": 239,
   "id": "7cd88038",
   "metadata": {},
   "outputs": [
    {
     "data": {
      "text/plain": [
       "0.04442066672158364"
      ]
     },
     "execution_count": 239,
     "metadata": {},
     "output_type": "execute_result"
    }
   ],
   "source": [
    "# 95% confidence intervals for married women with college degree\n",
    "p_hat2 =  0.360802\n",
    "q_hat2 = 1 - p_hat2\n",
    "n2 = 449\n",
    "Z_score = 1.96\n",
    "E_2 = Z_score * np.sqrt(p_hat2 * q_hat2 / n2)\n",
    "E_2"
   ]
  },
  {
   "cell_type": "code",
   "execution_count": 240,
   "id": "1390f765",
   "metadata": {},
   "outputs": [
    {
     "data": {
      "text/plain": [
       "0.3163813332784164"
      ]
     },
     "execution_count": 240,
     "metadata": {},
     "output_type": "execute_result"
    }
   ],
   "source": [
    "low_b_2 = p_hat2 - E_2\n",
    "low_b_2"
   ]
  },
  {
   "cell_type": "code",
   "execution_count": 241,
   "id": "f308dbbe",
   "metadata": {},
   "outputs": [
    {
     "data": {
      "text/plain": [
       "0.40522266672158364"
      ]
     },
     "execution_count": 241,
     "metadata": {},
     "output_type": "execute_result"
    }
   ],
   "source": [
    "upper_b_2 = p_hat2 + E_2\n",
    "upper_b_2"
   ]
  },
  {
   "cell_type": "markdown",
   "id": "5cca9b33",
   "metadata": {},
   "source": [
    "**I am 95% sure that population proportion of married women with college degree is between 0.3163813332784164 and 0.40522266672158364"
   ]
  },
  {
   "cell_type": "markdown",
   "id": "65899795",
   "metadata": {},
   "source": [
    "**Question 2\n",
    "\n",
    "**Construct a 95% confidence interval for the proportion of smokers who are female. Construct a 95% confidence interval for the proportion of smokers who are male. Construct a 95% confidence interval for the difference between those two gender proportions.\n"
   ]
  },
  {
   "cell_type": "code",
   "execution_count": 93,
   "id": "efb4292e",
   "metadata": {},
   "outputs": [
    {
     "data": {
      "text/html": [
       "<div>\n",
       "<style scoped>\n",
       "    .dataframe tbody tr th:only-of-type {\n",
       "        vertical-align: middle;\n",
       "    }\n",
       "\n",
       "    .dataframe tbody tr th {\n",
       "        vertical-align: top;\n",
       "    }\n",
       "\n",
       "    .dataframe thead th {\n",
       "        text-align: right;\n",
       "    }\n",
       "</style>\n",
       "<table border=\"1\" class=\"dataframe\">\n",
       "  <thead>\n",
       "    <tr style=\"text-align: right;\">\n",
       "      <th></th>\n",
       "      <th>SEQN</th>\n",
       "      <th>ALQ101</th>\n",
       "      <th>ALQ110</th>\n",
       "      <th>ALQ130</th>\n",
       "      <th>SMQ020</th>\n",
       "      <th>RIAGENDR</th>\n",
       "      <th>RIDAGEYR</th>\n",
       "      <th>RIDRETH1</th>\n",
       "      <th>DMDCITZN</th>\n",
       "      <th>DMDEDUC2</th>\n",
       "      <th>...</th>\n",
       "      <th>BPXSY2</th>\n",
       "      <th>BPXDI2</th>\n",
       "      <th>BMXWT</th>\n",
       "      <th>BMXHT</th>\n",
       "      <th>BMXBMI</th>\n",
       "      <th>BMXLEG</th>\n",
       "      <th>BMXARML</th>\n",
       "      <th>BMXARMC</th>\n",
       "      <th>BMXWAIST</th>\n",
       "      <th>HIQ210</th>\n",
       "    </tr>\n",
       "  </thead>\n",
       "  <tbody>\n",
       "    <tr>\n",
       "      <th>0</th>\n",
       "      <td>83732</td>\n",
       "      <td>1.0</td>\n",
       "      <td>NaN</td>\n",
       "      <td>1.0</td>\n",
       "      <td>1</td>\n",
       "      <td>1</td>\n",
       "      <td>62</td>\n",
       "      <td>3</td>\n",
       "      <td>1.0</td>\n",
       "      <td>5.0</td>\n",
       "      <td>...</td>\n",
       "      <td>124.0</td>\n",
       "      <td>64.0</td>\n",
       "      <td>94.8</td>\n",
       "      <td>184.5</td>\n",
       "      <td>27.8</td>\n",
       "      <td>43.3</td>\n",
       "      <td>43.6</td>\n",
       "      <td>35.9</td>\n",
       "      <td>101.1</td>\n",
       "      <td>2.0</td>\n",
       "    </tr>\n",
       "    <tr>\n",
       "      <th>1</th>\n",
       "      <td>83733</td>\n",
       "      <td>1.0</td>\n",
       "      <td>NaN</td>\n",
       "      <td>6.0</td>\n",
       "      <td>1</td>\n",
       "      <td>1</td>\n",
       "      <td>53</td>\n",
       "      <td>3</td>\n",
       "      <td>2.0</td>\n",
       "      <td>3.0</td>\n",
       "      <td>...</td>\n",
       "      <td>140.0</td>\n",
       "      <td>88.0</td>\n",
       "      <td>90.4</td>\n",
       "      <td>171.4</td>\n",
       "      <td>30.8</td>\n",
       "      <td>38.0</td>\n",
       "      <td>40.0</td>\n",
       "      <td>33.2</td>\n",
       "      <td>107.9</td>\n",
       "      <td>NaN</td>\n",
       "    </tr>\n",
       "    <tr>\n",
       "      <th>2</th>\n",
       "      <td>83734</td>\n",
       "      <td>1.0</td>\n",
       "      <td>NaN</td>\n",
       "      <td>NaN</td>\n",
       "      <td>1</td>\n",
       "      <td>1</td>\n",
       "      <td>78</td>\n",
       "      <td>3</td>\n",
       "      <td>1.0</td>\n",
       "      <td>3.0</td>\n",
       "      <td>...</td>\n",
       "      <td>132.0</td>\n",
       "      <td>44.0</td>\n",
       "      <td>83.4</td>\n",
       "      <td>170.1</td>\n",
       "      <td>28.8</td>\n",
       "      <td>35.6</td>\n",
       "      <td>37.0</td>\n",
       "      <td>31.0</td>\n",
       "      <td>116.5</td>\n",
       "      <td>2.0</td>\n",
       "    </tr>\n",
       "    <tr>\n",
       "      <th>3</th>\n",
       "      <td>83735</td>\n",
       "      <td>2.0</td>\n",
       "      <td>1.0</td>\n",
       "      <td>1.0</td>\n",
       "      <td>2</td>\n",
       "      <td>2</td>\n",
       "      <td>56</td>\n",
       "      <td>3</td>\n",
       "      <td>1.0</td>\n",
       "      <td>5.0</td>\n",
       "      <td>...</td>\n",
       "      <td>134.0</td>\n",
       "      <td>68.0</td>\n",
       "      <td>109.8</td>\n",
       "      <td>160.9</td>\n",
       "      <td>42.4</td>\n",
       "      <td>38.5</td>\n",
       "      <td>37.7</td>\n",
       "      <td>38.3</td>\n",
       "      <td>110.1</td>\n",
       "      <td>2.0</td>\n",
       "    </tr>\n",
       "    <tr>\n",
       "      <th>4</th>\n",
       "      <td>83736</td>\n",
       "      <td>2.0</td>\n",
       "      <td>1.0</td>\n",
       "      <td>1.0</td>\n",
       "      <td>2</td>\n",
       "      <td>2</td>\n",
       "      <td>42</td>\n",
       "      <td>4</td>\n",
       "      <td>1.0</td>\n",
       "      <td>4.0</td>\n",
       "      <td>...</td>\n",
       "      <td>114.0</td>\n",
       "      <td>54.0</td>\n",
       "      <td>55.2</td>\n",
       "      <td>164.9</td>\n",
       "      <td>20.3</td>\n",
       "      <td>37.4</td>\n",
       "      <td>36.0</td>\n",
       "      <td>27.2</td>\n",
       "      <td>80.4</td>\n",
       "      <td>2.0</td>\n",
       "    </tr>\n",
       "  </tbody>\n",
       "</table>\n",
       "<p>5 rows × 28 columns</p>\n",
       "</div>"
      ],
      "text/plain": [
       "    SEQN  ALQ101  ALQ110  ALQ130  SMQ020  RIAGENDR  RIDAGEYR  RIDRETH1  \\\n",
       "0  83732     1.0     NaN     1.0       1         1        62         3   \n",
       "1  83733     1.0     NaN     6.0       1         1        53         3   \n",
       "2  83734     1.0     NaN     NaN       1         1        78         3   \n",
       "3  83735     2.0     1.0     1.0       2         2        56         3   \n",
       "4  83736     2.0     1.0     1.0       2         2        42         4   \n",
       "\n",
       "   DMDCITZN  DMDEDUC2  ...  BPXSY2  BPXDI2  BMXWT  BMXHT  BMXBMI  BMXLEG  \\\n",
       "0       1.0       5.0  ...   124.0    64.0   94.8  184.5    27.8    43.3   \n",
       "1       2.0       3.0  ...   140.0    88.0   90.4  171.4    30.8    38.0   \n",
       "2       1.0       3.0  ...   132.0    44.0   83.4  170.1    28.8    35.6   \n",
       "3       1.0       5.0  ...   134.0    68.0  109.8  160.9    42.4    38.5   \n",
       "4       1.0       4.0  ...   114.0    54.0   55.2  164.9    20.3    37.4   \n",
       "\n",
       "   BMXARML  BMXARMC  BMXWAIST  HIQ210  \n",
       "0     43.6     35.9     101.1     2.0  \n",
       "1     40.0     33.2     107.9     NaN  \n",
       "2     37.0     31.0     116.5     2.0  \n",
       "3     37.7     38.3     110.1     2.0  \n",
       "4     36.0     27.2      80.4     2.0  \n",
       "\n",
       "[5 rows x 28 columns]"
      ]
     },
     "execution_count": 93,
     "metadata": {},
     "output_type": "execute_result"
    }
   ],
   "source": [
    "df = da.copy()\n",
    "df.head()"
   ]
  },
  {
   "cell_type": "code",
   "execution_count": 95,
   "id": "bb8bd5a0",
   "metadata": {},
   "outputs": [
    {
     "data": {
      "text/html": [
       "<div>\n",
       "<style scoped>\n",
       "    .dataframe tbody tr th:only-of-type {\n",
       "        vertical-align: middle;\n",
       "    }\n",
       "\n",
       "    .dataframe tbody tr th {\n",
       "        vertical-align: top;\n",
       "    }\n",
       "\n",
       "    .dataframe thead th {\n",
       "        text-align: right;\n",
       "    }\n",
       "</style>\n",
       "<table border=\"1\" class=\"dataframe\">\n",
       "  <thead>\n",
       "    <tr style=\"text-align: right;\">\n",
       "      <th></th>\n",
       "      <th>smoker</th>\n",
       "      <th>gender</th>\n",
       "    </tr>\n",
       "  </thead>\n",
       "  <tbody>\n",
       "    <tr>\n",
       "      <th>0</th>\n",
       "      <td>1.0</td>\n",
       "      <td>1</td>\n",
       "    </tr>\n",
       "    <tr>\n",
       "      <th>1</th>\n",
       "      <td>1.0</td>\n",
       "      <td>1</td>\n",
       "    </tr>\n",
       "    <tr>\n",
       "      <th>2</th>\n",
       "      <td>1.0</td>\n",
       "      <td>1</td>\n",
       "    </tr>\n",
       "    <tr>\n",
       "      <th>3</th>\n",
       "      <td>0.0</td>\n",
       "      <td>2</td>\n",
       "    </tr>\n",
       "    <tr>\n",
       "      <th>4</th>\n",
       "      <td>0.0</td>\n",
       "      <td>2</td>\n",
       "    </tr>\n",
       "    <tr>\n",
       "      <th>...</th>\n",
       "      <td>...</td>\n",
       "      <td>...</td>\n",
       "    </tr>\n",
       "    <tr>\n",
       "      <th>5730</th>\n",
       "      <td>1.0</td>\n",
       "      <td>2</td>\n",
       "    </tr>\n",
       "    <tr>\n",
       "      <th>5731</th>\n",
       "      <td>0.0</td>\n",
       "      <td>1</td>\n",
       "    </tr>\n",
       "    <tr>\n",
       "      <th>5732</th>\n",
       "      <td>1.0</td>\n",
       "      <td>2</td>\n",
       "    </tr>\n",
       "    <tr>\n",
       "      <th>5733</th>\n",
       "      <td>1.0</td>\n",
       "      <td>1</td>\n",
       "    </tr>\n",
       "    <tr>\n",
       "      <th>5734</th>\n",
       "      <td>0.0</td>\n",
       "      <td>2</td>\n",
       "    </tr>\n",
       "  </tbody>\n",
       "</table>\n",
       "<p>5725 rows × 2 columns</p>\n",
       "</div>"
      ],
      "text/plain": [
       "      smoker  gender\n",
       "0        1.0       1\n",
       "1        1.0       1\n",
       "2        1.0       1\n",
       "3        0.0       2\n",
       "4        0.0       2\n",
       "...      ...     ...\n",
       "5730     1.0       2\n",
       "5731     0.0       1\n",
       "5732     1.0       2\n",
       "5733     1.0       1\n",
       "5734     0.0       2\n",
       "\n",
       "[5725 rows x 2 columns]"
      ]
     },
     "execution_count": 95,
     "metadata": {},
     "output_type": "execute_result"
    }
   ],
   "source": [
    "df['smoker'] = da['SMQ020'].map({1: 1, 2: 0})  # np.nan represents a missing value\n",
    "df['gender'] = df.RIAGENDR.map({1: 1, 2: 2})\n",
    "dx = df[['smoker', 'gender']].dropna() # drop np.nan\n",
    "dx"
   ]
  },
  {
   "cell_type": "code",
   "execution_count": 96,
   "id": "d618a9da",
   "metadata": {},
   "outputs": [
    {
     "data": {
      "text/html": [
       "<div>\n",
       "<style scoped>\n",
       "    .dataframe tbody tr th:only-of-type {\n",
       "        vertical-align: middle;\n",
       "    }\n",
       "\n",
       "    .dataframe tbody tr th {\n",
       "        vertical-align: top;\n",
       "    }\n",
       "\n",
       "    .dataframe thead tr th {\n",
       "        text-align: left;\n",
       "    }\n",
       "\n",
       "    .dataframe thead tr:last-of-type th {\n",
       "        text-align: right;\n",
       "    }\n",
       "</style>\n",
       "<table border=\"1\" class=\"dataframe\">\n",
       "  <thead>\n",
       "    <tr>\n",
       "      <th></th>\n",
       "      <th colspan=\"2\" halign=\"left\">smoker</th>\n",
       "    </tr>\n",
       "    <tr>\n",
       "      <th></th>\n",
       "      <th>mean</th>\n",
       "      <th>size</th>\n",
       "    </tr>\n",
       "    <tr>\n",
       "      <th>gender</th>\n",
       "      <th></th>\n",
       "      <th></th>\n",
       "    </tr>\n",
       "  </thead>\n",
       "  <tbody>\n",
       "    <tr>\n",
       "      <th>1</th>\n",
       "      <td>0.513258</td>\n",
       "      <td>2753</td>\n",
       "    </tr>\n",
       "    <tr>\n",
       "      <th>2</th>\n",
       "      <td>0.304845</td>\n",
       "      <td>2972</td>\n",
       "    </tr>\n",
       "  </tbody>\n",
       "</table>\n",
       "</div>"
      ],
      "text/plain": [
       "          smoker      \n",
       "            mean  size\n",
       "gender                \n",
       "1       0.513258  2753\n",
       "2       0.304845  2972"
      ]
     },
     "execution_count": 96,
     "metadata": {},
     "output_type": "execute_result"
    }
   ],
   "source": [
    "dz = dx.groupby('gender').agg({'smoker': [np.mean, np.size]}) \n",
    "dz"
   ]
  },
  {
   "cell_type": "code",
   "execution_count": 97,
   "id": "508b1c8b",
   "metadata": {},
   "outputs": [
    {
     "data": {
      "text/plain": [
       "0.01867111442253757"
      ]
     },
     "execution_count": 97,
     "metadata": {},
     "output_type": "execute_result"
    }
   ],
   "source": [
    "# Estimate population proportion for men that are smokers\n",
    "p_hat = 0.513258\n",
    "q_hat = 1 - p_hat\n",
    "n = 2753\n",
    "E = Z_score * np.sqrt(p_hat * q_hat / n)\n",
    "E"
   ]
  },
  {
   "cell_type": "code",
   "execution_count": 98,
   "id": "5563ef9c",
   "metadata": {},
   "outputs": [
    {
     "data": {
      "text/plain": [
       "0.49458688557746244"
      ]
     },
     "execution_count": 98,
     "metadata": {},
     "output_type": "execute_result"
    }
   ],
   "source": [
    "low_b = p_hat - E\n",
    "low_b"
   ]
  },
  {
   "cell_type": "code",
   "execution_count": 99,
   "id": "48182808",
   "metadata": {},
   "outputs": [
    {
     "data": {
      "text/plain": [
       "0.5319291144225375"
      ]
     },
     "execution_count": 99,
     "metadata": {},
     "output_type": "execute_result"
    }
   ],
   "source": [
    "upper_b = p_hat + E\n",
    "upper_b"
   ]
  },
  {
   "cell_type": "code",
   "execution_count": 101,
   "id": "5fe0382f",
   "metadata": {},
   "outputs": [
    {
     "data": {
      "text/html": [
       "<div>\n",
       "<style scoped>\n",
       "    .dataframe tbody tr th:only-of-type {\n",
       "        vertical-align: middle;\n",
       "    }\n",
       "\n",
       "    .dataframe tbody tr th {\n",
       "        vertical-align: top;\n",
       "    }\n",
       "\n",
       "    .dataframe thead tr th {\n",
       "        text-align: left;\n",
       "    }\n",
       "\n",
       "    .dataframe thead tr:last-of-type th {\n",
       "        text-align: right;\n",
       "    }\n",
       "</style>\n",
       "<table border=\"1\" class=\"dataframe\">\n",
       "  <thead>\n",
       "    <tr>\n",
       "      <th></th>\n",
       "      <th colspan=\"3\" halign=\"left\">smoker</th>\n",
       "    </tr>\n",
       "    <tr>\n",
       "      <th></th>\n",
       "      <th>sum</th>\n",
       "      <th>mean</th>\n",
       "      <th>size</th>\n",
       "    </tr>\n",
       "    <tr>\n",
       "      <th>gender</th>\n",
       "      <th></th>\n",
       "      <th></th>\n",
       "      <th></th>\n",
       "    </tr>\n",
       "  </thead>\n",
       "  <tbody>\n",
       "    <tr>\n",
       "      <th>1</th>\n",
       "      <td>1413.0</td>\n",
       "      <td>0.513258</td>\n",
       "      <td>2753</td>\n",
       "    </tr>\n",
       "    <tr>\n",
       "      <th>2</th>\n",
       "      <td>906.0</td>\n",
       "      <td>0.304845</td>\n",
       "      <td>2972</td>\n",
       "    </tr>\n",
       "  </tbody>\n",
       "</table>\n",
       "</div>"
      ],
      "text/plain": [
       "        smoker                \n",
       "           sum      mean  size\n",
       "gender                        \n",
       "1       1413.0  0.513258  2753\n",
       "2        906.0  0.304845  2972"
      ]
     },
     "execution_count": 101,
     "metadata": {},
     "output_type": "execute_result"
    }
   ],
   "source": [
    "# Another way\n",
    "dz = dx.groupby('gender').agg({'smoker': [np.sum, np.mean, np.size]}) \n",
    "dz"
   ]
  },
  {
   "cell_type": "code",
   "execution_count": 114,
   "id": "9d1880e6",
   "metadata": {},
   "outputs": [
    {
     "data": {
      "text/plain": [
       "(0.49458749263718593, 0.5319290347874418)"
      ]
     },
     "execution_count": 114,
     "metadata": {},
     "output_type": "execute_result"
    }
   ],
   "source": [
    "from statsmodels.stats import proportion\n",
    "male = proportion.proportion_confint(1413,2753)\n",
    "male"
   ]
  },
  {
   "cell_type": "markdown",
   "id": "52544d8c",
   "metadata": {},
   "source": [
    "**I am 95% sure that population proportion for men smokers is between 0.49458749263718593 and 0.5319290347874418)"
   ]
  },
  {
   "cell_type": "code",
   "execution_count": 113,
   "id": "48ea8599",
   "metadata": {},
   "outputs": [
    {
     "data": {
      "text/plain": [
       "(0.2882949879861214, 0.32139545615923526)"
      ]
     },
     "execution_count": 113,
     "metadata": {},
     "output_type": "execute_result"
    }
   ],
   "source": [
    "female = proportion.proportion_confint(906,2972) # for 95% conf. interval\n",
    "female"
   ]
  },
  {
   "cell_type": "code",
   "execution_count": 117,
   "id": "25ead755",
   "metadata": {},
   "outputs": [
    {
     "data": {
      "text/plain": [
       "0.024950565457887045"
      ]
     },
     "execution_count": 117,
     "metadata": {},
     "output_type": "execute_result"
    }
   ],
   "source": [
    "diff = Z_score * np.sqrt((0.513258 * (1 - 0.513258) / 2753) + (0.304845 * (1 - 0.304845) / 2972))\n",
    "diff"
   ]
  },
  {
   "cell_type": "code",
   "execution_count": 118,
   "id": "c944c1c9",
   "metadata": {},
   "outputs": [
    {
     "data": {
      "text/plain": [
       "0.18346243454211297"
      ]
     },
     "execution_count": 118,
     "metadata": {},
     "output_type": "execute_result"
    }
   ],
   "source": [
    "lower = (0.513258 - 0.304845) - diff\n",
    "lower"
   ]
  },
  {
   "cell_type": "code",
   "execution_count": 119,
   "id": "d932c548",
   "metadata": {},
   "outputs": [
    {
     "data": {
      "text/plain": [
       "0.23336356545788706"
      ]
     },
     "execution_count": 119,
     "metadata": {},
     "output_type": "execute_result"
    }
   ],
   "source": [
    "upper = (0.513258 - 0.304845) + diff\n",
    "upper"
   ]
  },
  {
   "cell_type": "markdown",
   "id": "19fc7066",
   "metadata": {},
   "source": [
    "**I am 95% sure that population proportion difference between those two gender proportions (women smokers - men smokers) is between 0.18346243454211297 and 0.23336356545788706  "
   ]
  },
  {
   "cell_type": "markdown",
   "id": "7e6f4ce3",
   "metadata": {},
   "source": [
    "**Question 3\n",
    "\n",
    "**Construct a 95% interval for height (BMXHT) in centimeters. Then convert height from centimeters to inches by dividing by 2.54, and construct a 95% confidence interval for height in inches. Finally, convert the endpoints (the lower and upper confidence limits) of the confidence interval from inches to back to centimeters\n"
   ]
  },
  {
   "cell_type": "code",
   "execution_count": 122,
   "id": "f8593460",
   "metadata": {},
   "outputs": [
    {
     "data": {
      "text/plain": [
       "count    5673.000000\n",
       "mean      166.142834\n",
       "std        10.079264\n",
       "min       129.700000\n",
       "25%       158.700000\n",
       "50%       166.000000\n",
       "75%       173.500000\n",
       "max       202.700000\n",
       "Name: BMXHT, dtype: float64"
      ]
     },
     "execution_count": 122,
     "metadata": {},
     "output_type": "execute_result"
    }
   ],
   "source": [
    "df['BMXHT'].dropna()\n",
    "df['BMXHT'].describe()"
   ]
  },
  {
   "cell_type": "code",
   "execution_count": 123,
   "id": "a155c846",
   "metadata": {},
   "outputs": [
    {
     "data": {
      "text/plain": [
       "5735"
      ]
     },
     "execution_count": 123,
     "metadata": {},
     "output_type": "execute_result"
    }
   ],
   "source": [
    "X_bar = 166.142834\n",
    "s =  10.079264\n",
    "n = len(df)\n",
    "n"
   ]
  },
  {
   "cell_type": "code",
   "execution_count": 125,
   "id": "bba47d23",
   "metadata": {},
   "outputs": [
    {
     "data": {
      "text/plain": [
       "0.26086642156664686"
      ]
     },
     "execution_count": 125,
     "metadata": {},
     "output_type": "execute_result"
    }
   ],
   "source": [
    "E = 1.96 * s/np.sqrt(n)\n",
    "E"
   ]
  },
  {
   "cell_type": "code",
   "execution_count": 126,
   "id": "ead0a695",
   "metadata": {},
   "outputs": [
    {
     "data": {
      "text/plain": [
       "165.88196757843335"
      ]
     },
     "execution_count": 126,
     "metadata": {},
     "output_type": "execute_result"
    }
   ],
   "source": [
    "lower = X_bar - E\n",
    "lower"
   ]
  },
  {
   "cell_type": "code",
   "execution_count": 127,
   "id": "1a74fc86",
   "metadata": {},
   "outputs": [
    {
     "data": {
      "text/plain": [
       "166.40370042156664"
      ]
     },
     "execution_count": 127,
     "metadata": {},
     "output_type": "execute_result"
    }
   ],
   "source": [
    "upper = X_bar + E\n",
    "upper"
   ]
  },
  {
   "cell_type": "markdown",
   "id": "82aaada1",
   "metadata": {},
   "source": [
    "**I am 95% that population mean for height (BMXHT) in centimeters is between 165.88196757843335 and 166.40370042156664"
   ]
  },
  {
   "cell_type": "code",
   "execution_count": 128,
   "id": "4524130d",
   "metadata": {},
   "outputs": [
    {
     "data": {
      "text/plain": [
       "0       72.637795\n",
       "1       67.480315\n",
       "2       66.968504\n",
       "3       63.346457\n",
       "4       64.921260\n",
       "          ...    \n",
       "5730    65.275591\n",
       "5731    71.732283\n",
       "5732    59.921260\n",
       "5733    68.228346\n",
       "5734    64.960630\n",
       "Name: BMXHT, Length: 5735, dtype: float64"
      ]
     },
     "execution_count": 128,
     "metadata": {},
     "output_type": "execute_result"
    }
   ],
   "source": [
    "df['BMXHT'] = df['BMXHT'] / 2.54 # in inches\n",
    "df['BMXHT']"
   ]
  },
  {
   "cell_type": "code",
   "execution_count": 129,
   "id": "7f26e3a3",
   "metadata": {},
   "outputs": [
    {
     "data": {
      "text/plain": [
       "count    5673.000000\n",
       "mean       65.410565\n",
       "std         3.968214\n",
       "min        51.062992\n",
       "25%        62.480315\n",
       "50%        65.354331\n",
       "75%        68.307087\n",
       "max        79.803150\n",
       "Name: BMXHT, dtype: float64"
      ]
     },
     "execution_count": 129,
     "metadata": {},
     "output_type": "execute_result"
    }
   ],
   "source": [
    "df['BMXHT'].describe()"
   ]
  },
  {
   "cell_type": "code",
   "execution_count": 130,
   "id": "c3b2966d",
   "metadata": {},
   "outputs": [
    {
     "data": {
      "text/plain": [
       "5735"
      ]
     },
     "execution_count": 130,
     "metadata": {},
     "output_type": "execute_result"
    }
   ],
   "source": [
    "X_bar =  65.410565\n",
    "s =  3.968214\n",
    "n = len(df)\n",
    "n"
   ]
  },
  {
   "cell_type": "code",
   "execution_count": 131,
   "id": "a5278324",
   "metadata": {},
   "outputs": [
    {
     "data": {
      "text/plain": [
       "0.10270331109401143"
      ]
     },
     "execution_count": 131,
     "metadata": {},
     "output_type": "execute_result"
    }
   ],
   "source": [
    "E = 1.96 * s/np.sqrt(n)\n",
    "E"
   ]
  },
  {
   "cell_type": "code",
   "execution_count": 132,
   "id": "5628f582",
   "metadata": {},
   "outputs": [
    {
     "data": {
      "text/plain": [
       "65.30786168890599"
      ]
     },
     "execution_count": 132,
     "metadata": {},
     "output_type": "execute_result"
    }
   ],
   "source": [
    "lower = X_bar - E\n",
    "lower"
   ]
  },
  {
   "cell_type": "code",
   "execution_count": 133,
   "id": "6e10397a",
   "metadata": {},
   "outputs": [
    {
     "data": {
      "text/plain": [
       "65.51326831109402"
      ]
     },
     "execution_count": 133,
     "metadata": {},
     "output_type": "execute_result"
    }
   ],
   "source": [
    "upper = X_bar + E\n",
    "upper"
   ]
  },
  {
   "cell_type": "markdown",
   "id": "a021e252",
   "metadata": {},
   "source": [
    "**I am 95% that population mean for height (BMXHT) in inches is between 65.30786168890599 and 65.51326831109402"
   ]
  },
  {
   "cell_type": "code",
   "execution_count": 134,
   "id": "a3f7e3ac",
   "metadata": {},
   "outputs": [
    {
     "data": {
      "text/plain": [
       "165.8819686898212"
      ]
     },
     "execution_count": 134,
     "metadata": {},
     "output_type": "execute_result"
    }
   ],
   "source": [
    "lower_cm = lower * 2.54 # back to cm\n",
    "lower_cm"
   ]
  },
  {
   "cell_type": "code",
   "execution_count": 136,
   "id": "ea57ad70",
   "metadata": {},
   "outputs": [
    {
     "data": {
      "text/plain": [
       "166.40370151017882"
      ]
     },
     "execution_count": 136,
     "metadata": {},
     "output_type": "execute_result"
    }
   ],
   "source": [
    "upper_cm = upper * 2.54\n",
    "upper_cm"
   ]
  },
  {
   "cell_type": "markdown",
   "id": "4582c000",
   "metadata": {},
   "source": [
    "**Question 4\n",
    "\n",
    "**Partition the sample based on 10-year age bands, i.e. the resulting groups will consist of people with ages from 18-28, 29-38, etc. Construct 95% confidence intervals for the difference between the mean BMI for females and for males within each age band.\n"
   ]
  },
  {
   "cell_type": "code",
   "execution_count": 184,
   "id": "0e41be8b",
   "metadata": {},
   "outputs": [],
   "source": [
    "df = da.copy()\n",
    "df['agegrp'] = pd.cut(x=df.RIDAGEYR, bins=[18,28,38,48,58,68,78,88])\n",
    "df['gender'] = df.RIAGENDR.map({1: 1, 2: 2})"
   ]
  },
  {
   "cell_type": "code",
   "execution_count": 187,
   "id": "0582e128",
   "metadata": {},
   "outputs": [
    {
     "data": {
      "text/html": [
       "<div>\n",
       "<style scoped>\n",
       "    .dataframe tbody tr th:only-of-type {\n",
       "        vertical-align: middle;\n",
       "    }\n",
       "\n",
       "    .dataframe tbody tr th {\n",
       "        vertical-align: top;\n",
       "    }\n",
       "\n",
       "    .dataframe thead th {\n",
       "        text-align: right;\n",
       "    }\n",
       "</style>\n",
       "<table border=\"1\" class=\"dataframe\">\n",
       "  <thead>\n",
       "    <tr style=\"text-align: right;\">\n",
       "      <th></th>\n",
       "      <th>agegrp</th>\n",
       "      <th>gender</th>\n",
       "      <th>BMXBMI</th>\n",
       "    </tr>\n",
       "  </thead>\n",
       "  <tbody>\n",
       "    <tr>\n",
       "      <th>0</th>\n",
       "      <td>(58, 68]</td>\n",
       "      <td>1</td>\n",
       "      <td>27.8</td>\n",
       "    </tr>\n",
       "    <tr>\n",
       "      <th>1</th>\n",
       "      <td>(48, 58]</td>\n",
       "      <td>1</td>\n",
       "      <td>30.8</td>\n",
       "    </tr>\n",
       "    <tr>\n",
       "      <th>2</th>\n",
       "      <td>(68, 78]</td>\n",
       "      <td>1</td>\n",
       "      <td>28.8</td>\n",
       "    </tr>\n",
       "    <tr>\n",
       "      <th>3</th>\n",
       "      <td>(48, 58]</td>\n",
       "      <td>2</td>\n",
       "      <td>42.4</td>\n",
       "    </tr>\n",
       "    <tr>\n",
       "      <th>4</th>\n",
       "      <td>(38, 48]</td>\n",
       "      <td>2</td>\n",
       "      <td>20.3</td>\n",
       "    </tr>\n",
       "    <tr>\n",
       "      <th>...</th>\n",
       "      <td>...</td>\n",
       "      <td>...</td>\n",
       "      <td>...</td>\n",
       "    </tr>\n",
       "    <tr>\n",
       "      <th>5730</th>\n",
       "      <td>(68, 78]</td>\n",
       "      <td>2</td>\n",
       "      <td>21.5</td>\n",
       "    </tr>\n",
       "    <tr>\n",
       "      <th>5731</th>\n",
       "      <td>(18, 28]</td>\n",
       "      <td>1</td>\n",
       "      <td>33.8</td>\n",
       "    </tr>\n",
       "    <tr>\n",
       "      <th>5732</th>\n",
       "      <td>(78, 88]</td>\n",
       "      <td>2</td>\n",
       "      <td>31.0</td>\n",
       "    </tr>\n",
       "    <tr>\n",
       "      <th>5733</th>\n",
       "      <td>(28, 38]</td>\n",
       "      <td>1</td>\n",
       "      <td>26.0</td>\n",
       "    </tr>\n",
       "    <tr>\n",
       "      <th>5734</th>\n",
       "      <td>(18, 28]</td>\n",
       "      <td>2</td>\n",
       "      <td>21.4</td>\n",
       "    </tr>\n",
       "  </tbody>\n",
       "</table>\n",
       "<p>5531 rows × 3 columns</p>\n",
       "</div>"
      ],
      "text/plain": [
       "        agegrp  gender  BMXBMI\n",
       "0     (58, 68]       1    27.8\n",
       "1     (48, 58]       1    30.8\n",
       "2     (68, 78]       1    28.8\n",
       "3     (48, 58]       2    42.4\n",
       "4     (38, 48]       2    20.3\n",
       "...        ...     ...     ...\n",
       "5730  (68, 78]       2    21.5\n",
       "5731  (18, 28]       1    33.8\n",
       "5732  (78, 88]       2    31.0\n",
       "5733  (28, 38]       1    26.0\n",
       "5734  (18, 28]       2    21.4\n",
       "\n",
       "[5531 rows x 3 columns]"
      ]
     },
     "execution_count": 187,
     "metadata": {},
     "output_type": "execute_result"
    }
   ],
   "source": [
    "dk = df[['agegrp', 'gender', 'BMXBMI']].dropna()\n",
    "dk"
   ]
  },
  {
   "cell_type": "code",
   "execution_count": 214,
   "id": "347168d9",
   "metadata": {},
   "outputs": [
    {
     "data": {
      "text/html": [
       "<div>\n",
       "<style scoped>\n",
       "    .dataframe tbody tr th:only-of-type {\n",
       "        vertical-align: middle;\n",
       "    }\n",
       "\n",
       "    .dataframe tbody tr th {\n",
       "        vertical-align: top;\n",
       "    }\n",
       "\n",
       "    .dataframe thead th {\n",
       "        text-align: right;\n",
       "    }\n",
       "</style>\n",
       "<table border=\"1\" class=\"dataframe\">\n",
       "  <thead>\n",
       "    <tr style=\"text-align: right;\">\n",
       "      <th></th>\n",
       "      <th>agegrp</th>\n",
       "      <th>gender</th>\n",
       "      <th>BMXBMI</th>\n",
       "    </tr>\n",
       "  </thead>\n",
       "  <tbody>\n",
       "    <tr>\n",
       "      <th>0</th>\n",
       "      <td>(58, 68]</td>\n",
       "      <td>1</td>\n",
       "      <td>27.8</td>\n",
       "    </tr>\n",
       "    <tr>\n",
       "      <th>1</th>\n",
       "      <td>(48, 58]</td>\n",
       "      <td>1</td>\n",
       "      <td>30.8</td>\n",
       "    </tr>\n",
       "    <tr>\n",
       "      <th>2</th>\n",
       "      <td>(68, 78]</td>\n",
       "      <td>1</td>\n",
       "      <td>28.8</td>\n",
       "    </tr>\n",
       "    <tr>\n",
       "      <th>6</th>\n",
       "      <td>(18, 28]</td>\n",
       "      <td>1</td>\n",
       "      <td>28.0</td>\n",
       "    </tr>\n",
       "    <tr>\n",
       "      <th>9</th>\n",
       "      <td>(48, 58]</td>\n",
       "      <td>1</td>\n",
       "      <td>33.6</td>\n",
       "    </tr>\n",
       "    <tr>\n",
       "      <th>...</th>\n",
       "      <td>...</td>\n",
       "      <td>...</td>\n",
       "      <td>...</td>\n",
       "    </tr>\n",
       "    <tr>\n",
       "      <th>5726</th>\n",
       "      <td>(48, 58]</td>\n",
       "      <td>1</td>\n",
       "      <td>32.0</td>\n",
       "    </tr>\n",
       "    <tr>\n",
       "      <th>5728</th>\n",
       "      <td>(28, 38]</td>\n",
       "      <td>1</td>\n",
       "      <td>32.9</td>\n",
       "    </tr>\n",
       "    <tr>\n",
       "      <th>5729</th>\n",
       "      <td>(18, 28]</td>\n",
       "      <td>1</td>\n",
       "      <td>21.0</td>\n",
       "    </tr>\n",
       "    <tr>\n",
       "      <th>5731</th>\n",
       "      <td>(18, 28]</td>\n",
       "      <td>1</td>\n",
       "      <td>33.8</td>\n",
       "    </tr>\n",
       "    <tr>\n",
       "      <th>5733</th>\n",
       "      <td>(28, 38]</td>\n",
       "      <td>1</td>\n",
       "      <td>26.0</td>\n",
       "    </tr>\n",
       "  </tbody>\n",
       "</table>\n",
       "<p>2655 rows × 3 columns</p>\n",
       "</div>"
      ],
      "text/plain": [
       "        agegrp  gender  BMXBMI\n",
       "0     (58, 68]       1    27.8\n",
       "1     (48, 58]       1    30.8\n",
       "2     (68, 78]       1    28.8\n",
       "6     (18, 28]       1    28.0\n",
       "9     (48, 58]       1    33.6\n",
       "...        ...     ...     ...\n",
       "5726  (48, 58]       1    32.0\n",
       "5728  (28, 38]       1    32.9\n",
       "5729  (18, 28]       1    21.0\n",
       "5731  (18, 28]       1    33.8\n",
       "5733  (28, 38]       1    26.0\n",
       "\n",
       "[2655 rows x 3 columns]"
      ]
     },
     "execution_count": 214,
     "metadata": {},
     "output_type": "execute_result"
    }
   ],
   "source": [
    "condition = dk['gender'] == 1 # only for males\n",
    "dk_male = dk[condition]\n",
    "dk_male"
   ]
  },
  {
   "cell_type": "code",
   "execution_count": 288,
   "id": "27862ec9",
   "metadata": {
    "scrolled": true
   },
   "outputs": [
    {
     "data": {
      "text/html": [
       "<div>\n",
       "<style scoped>\n",
       "    .dataframe tbody tr th:only-of-type {\n",
       "        vertical-align: middle;\n",
       "    }\n",
       "\n",
       "    .dataframe tbody tr th {\n",
       "        vertical-align: top;\n",
       "    }\n",
       "\n",
       "    .dataframe thead tr th {\n",
       "        text-align: left;\n",
       "    }\n",
       "\n",
       "    .dataframe thead tr:last-of-type th {\n",
       "        text-align: right;\n",
       "    }\n",
       "</style>\n",
       "<table border=\"1\" class=\"dataframe\">\n",
       "  <thead>\n",
       "    <tr>\n",
       "      <th></th>\n",
       "      <th colspan=\"2\" halign=\"left\">BMXBMI</th>\n",
       "    </tr>\n",
       "    <tr>\n",
       "      <th></th>\n",
       "      <th>mean</th>\n",
       "      <th>std</th>\n",
       "    </tr>\n",
       "    <tr>\n",
       "      <th>agegrp</th>\n",
       "      <th></th>\n",
       "      <th></th>\n",
       "    </tr>\n",
       "  </thead>\n",
       "  <tbody>\n",
       "    <tr>\n",
       "      <th>(18, 28]</th>\n",
       "      <td>27.058186</td>\n",
       "      <td>6.679515</td>\n",
       "    </tr>\n",
       "    <tr>\n",
       "      <th>(28, 38]</th>\n",
       "      <td>29.697180</td>\n",
       "      <td>6.726690</td>\n",
       "    </tr>\n",
       "    <tr>\n",
       "      <th>(38, 48]</th>\n",
       "      <td>29.514646</td>\n",
       "      <td>6.104950</td>\n",
       "    </tr>\n",
       "    <tr>\n",
       "      <th>(48, 58]</th>\n",
       "      <td>29.385132</td>\n",
       "      <td>6.151534</td>\n",
       "    </tr>\n",
       "    <tr>\n",
       "      <th>(58, 68]</th>\n",
       "      <td>29.232462</td>\n",
       "      <td>5.959024</td>\n",
       "    </tr>\n",
       "    <tr>\n",
       "      <th>(68, 78]</th>\n",
       "      <td>28.720270</td>\n",
       "      <td>5.336652</td>\n",
       "    </tr>\n",
       "    <tr>\n",
       "      <th>(78, 88]</th>\n",
       "      <td>27.464368</td>\n",
       "      <td>4.695650</td>\n",
       "    </tr>\n",
       "  </tbody>\n",
       "</table>\n",
       "</div>"
      ],
      "text/plain": [
       "             BMXBMI          \n",
       "               mean       std\n",
       "agegrp                       \n",
       "(18, 28]  27.058186  6.679515\n",
       "(28, 38]  29.697180  6.726690\n",
       "(38, 48]  29.514646  6.104950\n",
       "(48, 58]  29.385132  6.151534\n",
       "(58, 68]  29.232462  5.959024\n",
       "(68, 78]  28.720270  5.336652\n",
       "(78, 88]  27.464368  4.695650"
      ]
     },
     "execution_count": 288,
     "metadata": {},
     "output_type": "execute_result"
    }
   ],
   "source": [
    "dz_male = dk_male.groupby('agegrp').agg({'BMXBMI': [np.mean,np.std]})\n",
    "dz_male"
   ]
  },
  {
   "cell_type": "code",
   "execution_count": 279,
   "id": "1ba22190",
   "metadata": {},
   "outputs": [
    {
     "data": {
      "text/plain": [
       "agegrp\n",
       "(18, 28]    452\n",
       "(28, 38]    461\n",
       "(38, 48]    396\n",
       "(48, 58]    417\n",
       "(58, 68]    459\n",
       "(68, 78]    296\n",
       "(78, 88]    174\n",
       "dtype: int64"
      ]
     },
     "execution_count": 279,
     "metadata": {},
     "output_type": "execute_result"
    }
   ],
   "source": [
    "dk_male.groupby('agegrp').size() # sample size n for each male group"
   ]
  },
  {
   "cell_type": "code",
   "execution_count": 217,
   "id": "618851d2",
   "metadata": {},
   "outputs": [
    {
     "data": {
      "text/html": [
       "<div>\n",
       "<style scoped>\n",
       "    .dataframe tbody tr th:only-of-type {\n",
       "        vertical-align: middle;\n",
       "    }\n",
       "\n",
       "    .dataframe tbody tr th {\n",
       "        vertical-align: top;\n",
       "    }\n",
       "\n",
       "    .dataframe thead th {\n",
       "        text-align: right;\n",
       "    }\n",
       "</style>\n",
       "<table border=\"1\" class=\"dataframe\">\n",
       "  <thead>\n",
       "    <tr style=\"text-align: right;\">\n",
       "      <th></th>\n",
       "      <th>agegrp</th>\n",
       "      <th>gender</th>\n",
       "      <th>BMXBMI</th>\n",
       "    </tr>\n",
       "  </thead>\n",
       "  <tbody>\n",
       "    <tr>\n",
       "      <th>3</th>\n",
       "      <td>(48, 58]</td>\n",
       "      <td>2</td>\n",
       "      <td>42.4</td>\n",
       "    </tr>\n",
       "    <tr>\n",
       "      <th>4</th>\n",
       "      <td>(38, 48]</td>\n",
       "      <td>2</td>\n",
       "      <td>20.3</td>\n",
       "    </tr>\n",
       "    <tr>\n",
       "      <th>5</th>\n",
       "      <td>(68, 78]</td>\n",
       "      <td>2</td>\n",
       "      <td>28.6</td>\n",
       "    </tr>\n",
       "    <tr>\n",
       "      <th>7</th>\n",
       "      <td>(28, 38]</td>\n",
       "      <td>2</td>\n",
       "      <td>28.2</td>\n",
       "    </tr>\n",
       "    <tr>\n",
       "      <th>12</th>\n",
       "      <td>(28, 38]</td>\n",
       "      <td>2</td>\n",
       "      <td>26.6</td>\n",
       "    </tr>\n",
       "    <tr>\n",
       "      <th>...</th>\n",
       "      <td>...</td>\n",
       "      <td>...</td>\n",
       "      <td>...</td>\n",
       "    </tr>\n",
       "    <tr>\n",
       "      <th>5724</th>\n",
       "      <td>(38, 48]</td>\n",
       "      <td>2</td>\n",
       "      <td>20.9</td>\n",
       "    </tr>\n",
       "    <tr>\n",
       "      <th>5727</th>\n",
       "      <td>(68, 78]</td>\n",
       "      <td>2</td>\n",
       "      <td>28.1</td>\n",
       "    </tr>\n",
       "    <tr>\n",
       "      <th>5730</th>\n",
       "      <td>(68, 78]</td>\n",
       "      <td>2</td>\n",
       "      <td>21.5</td>\n",
       "    </tr>\n",
       "    <tr>\n",
       "      <th>5732</th>\n",
       "      <td>(78, 88]</td>\n",
       "      <td>2</td>\n",
       "      <td>31.0</td>\n",
       "    </tr>\n",
       "    <tr>\n",
       "      <th>5734</th>\n",
       "      <td>(18, 28]</td>\n",
       "      <td>2</td>\n",
       "      <td>21.4</td>\n",
       "    </tr>\n",
       "  </tbody>\n",
       "</table>\n",
       "<p>2876 rows × 3 columns</p>\n",
       "</div>"
      ],
      "text/plain": [
       "        agegrp  gender  BMXBMI\n",
       "3     (48, 58]       2    42.4\n",
       "4     (38, 48]       2    20.3\n",
       "5     (68, 78]       2    28.6\n",
       "7     (28, 38]       2    28.2\n",
       "12    (28, 38]       2    26.6\n",
       "...        ...     ...     ...\n",
       "5724  (38, 48]       2    20.9\n",
       "5727  (68, 78]       2    28.1\n",
       "5730  (68, 78]       2    21.5\n",
       "5732  (78, 88]       2    31.0\n",
       "5734  (18, 28]       2    21.4\n",
       "\n",
       "[2876 rows x 3 columns]"
      ]
     },
     "execution_count": 217,
     "metadata": {},
     "output_type": "execute_result"
    }
   ],
   "source": [
    "condition = dk['gender'] == 2 # only for females\n",
    "dk_female = dk[condition]\n",
    "dk_female"
   ]
  },
  {
   "cell_type": "code",
   "execution_count": 267,
   "id": "fbc7c2e7",
   "metadata": {},
   "outputs": [
    {
     "data": {
      "text/html": [
       "<div>\n",
       "<style scoped>\n",
       "    .dataframe tbody tr th:only-of-type {\n",
       "        vertical-align: middle;\n",
       "    }\n",
       "\n",
       "    .dataframe tbody tr th {\n",
       "        vertical-align: top;\n",
       "    }\n",
       "\n",
       "    .dataframe thead tr th {\n",
       "        text-align: left;\n",
       "    }\n",
       "\n",
       "    .dataframe thead tr:last-of-type th {\n",
       "        text-align: right;\n",
       "    }\n",
       "</style>\n",
       "<table border=\"1\" class=\"dataframe\">\n",
       "  <thead>\n",
       "    <tr>\n",
       "      <th></th>\n",
       "      <th colspan=\"2\" halign=\"left\">BMXBMI</th>\n",
       "    </tr>\n",
       "    <tr>\n",
       "      <th></th>\n",
       "      <th>mean</th>\n",
       "      <th>std</th>\n",
       "    </tr>\n",
       "    <tr>\n",
       "      <th>agegrp</th>\n",
       "      <th></th>\n",
       "      <th></th>\n",
       "    </tr>\n",
       "  </thead>\n",
       "  <tbody>\n",
       "    <tr>\n",
       "      <th>(18, 28]</th>\n",
       "      <td>28.019433</td>\n",
       "      <td>8.048854</td>\n",
       "    </tr>\n",
       "    <tr>\n",
       "      <th>(28, 38]</th>\n",
       "      <td>29.943443</td>\n",
       "      <td>7.959097</td>\n",
       "    </tr>\n",
       "    <tr>\n",
       "      <th>(38, 48]</th>\n",
       "      <td>31.003733</td>\n",
       "      <td>8.044642</td>\n",
       "    </tr>\n",
       "    <tr>\n",
       "      <th>(48, 58]</th>\n",
       "      <td>30.787361</td>\n",
       "      <td>7.647590</td>\n",
       "    </tr>\n",
       "    <tr>\n",
       "      <th>(58, 68]</th>\n",
       "      <td>31.054664</td>\n",
       "      <td>7.779502</td>\n",
       "    </tr>\n",
       "    <tr>\n",
       "      <th>(68, 78]</th>\n",
       "      <td>30.537818</td>\n",
       "      <td>6.780588</td>\n",
       "    </tr>\n",
       "    <tr>\n",
       "      <th>(78, 88]</th>\n",
       "      <td>27.850000</td>\n",
       "      <td>5.483781</td>\n",
       "    </tr>\n",
       "  </tbody>\n",
       "</table>\n",
       "</div>"
      ],
      "text/plain": [
       "             BMXBMI          \n",
       "               mean       std\n",
       "agegrp                       \n",
       "(18, 28]  28.019433  8.048854\n",
       "(28, 38]  29.943443  7.959097\n",
       "(38, 48]  31.003733  8.044642\n",
       "(48, 58]  30.787361  7.647590\n",
       "(58, 68]  31.054664  7.779502\n",
       "(68, 78]  30.537818  6.780588\n",
       "(78, 88]  27.850000  5.483781"
      ]
     },
     "execution_count": 267,
     "metadata": {},
     "output_type": "execute_result"
    }
   ],
   "source": [
    "dz_female = dk_female.groupby('agegrp').agg({'BMXBMI': [np.mean,np.std]})\n",
    "dz_female"
   ]
  },
  {
   "cell_type": "code",
   "execution_count": 278,
   "id": "a6c4ad6b",
   "metadata": {},
   "outputs": [
    {
     "data": {
      "text/plain": [
       "agegrp\n",
       "(18, 28]    494\n",
       "(28, 38]    488\n",
       "(38, 48]    509\n",
       "(48, 58]    451\n",
       "(58, 68]    461\n",
       "(68, 78]    275\n",
       "(78, 88]    198\n",
       "dtype: int64"
      ]
     },
     "execution_count": 278,
     "metadata": {},
     "output_type": "execute_result"
    }
   ],
   "source": [
    "dk_female.groupby(['agegrp']).size() # sample size n for each female group"
   ]
  },
  {
   "cell_type": "code",
   "execution_count": 244,
   "id": "6d725c06",
   "metadata": {},
   "outputs": [],
   "source": [
    "def find_limits_male_female (mean1, mean2, std1, std2, n1, n2):\n",
    "    diff = 1.984 * np.sqrt((std1*std1 / n1) + (std2 * std2 / n2))\n",
    "    low = (mean1 - mean2) - diff\n",
    "    upper = (mean1 - mean2) + diff\n",
    "    return (low, upper)"
   ]
  },
  {
   "cell_type": "code",
   "execution_count": 280,
   "id": "3392710a",
   "metadata": {},
   "outputs": [
    {
     "data": {
      "text/plain": [
       "(-1.9009195785547144, -0.021568421445287034)"
      ]
     },
     "execution_count": 280,
     "metadata": {},
     "output_type": "execute_result"
    }
   ],
   "source": [
    "group1 = find_limits_male_female(27.058186,28.01943,6.679515,8.048854, 452,494)\n",
    "group1"
   ]
  },
  {
   "cell_type": "code",
   "execution_count": 281,
   "id": "ee45c722",
   "metadata": {},
   "outputs": [
    {
     "data": {
      "text/plain": [
       "(-1.1820732227099224, 0.6895472227099243)"
      ]
     },
     "execution_count": 281,
     "metadata": {},
     "output_type": "execute_result"
    }
   ],
   "source": [
    "group2 = find_limits_male_female(29.697180,29.943443,6.726690,7.959097,461,488)\n",
    "group2"
   ]
  },
  {
   "cell_type": "code",
   "execution_count": 283,
   "id": "83cbb0d9",
   "metadata": {},
   "outputs": [
    {
     "data": {
      "text/plain": [
       "(-2.411039722918421, -0.5671342770815821)"
      ]
     },
     "execution_count": 283,
     "metadata": {},
     "output_type": "execute_result"
    }
   ],
   "source": [
    "group3 = find_limits_male_female(29.514646,31.003733,6.104950,8.044642,396,509)\n",
    "group3"
   ]
  },
  {
   "cell_type": "code",
   "execution_count": 284,
   "id": "b5bdf4c3",
   "metadata": {},
   "outputs": [
    {
     "data": {
      "text/plain": [
       "(-2.3224413547902314, -0.4820166452097725)"
      ]
     },
     "execution_count": 284,
     "metadata": {},
     "output_type": "execute_result"
    }
   ],
   "source": [
    "group4 = find_limits_male_female(29.385132,30.787361,6.151534,7.647590,417,451)\n",
    "group4"
   ]
  },
  {
   "cell_type": "code",
   "execution_count": 285,
   "id": "37c53876",
   "metadata": {},
   "outputs": [
    {
     "data": {
      "text/plain": [
       "(-2.717484435723311, -0.9269195642766833)"
      ]
     },
     "execution_count": 285,
     "metadata": {},
     "output_type": "execute_result"
    }
   ],
   "source": [
    "group5 = find_limits_male_female(29.232462,31.054664,5.959024,7.779502,459,461)\n",
    "group5"
   ]
  },
  {
   "cell_type": "code",
   "execution_count": 286,
   "id": "d0c029aa",
   "metadata": {},
   "outputs": [
    {
     "data": {
      "text/plain": [
       "(-2.8234740361918718, -0.8116219638081328)"
      ]
     },
     "execution_count": 286,
     "metadata": {},
     "output_type": "execute_result"
    }
   ],
   "source": [
    "group6 = find_limits_male_female(28.720270,30.537818,5.336652, 6.780588,296,275)\n",
    "group6"
   ]
  },
  {
   "cell_type": "code",
   "execution_count": 287,
   "id": "74cc0c26",
   "metadata": {},
   "outputs": [
    {
     "data": {
      "text/plain": [
       "(-1.420165197337139, 0.6489011973371368)"
      ]
     },
     "execution_count": 287,
     "metadata": {},
     "output_type": "execute_result"
    }
   ],
   "source": [
    "group7 = find_limits_male_female(27.464368,27.850000,4.695650, 5.483781,174,198)\n",
    "group7"
   ]
  },
  {
   "cell_type": "markdown",
   "id": "f023a36e",
   "metadata": {},
   "source": [
    "**Question 5\n",
    "\n",
    "**Construct a 95% confidence interval for the first and second systolic blood pressure measures, and for the difference between the first and second systolic blood pressure measurements within a subject.\n"
   ]
  },
  {
   "cell_type": "code",
   "execution_count": 5,
   "id": "4db067c4",
   "metadata": {},
   "outputs": [],
   "source": [
    "ds = da[['BPXSY1', 'BPXSY2']].dropna()"
   ]
  },
  {
   "cell_type": "code",
   "execution_count": 6,
   "id": "13e48935",
   "metadata": {},
   "outputs": [
    {
     "data": {
      "text/plain": [
       "count    5369.000000\n",
       "mean      125.088471\n",
       "std        18.493801\n",
       "min        84.000000\n",
       "25%       112.000000\n",
       "50%       122.000000\n",
       "75%       134.000000\n",
       "max       236.000000\n",
       "Name: BPXSY1, dtype: float64"
      ]
     },
     "execution_count": 6,
     "metadata": {},
     "output_type": "execute_result"
    }
   ],
   "source": [
    "ds['BPXSY1'].describe()"
   ]
  },
  {
   "cell_type": "code",
   "execution_count": 7,
   "id": "42109cba",
   "metadata": {},
   "outputs": [
    {
     "data": {
      "text/plain": [
       "count    5369.000000\n",
       "mean      124.413485\n",
       "std        18.191573\n",
       "min        84.000000\n",
       "25%       112.000000\n",
       "50%       122.000000\n",
       "75%       134.000000\n",
       "max       238.000000\n",
       "Name: BPXSY2, dtype: float64"
      ]
     },
     "execution_count": 7,
     "metadata": {},
     "output_type": "execute_result"
    }
   ],
   "source": [
    "ds['BPXSY2'].describe()"
   ]
  },
  {
   "cell_type": "code",
   "execution_count": 42,
   "id": "ba721a82",
   "metadata": {},
   "outputs": [],
   "source": [
    "sample_mean1 = 125.088471\n",
    "sample_mean2 = 124.413485\n",
    "s1 = 18.493801\n",
    "s2 = 18.191573\n",
    "n1 = 5369\n",
    "n2 = 5369"
   ]
  },
  {
   "cell_type": "code",
   "execution_count": 43,
   "id": "ee3aa475",
   "metadata": {},
   "outputs": [
    {
     "data": {
      "text/plain": [
       "0.4866084238686716"
      ]
     },
     "execution_count": 43,
     "metadata": {},
     "output_type": "execute_result"
    }
   ],
   "source": [
    "E2 = 1.96 * s2 / np.sqrt(n2)\n",
    "E2"
   ]
  },
  {
   "cell_type": "code",
   "execution_count": 98,
   "id": "ee164c53",
   "metadata": {},
   "outputs": [
    {
     "data": {
      "text/plain": [
       "124.59377824550587"
      ]
     },
     "execution_count": 98,
     "metadata": {},
     "output_type": "execute_result"
    }
   ],
   "source": [
    "lower_first_sys_b = sample_mean1 - E1\n",
    "lower_first_sys"
   ]
  },
  {
   "cell_type": "code",
   "execution_count": 99,
   "id": "5adc0446",
   "metadata": {},
   "outputs": [
    {
     "data": {
      "text/plain": [
       "125.58316375449412"
      ]
     },
     "execution_count": 99,
     "metadata": {},
     "output_type": "execute_result"
    }
   ],
   "source": [
    "upper_first_sys_b = sample_mean1 + E1\n",
    "upper_first_sys"
   ]
  },
  {
   "cell_type": "code",
   "execution_count": 101,
   "id": "8de841ac",
   "metadata": {},
   "outputs": [
    {
     "data": {
      "text/plain": [
       "123.92687657613132"
      ]
     },
     "execution_count": 101,
     "metadata": {},
     "output_type": "execute_result"
    }
   ],
   "source": [
    "lower_second_sys_b = sample_mean2 - E2\n",
    "lower_second_sys"
   ]
  },
  {
   "cell_type": "code",
   "execution_count": 100,
   "id": "95a9b349",
   "metadata": {},
   "outputs": [
    {
     "data": {
      "text/plain": [
       "124.90009342386867"
      ]
     },
     "execution_count": 100,
     "metadata": {},
     "output_type": "execute_result"
    }
   ],
   "source": [
    "upper_second_sys_b = sample_mean2 + E2\n",
    "upper_second_sys"
   ]
  },
  {
   "cell_type": "markdown",
   "id": "5067dbc6",
   "metadata": {},
   "source": [
    "**I am 95% sure that population mean for first systolic blood pressure measures is between 124.59377824550587 and 125.58316375449412.\n",
    "I am 95 % sure that population mean for second systolic blood pressure measures is between 123.92687657613132 and 124.90009342386867."
   ]
  },
  {
   "cell_type": "markdown",
   "id": "988292ae",
   "metadata": {},
   "source": [
    "**Estimate the difference between the first and second systolic blood pressure measurements within a subject."
   ]
  },
  {
   "cell_type": "markdown",
   "id": "c16694e2",
   "metadata": {},
   "source": []
  },
  {
   "cell_type": "code",
   "execution_count": 102,
   "id": "8a018bdd",
   "metadata": {},
   "outputs": [
    {
     "data": {
      "text/plain": [
       "count    5369.000000\n",
       "mean        0.674986\n",
       "std         5.046465\n",
       "min       -26.000000\n",
       "25%        -2.000000\n",
       "50%         0.000000\n",
       "75%         4.000000\n",
       "max        32.000000\n",
       "Name: diff, dtype: float64"
      ]
     },
     "execution_count": 102,
     "metadata": {},
     "output_type": "execute_result"
    }
   ],
   "source": [
    "ds['diff'] = ds['BPXSY1'] - ds['BPXSY2']\n",
    "ds['diff'].describe()"
   ]
  },
  {
   "cell_type": "code",
   "execution_count": 103,
   "id": "239edbfd",
   "metadata": {},
   "outputs": [
    {
     "data": {
      "text/plain": [
       "0.13498845755440808"
      ]
     },
     "execution_count": 103,
     "metadata": {},
     "output_type": "execute_result"
    }
   ],
   "source": [
    "sd =  5.046465\n",
    "mean_diff = 0.674986\n",
    "diff = 1.96 * sd / np.sqrt(n1)\n",
    "diff"
   ]
  },
  {
   "cell_type": "code",
   "execution_count": 104,
   "id": "3ad67f2d",
   "metadata": {},
   "outputs": [
    {
     "data": {
      "text/plain": [
       "0.5399975424455918"
      ]
     },
     "execution_count": 104,
     "metadata": {},
     "output_type": "execute_result"
    }
   ],
   "source": [
    "lower_b = mean_diff - diff\n",
    "lower_b"
   ]
  },
  {
   "cell_type": "code",
   "execution_count": 105,
   "id": "18c9deca",
   "metadata": {},
   "outputs": [
    {
     "data": {
      "text/plain": [
       "0.8099744575544081"
      ]
     },
     "execution_count": 105,
     "metadata": {},
     "output_type": "execute_result"
    }
   ],
   "source": [
    "upper_b = mean_diff + diff\n",
    "upper_b"
   ]
  },
  {
   "cell_type": "markdown",
   "id": "933ba01e",
   "metadata": {},
   "source": [
    "**I am 95% sure that the difference between the first and second systolic blood pressure measurements within a subject is between 0.5399975424455918 and 0.8099744575544081"
   ]
  },
  {
   "cell_type": "markdown",
   "id": "2eafac2f",
   "metadata": {},
   "source": [
    "**Question 6\n",
    "\n",
    "**Construct a 95% confidence interval for the mean difference between the average age of a smoker, and the average age of a non-smoker.\n"
   ]
  },
  {
   "cell_type": "code",
   "execution_count": 16,
   "id": "9e32707f",
   "metadata": {},
   "outputs": [
    {
     "data": {
      "text/html": [
       "<div>\n",
       "<style scoped>\n",
       "    .dataframe tbody tr th:only-of-type {\n",
       "        vertical-align: middle;\n",
       "    }\n",
       "\n",
       "    .dataframe tbody tr th {\n",
       "        vertical-align: top;\n",
       "    }\n",
       "\n",
       "    .dataframe thead th {\n",
       "        text-align: right;\n",
       "    }\n",
       "</style>\n",
       "<table border=\"1\" class=\"dataframe\">\n",
       "  <thead>\n",
       "    <tr style=\"text-align: right;\">\n",
       "      <th></th>\n",
       "      <th>SEQN</th>\n",
       "      <th>ALQ101</th>\n",
       "      <th>ALQ110</th>\n",
       "      <th>ALQ130</th>\n",
       "      <th>SMQ020</th>\n",
       "      <th>RIAGENDR</th>\n",
       "      <th>RIDAGEYR</th>\n",
       "      <th>RIDRETH1</th>\n",
       "      <th>DMDCITZN</th>\n",
       "      <th>DMDEDUC2</th>\n",
       "      <th>...</th>\n",
       "      <th>BPXSY2</th>\n",
       "      <th>BPXDI2</th>\n",
       "      <th>BMXWT</th>\n",
       "      <th>BMXHT</th>\n",
       "      <th>BMXBMI</th>\n",
       "      <th>BMXLEG</th>\n",
       "      <th>BMXARML</th>\n",
       "      <th>BMXARMC</th>\n",
       "      <th>BMXWAIST</th>\n",
       "      <th>HIQ210</th>\n",
       "    </tr>\n",
       "  </thead>\n",
       "  <tbody>\n",
       "    <tr>\n",
       "      <th>0</th>\n",
       "      <td>83732</td>\n",
       "      <td>1.0</td>\n",
       "      <td>NaN</td>\n",
       "      <td>1.0</td>\n",
       "      <td>1.0</td>\n",
       "      <td>1</td>\n",
       "      <td>62</td>\n",
       "      <td>3</td>\n",
       "      <td>1.0</td>\n",
       "      <td>5.0</td>\n",
       "      <td>...</td>\n",
       "      <td>124.0</td>\n",
       "      <td>64.0</td>\n",
       "      <td>94.8</td>\n",
       "      <td>184.5</td>\n",
       "      <td>27.8</td>\n",
       "      <td>43.3</td>\n",
       "      <td>43.6</td>\n",
       "      <td>35.9</td>\n",
       "      <td>101.1</td>\n",
       "      <td>2.0</td>\n",
       "    </tr>\n",
       "    <tr>\n",
       "      <th>1</th>\n",
       "      <td>83733</td>\n",
       "      <td>1.0</td>\n",
       "      <td>NaN</td>\n",
       "      <td>6.0</td>\n",
       "      <td>1.0</td>\n",
       "      <td>1</td>\n",
       "      <td>53</td>\n",
       "      <td>3</td>\n",
       "      <td>2.0</td>\n",
       "      <td>3.0</td>\n",
       "      <td>...</td>\n",
       "      <td>140.0</td>\n",
       "      <td>88.0</td>\n",
       "      <td>90.4</td>\n",
       "      <td>171.4</td>\n",
       "      <td>30.8</td>\n",
       "      <td>38.0</td>\n",
       "      <td>40.0</td>\n",
       "      <td>33.2</td>\n",
       "      <td>107.9</td>\n",
       "      <td>NaN</td>\n",
       "    </tr>\n",
       "    <tr>\n",
       "      <th>2</th>\n",
       "      <td>83734</td>\n",
       "      <td>1.0</td>\n",
       "      <td>NaN</td>\n",
       "      <td>NaN</td>\n",
       "      <td>1.0</td>\n",
       "      <td>1</td>\n",
       "      <td>78</td>\n",
       "      <td>3</td>\n",
       "      <td>1.0</td>\n",
       "      <td>3.0</td>\n",
       "      <td>...</td>\n",
       "      <td>132.0</td>\n",
       "      <td>44.0</td>\n",
       "      <td>83.4</td>\n",
       "      <td>170.1</td>\n",
       "      <td>28.8</td>\n",
       "      <td>35.6</td>\n",
       "      <td>37.0</td>\n",
       "      <td>31.0</td>\n",
       "      <td>116.5</td>\n",
       "      <td>2.0</td>\n",
       "    </tr>\n",
       "    <tr>\n",
       "      <th>3</th>\n",
       "      <td>83735</td>\n",
       "      <td>2.0</td>\n",
       "      <td>1.0</td>\n",
       "      <td>1.0</td>\n",
       "      <td>0.0</td>\n",
       "      <td>2</td>\n",
       "      <td>56</td>\n",
       "      <td>3</td>\n",
       "      <td>1.0</td>\n",
       "      <td>5.0</td>\n",
       "      <td>...</td>\n",
       "      <td>134.0</td>\n",
       "      <td>68.0</td>\n",
       "      <td>109.8</td>\n",
       "      <td>160.9</td>\n",
       "      <td>42.4</td>\n",
       "      <td>38.5</td>\n",
       "      <td>37.7</td>\n",
       "      <td>38.3</td>\n",
       "      <td>110.1</td>\n",
       "      <td>2.0</td>\n",
       "    </tr>\n",
       "    <tr>\n",
       "      <th>4</th>\n",
       "      <td>83736</td>\n",
       "      <td>2.0</td>\n",
       "      <td>1.0</td>\n",
       "      <td>1.0</td>\n",
       "      <td>0.0</td>\n",
       "      <td>2</td>\n",
       "      <td>42</td>\n",
       "      <td>4</td>\n",
       "      <td>1.0</td>\n",
       "      <td>4.0</td>\n",
       "      <td>...</td>\n",
       "      <td>114.0</td>\n",
       "      <td>54.0</td>\n",
       "      <td>55.2</td>\n",
       "      <td>164.9</td>\n",
       "      <td>20.3</td>\n",
       "      <td>37.4</td>\n",
       "      <td>36.0</td>\n",
       "      <td>27.2</td>\n",
       "      <td>80.4</td>\n",
       "      <td>2.0</td>\n",
       "    </tr>\n",
       "    <tr>\n",
       "      <th>...</th>\n",
       "      <td>...</td>\n",
       "      <td>...</td>\n",
       "      <td>...</td>\n",
       "      <td>...</td>\n",
       "      <td>...</td>\n",
       "      <td>...</td>\n",
       "      <td>...</td>\n",
       "      <td>...</td>\n",
       "      <td>...</td>\n",
       "      <td>...</td>\n",
       "      <td>...</td>\n",
       "      <td>...</td>\n",
       "      <td>...</td>\n",
       "      <td>...</td>\n",
       "      <td>...</td>\n",
       "      <td>...</td>\n",
       "      <td>...</td>\n",
       "      <td>...</td>\n",
       "      <td>...</td>\n",
       "      <td>...</td>\n",
       "      <td>...</td>\n",
       "    </tr>\n",
       "    <tr>\n",
       "      <th>5730</th>\n",
       "      <td>93695</td>\n",
       "      <td>2.0</td>\n",
       "      <td>2.0</td>\n",
       "      <td>NaN</td>\n",
       "      <td>1.0</td>\n",
       "      <td>2</td>\n",
       "      <td>76</td>\n",
       "      <td>3</td>\n",
       "      <td>1.0</td>\n",
       "      <td>3.0</td>\n",
       "      <td>...</td>\n",
       "      <td>112.0</td>\n",
       "      <td>46.0</td>\n",
       "      <td>59.1</td>\n",
       "      <td>165.8</td>\n",
       "      <td>21.5</td>\n",
       "      <td>38.2</td>\n",
       "      <td>37.0</td>\n",
       "      <td>29.5</td>\n",
       "      <td>95.0</td>\n",
       "      <td>2.0</td>\n",
       "    </tr>\n",
       "    <tr>\n",
       "      <th>5731</th>\n",
       "      <td>93696</td>\n",
       "      <td>2.0</td>\n",
       "      <td>2.0</td>\n",
       "      <td>NaN</td>\n",
       "      <td>0.0</td>\n",
       "      <td>1</td>\n",
       "      <td>26</td>\n",
       "      <td>3</td>\n",
       "      <td>1.0</td>\n",
       "      <td>5.0</td>\n",
       "      <td>...</td>\n",
       "      <td>116.0</td>\n",
       "      <td>76.0</td>\n",
       "      <td>112.1</td>\n",
       "      <td>182.2</td>\n",
       "      <td>33.8</td>\n",
       "      <td>43.4</td>\n",
       "      <td>41.8</td>\n",
       "      <td>42.3</td>\n",
       "      <td>110.2</td>\n",
       "      <td>2.0</td>\n",
       "    </tr>\n",
       "    <tr>\n",
       "      <th>5732</th>\n",
       "      <td>93697</td>\n",
       "      <td>1.0</td>\n",
       "      <td>NaN</td>\n",
       "      <td>1.0</td>\n",
       "      <td>1.0</td>\n",
       "      <td>2</td>\n",
       "      <td>80</td>\n",
       "      <td>3</td>\n",
       "      <td>1.0</td>\n",
       "      <td>4.0</td>\n",
       "      <td>...</td>\n",
       "      <td>146.0</td>\n",
       "      <td>58.0</td>\n",
       "      <td>71.7</td>\n",
       "      <td>152.2</td>\n",
       "      <td>31.0</td>\n",
       "      <td>31.3</td>\n",
       "      <td>37.5</td>\n",
       "      <td>28.8</td>\n",
       "      <td>NaN</td>\n",
       "      <td>2.0</td>\n",
       "    </tr>\n",
       "    <tr>\n",
       "      <th>5733</th>\n",
       "      <td>93700</td>\n",
       "      <td>NaN</td>\n",
       "      <td>NaN</td>\n",
       "      <td>NaN</td>\n",
       "      <td>1.0</td>\n",
       "      <td>1</td>\n",
       "      <td>35</td>\n",
       "      <td>3</td>\n",
       "      <td>2.0</td>\n",
       "      <td>1.0</td>\n",
       "      <td>...</td>\n",
       "      <td>106.0</td>\n",
       "      <td>66.0</td>\n",
       "      <td>78.2</td>\n",
       "      <td>173.3</td>\n",
       "      <td>26.0</td>\n",
       "      <td>40.3</td>\n",
       "      <td>37.5</td>\n",
       "      <td>30.6</td>\n",
       "      <td>98.9</td>\n",
       "      <td>2.0</td>\n",
       "    </tr>\n",
       "    <tr>\n",
       "      <th>5734</th>\n",
       "      <td>93702</td>\n",
       "      <td>1.0</td>\n",
       "      <td>NaN</td>\n",
       "      <td>2.0</td>\n",
       "      <td>0.0</td>\n",
       "      <td>2</td>\n",
       "      <td>24</td>\n",
       "      <td>3</td>\n",
       "      <td>1.0</td>\n",
       "      <td>5.0</td>\n",
       "      <td>...</td>\n",
       "      <td>114.0</td>\n",
       "      <td>68.0</td>\n",
       "      <td>58.3</td>\n",
       "      <td>165.0</td>\n",
       "      <td>21.4</td>\n",
       "      <td>38.2</td>\n",
       "      <td>33.5</td>\n",
       "      <td>26.2</td>\n",
       "      <td>72.5</td>\n",
       "      <td>2.0</td>\n",
       "    </tr>\n",
       "  </tbody>\n",
       "</table>\n",
       "<p>5735 rows × 28 columns</p>\n",
       "</div>"
      ],
      "text/plain": [
       "       SEQN  ALQ101  ALQ110  ALQ130  SMQ020  RIAGENDR  RIDAGEYR  RIDRETH1  \\\n",
       "0     83732     1.0     NaN     1.0     1.0         1        62         3   \n",
       "1     83733     1.0     NaN     6.0     1.0         1        53         3   \n",
       "2     83734     1.0     NaN     NaN     1.0         1        78         3   \n",
       "3     83735     2.0     1.0     1.0     0.0         2        56         3   \n",
       "4     83736     2.0     1.0     1.0     0.0         2        42         4   \n",
       "...     ...     ...     ...     ...     ...       ...       ...       ...   \n",
       "5730  93695     2.0     2.0     NaN     1.0         2        76         3   \n",
       "5731  93696     2.0     2.0     NaN     0.0         1        26         3   \n",
       "5732  93697     1.0     NaN     1.0     1.0         2        80         3   \n",
       "5733  93700     NaN     NaN     NaN     1.0         1        35         3   \n",
       "5734  93702     1.0     NaN     2.0     0.0         2        24         3   \n",
       "\n",
       "      DMDCITZN  DMDEDUC2  ...  BPXSY2  BPXDI2  BMXWT  BMXHT  BMXBMI  BMXLEG  \\\n",
       "0          1.0       5.0  ...   124.0    64.0   94.8  184.5    27.8    43.3   \n",
       "1          2.0       3.0  ...   140.0    88.0   90.4  171.4    30.8    38.0   \n",
       "2          1.0       3.0  ...   132.0    44.0   83.4  170.1    28.8    35.6   \n",
       "3          1.0       5.0  ...   134.0    68.0  109.8  160.9    42.4    38.5   \n",
       "4          1.0       4.0  ...   114.0    54.0   55.2  164.9    20.3    37.4   \n",
       "...        ...       ...  ...     ...     ...    ...    ...     ...     ...   \n",
       "5730       1.0       3.0  ...   112.0    46.0   59.1  165.8    21.5    38.2   \n",
       "5731       1.0       5.0  ...   116.0    76.0  112.1  182.2    33.8    43.4   \n",
       "5732       1.0       4.0  ...   146.0    58.0   71.7  152.2    31.0    31.3   \n",
       "5733       2.0       1.0  ...   106.0    66.0   78.2  173.3    26.0    40.3   \n",
       "5734       1.0       5.0  ...   114.0    68.0   58.3  165.0    21.4    38.2   \n",
       "\n",
       "      BMXARML  BMXARMC  BMXWAIST  HIQ210  \n",
       "0        43.6     35.9     101.1     2.0  \n",
       "1        40.0     33.2     107.9     NaN  \n",
       "2        37.0     31.0     116.5     2.0  \n",
       "3        37.7     38.3     110.1     2.0  \n",
       "4        36.0     27.2      80.4     2.0  \n",
       "...       ...      ...       ...     ...  \n",
       "5730     37.0     29.5      95.0     2.0  \n",
       "5731     41.8     42.3     110.2     2.0  \n",
       "5732     37.5     28.8       NaN     2.0  \n",
       "5733     37.5     30.6      98.9     2.0  \n",
       "5734     33.5     26.2      72.5     2.0  \n",
       "\n",
       "[5735 rows x 28 columns]"
      ]
     },
     "execution_count": 16,
     "metadata": {},
     "output_type": "execute_result"
    }
   ],
   "source": [
    "df = da.copy()\n",
    "df['SMQ020'] = df['SMQ020'].map({1: 1, 2: 0}).dropna()\n",
    "df['RIDAGEYR'] = df['RIDAGEYR'].dropna()\n",
    "df"
   ]
  },
  {
   "cell_type": "code",
   "execution_count": 12,
   "id": "1ae1c10b",
   "metadata": {},
   "outputs": [
    {
     "data": {
      "text/html": [
       "<div>\n",
       "<style scoped>\n",
       "    .dataframe tbody tr th:only-of-type {\n",
       "        vertical-align: middle;\n",
       "    }\n",
       "\n",
       "    .dataframe tbody tr th {\n",
       "        vertical-align: top;\n",
       "    }\n",
       "\n",
       "    .dataframe thead tr th {\n",
       "        text-align: left;\n",
       "    }\n",
       "\n",
       "    .dataframe thead tr:last-of-type th {\n",
       "        text-align: right;\n",
       "    }\n",
       "</style>\n",
       "<table border=\"1\" class=\"dataframe\">\n",
       "  <thead>\n",
       "    <tr>\n",
       "      <th></th>\n",
       "      <th colspan=\"2\" halign=\"left\">RIDAGEYR</th>\n",
       "    </tr>\n",
       "    <tr>\n",
       "      <th></th>\n",
       "      <th>mean</th>\n",
       "      <th>std</th>\n",
       "    </tr>\n",
       "    <tr>\n",
       "      <th>SMQ020</th>\n",
       "      <th></th>\n",
       "      <th></th>\n",
       "    </tr>\n",
       "  </thead>\n",
       "  <tbody>\n",
       "    <tr>\n",
       "      <th>0.0</th>\n",
       "      <td>45.259836</td>\n",
       "      <td>18.543286</td>\n",
       "    </tr>\n",
       "    <tr>\n",
       "      <th>1.0</th>\n",
       "      <td>52.096593</td>\n",
       "      <td>17.461141</td>\n",
       "    </tr>\n",
       "  </tbody>\n",
       "</table>\n",
       "</div>"
      ],
      "text/plain": [
       "         RIDAGEYR           \n",
       "             mean        std\n",
       "SMQ020                      \n",
       "0.0     45.259836  18.543286\n",
       "1.0     52.096593  17.461141"
      ]
     },
     "execution_count": 12,
     "metadata": {},
     "output_type": "execute_result"
    }
   ],
   "source": [
    "dz = df.groupby('SMQ020').agg({'RIDAGEYR': [np.mean,np.std]})\n",
    "dz"
   ]
  },
  {
   "cell_type": "code",
   "execution_count": 37,
   "id": "505b9e7d",
   "metadata": {},
   "outputs": [],
   "source": [
    "mean0 = 45.259836\n",
    "mean1 = 52.096593\n",
    "s0 = 18.543286\n",
    "s1 = 17.461141"
   ]
  },
  {
   "cell_type": "code",
   "execution_count": 38,
   "id": "faab7eec",
   "metadata": {},
   "outputs": [
    {
     "data": {
      "text/plain": [
       "3406"
      ]
     },
     "execution_count": 38,
     "metadata": {},
     "output_type": "execute_result"
    }
   ],
   "source": [
    "condition = df['SMQ020'] == 0\n",
    "n0 = len(df[condition]) # n for non - smoker\n",
    "n0"
   ]
  },
  {
   "cell_type": "code",
   "execution_count": 39,
   "id": "82e62b6a",
   "metadata": {},
   "outputs": [
    {
     "data": {
      "text/plain": [
       "2319"
      ]
     },
     "execution_count": 39,
     "metadata": {},
     "output_type": "execute_result"
    }
   ],
   "source": [
    "condition = df['SMQ020'] == 1\n",
    "n1 = len(df[condition]) # n for smoker\n",
    "n1"
   ]
  },
  {
   "cell_type": "code",
   "execution_count": 40,
   "id": "679e4965",
   "metadata": {},
   "outputs": [
    {
     "data": {
      "text/plain": [
       "0.9449367336348066"
      ]
     },
     "execution_count": 40,
     "metadata": {},
     "output_type": "execute_result"
    }
   ],
   "source": [
    "diff = 1.96 * np.sqrt((s1 * s1 / n1) + (s0 * s0 / n0))\n",
    "diff"
   ]
  },
  {
   "cell_type": "code",
   "execution_count": 41,
   "id": "85d259d0",
   "metadata": {},
   "outputs": [
    {
     "data": {
      "text/plain": [
       "5.891820266365192"
      ]
     },
     "execution_count": 41,
     "metadata": {},
     "output_type": "execute_result"
    }
   ],
   "source": [
    "lower_b = (mean1 - mean0) - diff\n",
    "lower_b"
   ]
  },
  {
   "cell_type": "code",
   "execution_count": 42,
   "id": "e6d5d218",
   "metadata": {},
   "outputs": [
    {
     "data": {
      "text/plain": [
       "7.781693733634805"
      ]
     },
     "execution_count": 42,
     "metadata": {},
     "output_type": "execute_result"
    }
   ],
   "source": [
    "upper_b = (mean1 - mean0) + diff\n",
    "upper_b"
   ]
  },
  {
   "cell_type": "markdown",
   "id": "dc5425a4",
   "metadata": {},
   "source": [
    "**I am 95% sure that the difference between the average age of a smoker, and the average age of a non-smoker is between 5.880982953347809 and 7.792531046652188.\n",
    " **Use graphical and numerical techniques to compare the variation in the ages of smokers to the      variation in the ages of non-smokers."
   ]
  },
  {
   "cell_type": "code",
   "execution_count": 67,
   "id": "75dc60e3",
   "metadata": {},
   "outputs": [
    {
     "data": {
      "image/png": "[encoded data removed]",
      "text/plain": [
       "<Figure size 432x288 with 1 Axes>"
      ]
     },
     "metadata": {
      "needs_background": "light"
     },
     "output_type": "display_data"
    }
   ],
   "source": [
    "sns.boxplot(y = df['RIDAGEYR'], x = df['SMQ020'])\n",
    "plt.title('Non-smokers vs Smokers')\n",
    "plt.show()"
   ]
  },
  {
   "cell_type": "code",
   "execution_count": 60,
   "id": "40509896",
   "metadata": {},
   "outputs": [
    {
     "data": {
      "text/html": [
       "<div>\n",
       "<style scoped>\n",
       "    .dataframe tbody tr th:only-of-type {\n",
       "        vertical-align: middle;\n",
       "    }\n",
       "\n",
       "    .dataframe tbody tr th {\n",
       "        vertical-align: top;\n",
       "    }\n",
       "\n",
       "    .dataframe thead th {\n",
       "        text-align: right;\n",
       "    }\n",
       "</style>\n",
       "<table border=\"1\" class=\"dataframe\">\n",
       "  <thead>\n",
       "    <tr style=\"text-align: right;\">\n",
       "      <th></th>\n",
       "      <th>RIDAGEYR</th>\n",
       "      <th>SMQ020</th>\n",
       "    </tr>\n",
       "  </thead>\n",
       "  <tbody>\n",
       "    <tr>\n",
       "      <th>0</th>\n",
       "      <td>62</td>\n",
       "      <td>1.0</td>\n",
       "    </tr>\n",
       "    <tr>\n",
       "      <th>1</th>\n",
       "      <td>53</td>\n",
       "      <td>1.0</td>\n",
       "    </tr>\n",
       "    <tr>\n",
       "      <th>2</th>\n",
       "      <td>78</td>\n",
       "      <td>1.0</td>\n",
       "    </tr>\n",
       "    <tr>\n",
       "      <th>6</th>\n",
       "      <td>22</td>\n",
       "      <td>1.0</td>\n",
       "    </tr>\n",
       "    <tr>\n",
       "      <th>10</th>\n",
       "      <td>46</td>\n",
       "      <td>1.0</td>\n",
       "    </tr>\n",
       "    <tr>\n",
       "      <th>...</th>\n",
       "      <td>...</td>\n",
       "      <td>...</td>\n",
       "    </tr>\n",
       "    <tr>\n",
       "      <th>5723</th>\n",
       "      <td>72</td>\n",
       "      <td>1.0</td>\n",
       "    </tr>\n",
       "    <tr>\n",
       "      <th>5726</th>\n",
       "      <td>53</td>\n",
       "      <td>1.0</td>\n",
       "    </tr>\n",
       "    <tr>\n",
       "      <th>5730</th>\n",
       "      <td>76</td>\n",
       "      <td>1.0</td>\n",
       "    </tr>\n",
       "    <tr>\n",
       "      <th>5732</th>\n",
       "      <td>80</td>\n",
       "      <td>1.0</td>\n",
       "    </tr>\n",
       "    <tr>\n",
       "      <th>5733</th>\n",
       "      <td>35</td>\n",
       "      <td>1.0</td>\n",
       "    </tr>\n",
       "  </tbody>\n",
       "</table>\n",
       "<p>2319 rows × 2 columns</p>\n",
       "</div>"
      ],
      "text/plain": [
       "      RIDAGEYR  SMQ020\n",
       "0           62     1.0\n",
       "1           53     1.0\n",
       "2           78     1.0\n",
       "6           22     1.0\n",
       "10          46     1.0\n",
       "...        ...     ...\n",
       "5723        72     1.0\n",
       "5726        53     1.0\n",
       "5730        76     1.0\n",
       "5732        80     1.0\n",
       "5733        35     1.0\n",
       "\n",
       "[2319 rows x 2 columns]"
      ]
     },
     "execution_count": 60,
     "metadata": {},
     "output_type": "execute_result"
    }
   ],
   "source": [
    "dz = df[df['SMQ020'] == 1] \n",
    "dk = dz[['RIDAGEYR', 'SMQ020']]\n",
    "dk"
   ]
  },
  {
   "cell_type": "code",
   "execution_count": 58,
   "id": "7edcc32a",
   "metadata": {},
   "outputs": [
    {
     "data": {
      "image/png": "[encoded data removed]",
      "text/plain": [
       "<Figure size 432x288 with 1 Axes>"
      ]
     },
     "metadata": {
      "needs_background": "light"
     },
     "output_type": "display_data"
    }
   ],
   "source": [
    "sns.histplot(dk['RIDAGEYR'])\n",
    "plt.title('Hist plot - Smokers')\n",
    "plt.show()"
   ]
  },
  {
   "cell_type": "code",
   "execution_count": 61,
   "id": "beb18bb5",
   "metadata": {},
   "outputs": [
    {
     "data": {
      "text/plain": [
       "count    2319.000000\n",
       "mean       52.096593\n",
       "std        17.461141\n",
       "min        18.000000\n",
       "25%        37.000000\n",
       "50%        54.000000\n",
       "75%        66.000000\n",
       "max        80.000000\n",
       "Name: RIDAGEYR, dtype: float64"
      ]
     },
     "execution_count": 61,
     "metadata": {},
     "output_type": "execute_result"
    }
   ],
   "source": [
    "dk['RIDAGEYR'].describe() # for smokers"
   ]
  },
  {
   "cell_type": "code",
   "execution_count": 63,
   "id": "48ab4501",
   "metadata": {},
   "outputs": [
    {
     "data": {
      "image/png": "[encoded data removed]",
      "text/plain": [
       "<Figure size 432x288 with 1 Axes>"
      ]
     },
     "metadata": {
      "needs_background": "light"
     },
     "output_type": "display_data"
    }
   ],
   "source": [
    "dl = df[df['SMQ020'] == 0] \n",
    "dh = dl[['RIDAGEYR', 'SMQ020']]\n",
    "sns.histplot(dh['RIDAGEYR'])\n",
    "plt.title('Hist plot - Non-smokers')\n",
    "plt.show()"
   ]
  },
  {
   "cell_type": "code",
   "execution_count": 64,
   "id": "4aea43ac",
   "metadata": {},
   "outputs": [
    {
     "data": {
      "text/plain": [
       "count    3406.000000\n",
       "mean       45.259836\n",
       "std        18.543286\n",
       "min        18.000000\n",
       "25%        29.000000\n",
       "50%        44.000000\n",
       "75%        60.000000\n",
       "max        80.000000\n",
       "Name: RIDAGEYR, dtype: float64"
      ]
     },
     "execution_count": 64,
     "metadata": {},
     "output_type": "execute_result"
    }
   ],
   "source": [
    "dh['RIDAGEYR'].describe()"
   ]
  }
 ],
 "metadata": {
  "kernelspec": {
   "display_name": "Python 3 (ipykernel)",
   "language": "python",
   "name": "python3"
  },
  "language_info": {
   "codemirror_mode": {
    "name": "ipython",
    "version": 3
   },
   "file_extension": ".py",
   "mimetype": "text/x-python",
   "name": "python",
   "nbconvert_exporter": "python",
   "pygments_lexer": "ipython3",
   "version": "3.9.7"
  }
 },
 "nbformat": 4,
 "nbformat_minor": 5
}
