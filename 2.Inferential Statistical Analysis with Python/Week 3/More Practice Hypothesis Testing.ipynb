{
 "cells": [
  {
   "cell_type": "code",
   "execution_count": 259,
   "id": "bec23947",
   "metadata": {},
   "outputs": [],
   "source": [
    "import pandas as pd\n",
    "import numpy as np\n",
    "import matplotlib\n",
    "import seaborn as sns\n",
    "%matplotlib inline\n",
    "import matplotlib.pyplot as plt\n",
    "import statsmodels.api as sm\n",
    "import scipy.stats.distributions as dist\n",
    "import scipy.stats"
   ]
  },
  {
   "cell_type": "code",
   "execution_count": 264,
   "id": "988ff1e4",
   "metadata": {},
   "outputs": [
    {
     "data": {
      "text/html": [
       "<div>\n",
       "<style scoped>\n",
       "    .dataframe tbody tr th:only-of-type {\n",
       "        vertical-align: middle;\n",
       "    }\n",
       "\n",
       "    .dataframe tbody tr th {\n",
       "        vertical-align: top;\n",
       "    }\n",
       "\n",
       "    .dataframe thead th {\n",
       "        text-align: right;\n",
       "    }\n",
       "</style>\n",
       "<table border=\"1\" class=\"dataframe\">\n",
       "  <thead>\n",
       "    <tr style=\"text-align: right;\">\n",
       "      <th></th>\n",
       "      <th>SEQN</th>\n",
       "      <th>ALQ101</th>\n",
       "      <th>ALQ110</th>\n",
       "      <th>ALQ130</th>\n",
       "      <th>SMQ020</th>\n",
       "      <th>RIAGENDR</th>\n",
       "      <th>RIDAGEYR</th>\n",
       "      <th>RIDRETH1</th>\n",
       "      <th>DMDCITZN</th>\n",
       "      <th>DMDEDUC2</th>\n",
       "      <th>...</th>\n",
       "      <th>BPXSY2</th>\n",
       "      <th>BPXDI2</th>\n",
       "      <th>BMXWT</th>\n",
       "      <th>BMXHT</th>\n",
       "      <th>BMXBMI</th>\n",
       "      <th>BMXLEG</th>\n",
       "      <th>BMXARML</th>\n",
       "      <th>BMXARMC</th>\n",
       "      <th>BMXWAIST</th>\n",
       "      <th>HIQ210</th>\n",
       "    </tr>\n",
       "  </thead>\n",
       "  <tbody>\n",
       "    <tr>\n",
       "      <th>0</th>\n",
       "      <td>83732</td>\n",
       "      <td>1.0</td>\n",
       "      <td>NaN</td>\n",
       "      <td>1.0</td>\n",
       "      <td>1.0</td>\n",
       "      <td>1</td>\n",
       "      <td>62</td>\n",
       "      <td>3</td>\n",
       "      <td>1.0</td>\n",
       "      <td>5.0</td>\n",
       "      <td>...</td>\n",
       "      <td>124.0</td>\n",
       "      <td>64.0</td>\n",
       "      <td>94.8</td>\n",
       "      <td>184.5</td>\n",
       "      <td>27.8</td>\n",
       "      <td>43.3</td>\n",
       "      <td>43.6</td>\n",
       "      <td>35.9</td>\n",
       "      <td>101.1</td>\n",
       "      <td>2.0</td>\n",
       "    </tr>\n",
       "    <tr>\n",
       "      <th>1</th>\n",
       "      <td>83733</td>\n",
       "      <td>1.0</td>\n",
       "      <td>NaN</td>\n",
       "      <td>6.0</td>\n",
       "      <td>1.0</td>\n",
       "      <td>1</td>\n",
       "      <td>53</td>\n",
       "      <td>3</td>\n",
       "      <td>2.0</td>\n",
       "      <td>3.0</td>\n",
       "      <td>...</td>\n",
       "      <td>140.0</td>\n",
       "      <td>88.0</td>\n",
       "      <td>90.4</td>\n",
       "      <td>171.4</td>\n",
       "      <td>30.8</td>\n",
       "      <td>38.0</td>\n",
       "      <td>40.0</td>\n",
       "      <td>33.2</td>\n",
       "      <td>107.9</td>\n",
       "      <td>NaN</td>\n",
       "    </tr>\n",
       "    <tr>\n",
       "      <th>2</th>\n",
       "      <td>83734</td>\n",
       "      <td>1.0</td>\n",
       "      <td>NaN</td>\n",
       "      <td>NaN</td>\n",
       "      <td>1.0</td>\n",
       "      <td>1</td>\n",
       "      <td>78</td>\n",
       "      <td>3</td>\n",
       "      <td>1.0</td>\n",
       "      <td>3.0</td>\n",
       "      <td>...</td>\n",
       "      <td>132.0</td>\n",
       "      <td>44.0</td>\n",
       "      <td>83.4</td>\n",
       "      <td>170.1</td>\n",
       "      <td>28.8</td>\n",
       "      <td>35.6</td>\n",
       "      <td>37.0</td>\n",
       "      <td>31.0</td>\n",
       "      <td>116.5</td>\n",
       "      <td>2.0</td>\n",
       "    </tr>\n",
       "    <tr>\n",
       "      <th>3</th>\n",
       "      <td>83735</td>\n",
       "      <td>2.0</td>\n",
       "      <td>1.0</td>\n",
       "      <td>1.0</td>\n",
       "      <td>0.0</td>\n",
       "      <td>2</td>\n",
       "      <td>56</td>\n",
       "      <td>3</td>\n",
       "      <td>1.0</td>\n",
       "      <td>5.0</td>\n",
       "      <td>...</td>\n",
       "      <td>134.0</td>\n",
       "      <td>68.0</td>\n",
       "      <td>109.8</td>\n",
       "      <td>160.9</td>\n",
       "      <td>42.4</td>\n",
       "      <td>38.5</td>\n",
       "      <td>37.7</td>\n",
       "      <td>38.3</td>\n",
       "      <td>110.1</td>\n",
       "      <td>2.0</td>\n",
       "    </tr>\n",
       "    <tr>\n",
       "      <th>4</th>\n",
       "      <td>83736</td>\n",
       "      <td>2.0</td>\n",
       "      <td>1.0</td>\n",
       "      <td>1.0</td>\n",
       "      <td>0.0</td>\n",
       "      <td>2</td>\n",
       "      <td>42</td>\n",
       "      <td>4</td>\n",
       "      <td>1.0</td>\n",
       "      <td>4.0</td>\n",
       "      <td>...</td>\n",
       "      <td>114.0</td>\n",
       "      <td>54.0</td>\n",
       "      <td>55.2</td>\n",
       "      <td>164.9</td>\n",
       "      <td>20.3</td>\n",
       "      <td>37.4</td>\n",
       "      <td>36.0</td>\n",
       "      <td>27.2</td>\n",
       "      <td>80.4</td>\n",
       "      <td>2.0</td>\n",
       "    </tr>\n",
       "  </tbody>\n",
       "</table>\n",
       "<p>5 rows × 28 columns</p>\n",
       "</div>"
      ],
      "text/plain": [
       "    SEQN  ALQ101  ALQ110  ALQ130  SMQ020  RIAGENDR  RIDAGEYR  RIDRETH1  \\\n",
       "0  83732     1.0     NaN     1.0     1.0         1        62         3   \n",
       "1  83733     1.0     NaN     6.0     1.0         1        53         3   \n",
       "2  83734     1.0     NaN     NaN     1.0         1        78         3   \n",
       "3  83735     2.0     1.0     1.0     0.0         2        56         3   \n",
       "4  83736     2.0     1.0     1.0     0.0         2        42         4   \n",
       "\n",
       "   DMDCITZN  DMDEDUC2  ...  BPXSY2  BPXDI2  BMXWT  BMXHT  BMXBMI  BMXLEG  \\\n",
       "0       1.0       5.0  ...   124.0    64.0   94.8  184.5    27.8    43.3   \n",
       "1       2.0       3.0  ...   140.0    88.0   90.4  171.4    30.8    38.0   \n",
       "2       1.0       3.0  ...   132.0    44.0   83.4  170.1    28.8    35.6   \n",
       "3       1.0       5.0  ...   134.0    68.0  109.8  160.9    42.4    38.5   \n",
       "4       1.0       4.0  ...   114.0    54.0   55.2  164.9    20.3    37.4   \n",
       "\n",
       "   BMXARML  BMXARMC  BMXWAIST  HIQ210  \n",
       "0     43.6     35.9     101.1     2.0  \n",
       "1     40.0     33.2     107.9     NaN  \n",
       "2     37.0     31.0     116.5     2.0  \n",
       "3     37.7     38.3     110.1     2.0  \n",
       "4     36.0     27.2      80.4     2.0  \n",
       "\n",
       "[5 rows x 28 columns]"
      ]
     },
     "execution_count": 264,
     "metadata": {},
     "output_type": "execute_result"
    }
   ],
   "source": [
    "da = pd.read_csv(\"C:/Users/eli/Desktop/nhanes_2015_2016.csv\")\n",
    "da['SMQ020'] = da[\"SMQ020\"].map({1:1, 2:0})\n",
    "da.head()"
   ]
  },
  {
   "cell_type": "code",
   "execution_count": 265,
   "id": "6dd605d7",
   "metadata": {},
   "outputs": [
    {
     "data": {
      "text/html": [
       "<div>\n",
       "<style scoped>\n",
       "    .dataframe tbody tr th:only-of-type {\n",
       "        vertical-align: middle;\n",
       "    }\n",
       "\n",
       "    .dataframe tbody tr th {\n",
       "        vertical-align: top;\n",
       "    }\n",
       "\n",
       "    .dataframe thead th {\n",
       "        text-align: right;\n",
       "    }\n",
       "</style>\n",
       "<table border=\"1\" class=\"dataframe\">\n",
       "  <thead>\n",
       "    <tr style=\"text-align: right;\">\n",
       "      <th></th>\n",
       "      <th>SEQN</th>\n",
       "      <th>ALQ101</th>\n",
       "      <th>ALQ110</th>\n",
       "      <th>ALQ130</th>\n",
       "      <th>SMQ020</th>\n",
       "      <th>RIAGENDR</th>\n",
       "      <th>RIDAGEYR</th>\n",
       "      <th>RIDRETH1</th>\n",
       "      <th>DMDCITZN</th>\n",
       "      <th>DMDEDUC2</th>\n",
       "      <th>...</th>\n",
       "      <th>BPXSY2</th>\n",
       "      <th>BPXDI2</th>\n",
       "      <th>BMXWT</th>\n",
       "      <th>BMXHT</th>\n",
       "      <th>BMXBMI</th>\n",
       "      <th>BMXLEG</th>\n",
       "      <th>BMXARML</th>\n",
       "      <th>BMXARMC</th>\n",
       "      <th>BMXWAIST</th>\n",
       "      <th>HIQ210</th>\n",
       "    </tr>\n",
       "  </thead>\n",
       "  <tbody>\n",
       "    <tr>\n",
       "      <th>0</th>\n",
       "      <td>83732</td>\n",
       "      <td>1.0</td>\n",
       "      <td>NaN</td>\n",
       "      <td>1.0</td>\n",
       "      <td>1.0</td>\n",
       "      <td>Male</td>\n",
       "      <td>62</td>\n",
       "      <td>3</td>\n",
       "      <td>1.0</td>\n",
       "      <td>5.0</td>\n",
       "      <td>...</td>\n",
       "      <td>124.0</td>\n",
       "      <td>64.0</td>\n",
       "      <td>94.8</td>\n",
       "      <td>184.5</td>\n",
       "      <td>27.8</td>\n",
       "      <td>43.3</td>\n",
       "      <td>43.6</td>\n",
       "      <td>35.9</td>\n",
       "      <td>101.1</td>\n",
       "      <td>2.0</td>\n",
       "    </tr>\n",
       "    <tr>\n",
       "      <th>1</th>\n",
       "      <td>83733</td>\n",
       "      <td>1.0</td>\n",
       "      <td>NaN</td>\n",
       "      <td>6.0</td>\n",
       "      <td>1.0</td>\n",
       "      <td>Male</td>\n",
       "      <td>53</td>\n",
       "      <td>3</td>\n",
       "      <td>2.0</td>\n",
       "      <td>3.0</td>\n",
       "      <td>...</td>\n",
       "      <td>140.0</td>\n",
       "      <td>88.0</td>\n",
       "      <td>90.4</td>\n",
       "      <td>171.4</td>\n",
       "      <td>30.8</td>\n",
       "      <td>38.0</td>\n",
       "      <td>40.0</td>\n",
       "      <td>33.2</td>\n",
       "      <td>107.9</td>\n",
       "      <td>NaN</td>\n",
       "    </tr>\n",
       "    <tr>\n",
       "      <th>2</th>\n",
       "      <td>83734</td>\n",
       "      <td>1.0</td>\n",
       "      <td>NaN</td>\n",
       "      <td>NaN</td>\n",
       "      <td>1.0</td>\n",
       "      <td>Male</td>\n",
       "      <td>78</td>\n",
       "      <td>3</td>\n",
       "      <td>1.0</td>\n",
       "      <td>3.0</td>\n",
       "      <td>...</td>\n",
       "      <td>132.0</td>\n",
       "      <td>44.0</td>\n",
       "      <td>83.4</td>\n",
       "      <td>170.1</td>\n",
       "      <td>28.8</td>\n",
       "      <td>35.6</td>\n",
       "      <td>37.0</td>\n",
       "      <td>31.0</td>\n",
       "      <td>116.5</td>\n",
       "      <td>2.0</td>\n",
       "    </tr>\n",
       "    <tr>\n",
       "      <th>3</th>\n",
       "      <td>83735</td>\n",
       "      <td>2.0</td>\n",
       "      <td>1.0</td>\n",
       "      <td>1.0</td>\n",
       "      <td>0.0</td>\n",
       "      <td>Female</td>\n",
       "      <td>56</td>\n",
       "      <td>3</td>\n",
       "      <td>1.0</td>\n",
       "      <td>5.0</td>\n",
       "      <td>...</td>\n",
       "      <td>134.0</td>\n",
       "      <td>68.0</td>\n",
       "      <td>109.8</td>\n",
       "      <td>160.9</td>\n",
       "      <td>42.4</td>\n",
       "      <td>38.5</td>\n",
       "      <td>37.7</td>\n",
       "      <td>38.3</td>\n",
       "      <td>110.1</td>\n",
       "      <td>2.0</td>\n",
       "    </tr>\n",
       "    <tr>\n",
       "      <th>4</th>\n",
       "      <td>83736</td>\n",
       "      <td>2.0</td>\n",
       "      <td>1.0</td>\n",
       "      <td>1.0</td>\n",
       "      <td>0.0</td>\n",
       "      <td>Female</td>\n",
       "      <td>42</td>\n",
       "      <td>4</td>\n",
       "      <td>1.0</td>\n",
       "      <td>4.0</td>\n",
       "      <td>...</td>\n",
       "      <td>114.0</td>\n",
       "      <td>54.0</td>\n",
       "      <td>55.2</td>\n",
       "      <td>164.9</td>\n",
       "      <td>20.3</td>\n",
       "      <td>37.4</td>\n",
       "      <td>36.0</td>\n",
       "      <td>27.2</td>\n",
       "      <td>80.4</td>\n",
       "      <td>2.0</td>\n",
       "    </tr>\n",
       "  </tbody>\n",
       "</table>\n",
       "<p>5 rows × 28 columns</p>\n",
       "</div>"
      ],
      "text/plain": [
       "    SEQN  ALQ101  ALQ110  ALQ130  SMQ020 RIAGENDR  RIDAGEYR  RIDRETH1  \\\n",
       "0  83732     1.0     NaN     1.0     1.0     Male        62         3   \n",
       "1  83733     1.0     NaN     6.0     1.0     Male        53         3   \n",
       "2  83734     1.0     NaN     NaN     1.0     Male        78         3   \n",
       "3  83735     2.0     1.0     1.0     0.0   Female        56         3   \n",
       "4  83736     2.0     1.0     1.0     0.0   Female        42         4   \n",
       "\n",
       "   DMDCITZN  DMDEDUC2  ...  BPXSY2  BPXDI2  BMXWT  BMXHT  BMXBMI  BMXLEG  \\\n",
       "0       1.0       5.0  ...   124.0    64.0   94.8  184.5    27.8    43.3   \n",
       "1       2.0       3.0  ...   140.0    88.0   90.4  171.4    30.8    38.0   \n",
       "2       1.0       3.0  ...   132.0    44.0   83.4  170.1    28.8    35.6   \n",
       "3       1.0       5.0  ...   134.0    68.0  109.8  160.9    42.4    38.5   \n",
       "4       1.0       4.0  ...   114.0    54.0   55.2  164.9    20.3    37.4   \n",
       "\n",
       "   BMXARML  BMXARMC  BMXWAIST  HIQ210  \n",
       "0     43.6     35.9     101.1     2.0  \n",
       "1     40.0     33.2     107.9     NaN  \n",
       "2     37.0     31.0     116.5     2.0  \n",
       "3     37.7     38.3     110.1     2.0  \n",
       "4     36.0     27.2      80.4     2.0  \n",
       "\n",
       "[5 rows x 28 columns]"
      ]
     },
     "execution_count": 265,
     "metadata": {},
     "output_type": "execute_result"
    }
   ],
   "source": [
    "da[\"RIAGENDR\"] = da[\"RIAGENDR\"].map({1:\"Male\", 2:\"Female\"})\n",
    "da.head()"
   ]
  },
  {
   "cell_type": "markdown",
   "id": "c234bc4b",
   "metadata": {},
   "source": [
    "# Question 1\n",
    "\n",
    "Conduct a hypothesis test (at the 0.05 level) for the null hypothesis that the proportion of women who smoke is equal to the proportion of men who smoke.\n",
    "Computed P-value is 4.583041683422152e-58 which shows that there is statistically significant difference in the population ratio between the males smokers and the females smokers.\n"
   ]
  },
  {
   "cell_type": "code",
   "execution_count": 266,
   "id": "08d5d357",
   "metadata": {},
   "outputs": [
    {
     "data": {
      "text/html": [
       "<div>\n",
       "<style scoped>\n",
       "    .dataframe tbody tr th:only-of-type {\n",
       "        vertical-align: middle;\n",
       "    }\n",
       "\n",
       "    .dataframe tbody tr th {\n",
       "        vertical-align: top;\n",
       "    }\n",
       "\n",
       "    .dataframe thead th {\n",
       "        text-align: right;\n",
       "    }\n",
       "</style>\n",
       "<table border=\"1\" class=\"dataframe\">\n",
       "  <thead>\n",
       "    <tr style=\"text-align: right;\">\n",
       "      <th></th>\n",
       "      <th>Proportion of smokers</th>\n",
       "      <th>Total n</th>\n",
       "    </tr>\n",
       "    <tr>\n",
       "      <th>RIAGENDR</th>\n",
       "      <th></th>\n",
       "      <th></th>\n",
       "    </tr>\n",
       "  </thead>\n",
       "  <tbody>\n",
       "    <tr>\n",
       "      <th>Female</th>\n",
       "      <td>0.304845</td>\n",
       "      <td>2976</td>\n",
       "    </tr>\n",
       "    <tr>\n",
       "      <th>Male</th>\n",
       "      <td>0.513258</td>\n",
       "      <td>2759</td>\n",
       "    </tr>\n",
       "  </tbody>\n",
       "</table>\n",
       "</div>"
      ],
      "text/plain": [
       "          Proportion of smokers  Total n\n",
       "RIAGENDR                                \n",
       "Female                 0.304845     2976\n",
       "Male                   0.513258     2759"
      ]
     },
     "execution_count": 266,
     "metadata": {},
     "output_type": "execute_result"
    }
   ],
   "source": [
    "df = da.groupby(\"RIAGENDR\").agg({\"SMQ020\": [np.mean, np.size]})\n",
    "df.columns = [\"Proportion of smokers\", \"Total n\"]\n",
    "df"
   ]
  },
  {
   "cell_type": "code",
   "execution_count": 16,
   "id": "cea5f8b8",
   "metadata": {},
   "outputs": [
    {
     "data": {
      "text/plain": [
       "0.20841300000000001"
      ]
     },
     "execution_count": 16,
     "metadata": {},
     "output_type": "execute_result"
    }
   ],
   "source": [
    "n_male_total = 2759\n",
    "n1 = 0.513258 * n_male_total\n",
    "p_hat_male_smoker = 0.513258\n",
    "\n",
    "n_female_total = 2976\n",
    "n2 = 0.304845 * n_female_total\n",
    "p_hat_female_smoker = 0.304845\n",
    "\n",
    "p_hat_total = (n1 + n2) / (n_male_total + n_female_total)\n",
    "best_est = p_hat_male_smoker - p_hat_female_smoker\n",
    "best_est"
   ]
  },
  {
   "cell_type": "code",
   "execution_count": 17,
   "id": "46f49ca2",
   "metadata": {},
   "outputs": [
    {
     "data": {
      "text/plain": [
       "16.06370941013077"
      ]
     },
     "execution_count": 17,
     "metadata": {},
     "output_type": "execute_result"
    }
   ],
   "source": [
    "Z_test_stats = best_est / np.sqrt(p_hat_total * (1 - p_hat_total) * (1/n_male_total + 1/n_female_total))\n",
    "Z_test_stats"
   ]
  },
  {
   "cell_type": "code",
   "execution_count": 18,
   "id": "82e74a97",
   "metadata": {},
   "outputs": [
    {
     "name": "stdout",
     "output_type": "stream",
     "text": [
      "Computed P-value is 4.583041683422152e-58\n"
     ]
    }
   ],
   "source": [
    "# Calculate the P-value\n",
    "pvalue = 2*dist.norm.cdf(-np.abs(Z_test_stats)) # Multiplied by two indicates a two tailed testing.\n",
    "print(\"Computed P-value is\", pvalue)"
   ]
  },
  {
   "cell_type": "markdown",
   "id": "845988ab",
   "metadata": {},
   "source": [
    "Q1b. Construct three 95% confidence intervals: one for the proportion of women who smoke, one for the proportion of men who smoke, and one for the difference in the rates of smoking between women and men."
   ]
  },
  {
   "cell_type": "code",
   "execution_count": 23,
   "id": "0799b19c",
   "metadata": {},
   "outputs": [
    {
     "name": "stdout",
     "output_type": "stream",
     "text": [
      "0.4946071986726034 0.5319088013273966\n"
     ]
    }
   ],
   "source": [
    " # 95% confidence intervals for the proportion of men who smoke\n",
    "E_male = 1.96 * np.sqrt(p_hat_male_smoker * (1 - p_hat_male_smoker) / n_male_total)\n",
    "lower_b = p_hat_male_smoker - E_male\n",
    "upper_b = p_hat_male_smoker + E_male\n",
    "print(lower_b, upper_b)"
   ]
  },
  {
   "cell_type": "code",
   "execution_count": 22,
   "id": "d3e01c38",
   "metadata": {},
   "outputs": [
    {
     "name": "stdout",
     "output_type": "stream",
     "text": [
      "0.2883055915893855 0.32138440841061444\n"
     ]
    }
   ],
   "source": [
    "# 95% confidence intervals for the proportion of women who smoke\n",
    "E_female = 1.96 * np.sqrt(p_hat_female_smoker * (1 - p_hat_female_smoker) / n_female_total)\n",
    "lower_b = p_hat_female_smoker - E_female\n",
    "upper_b = p_hat_female_smoker + E_female\n",
    "print(lower_b, upper_b)"
   ]
  },
  {
   "cell_type": "code",
   "execution_count": 24,
   "id": "efb699f6",
   "metadata": {},
   "outputs": [
    {
     "name": "stdout",
     "output_type": "stream",
     "text": [
      "0.18348501530955375 0.23334098469044628\n"
     ]
    }
   ],
   "source": [
    "# 95% confidence intervals for the difference in the rates of smoking between men and women\n",
    "E_diff = 1.96 * np.sqrt((p_hat_male_smoker * (1 - p_hat_male_smoker) / n_male_total) + \n",
    "                        (p_hat_female_smoker * (1 - p_hat_female_smoker) / n_female_total))\n",
    "lower_b = (p_hat_male_smoker - p_hat_female_smoker) - E_diff\n",
    "upper_b = (p_hat_male_smoker - p_hat_female_smoker) + E_diff\n",
    "print(lower_b, upper_b)"
   ]
  },
  {
   "cell_type": "markdown",
   "id": "e62e1177",
   "metadata": {},
   "source": [
    "# Question 2\n",
    "\n",
    "Partition the population into two groups based on whether a person has graduated college or not, using the educational attainment variable DMDEDUC2. Then conduct a test of the null hypothesis that the average heights (in centimeters) of the two groups are equal. Next, convert the heights from centimeters to inches, and conduct a test of the null hypothesis that the average heights (in inches) of the two groups are equal.\n",
    "The Hypothesis test shows that there is statistically significant difference in heights between these two groups - graduated college or not.\n"
   ]
  },
  {
   "cell_type": "code",
   "execution_count": 267,
   "id": "567f0f11",
   "metadata": {},
   "outputs": [
    {
     "data": {
      "text/plain": [
       "0       1.0\n",
       "1       0.0\n",
       "2       0.0\n",
       "3       1.0\n",
       "4       0.0\n",
       "       ... \n",
       "5730    0.0\n",
       "5731    1.0\n",
       "5732    0.0\n",
       "5733    0.0\n",
       "5734    1.0\n",
       "Name: DMDEDUC2, Length: 5735, dtype: float64"
      ]
     },
     "execution_count": 267,
     "metadata": {},
     "output_type": "execute_result"
    }
   ],
   "source": [
    "# have completed college vs don't have completed college\n",
    "da[\"DMDEDUC2\"] = da[\"DMDEDUC2\"].replace({1:0, 2:0, 3:0, 4:0, 5:1, 7:np.nan, 9:np.nan})\n",
    "da[\"DMDEDUC2\"] = da[\"DMDEDUC2\"].dropna()\n",
    "da[\"DMDEDUC2\"]"
   ]
  },
  {
   "cell_type": "code",
   "execution_count": 82,
   "id": "c5463f76",
   "metadata": {},
   "outputs": [
    {
     "data": {
      "text/html": [
       "<div>\n",
       "<style scoped>\n",
       "    .dataframe tbody tr th:only-of-type {\n",
       "        vertical-align: middle;\n",
       "    }\n",
       "\n",
       "    .dataframe tbody tr th {\n",
       "        vertical-align: top;\n",
       "    }\n",
       "\n",
       "    .dataframe thead tr th {\n",
       "        text-align: left;\n",
       "    }\n",
       "\n",
       "    .dataframe thead tr:last-of-type th {\n",
       "        text-align: right;\n",
       "    }\n",
       "</style>\n",
       "<table border=\"1\" class=\"dataframe\">\n",
       "  <thead>\n",
       "    <tr>\n",
       "      <th></th>\n",
       "      <th>BMXHT</th>\n",
       "    </tr>\n",
       "    <tr>\n",
       "      <th></th>\n",
       "      <th>mean</th>\n",
       "    </tr>\n",
       "    <tr>\n",
       "      <th>DMDEDUC2</th>\n",
       "      <th></th>\n",
       "    </tr>\n",
       "  </thead>\n",
       "  <tbody>\n",
       "    <tr>\n",
       "      <th>0.0</th>\n",
       "      <td>165.466519</td>\n",
       "    </tr>\n",
       "    <tr>\n",
       "      <th>1.0</th>\n",
       "      <td>167.855351</td>\n",
       "    </tr>\n",
       "  </tbody>\n",
       "</table>\n",
       "</div>"
      ],
      "text/plain": [
       "               BMXHT\n",
       "                mean\n",
       "DMDEDUC2            \n",
       "0.0       165.466519\n",
       "1.0       167.855351"
      ]
     },
     "execution_count": 82,
     "metadata": {},
     "output_type": "execute_result"
    }
   ],
   "source": [
    "dh = da.groupby(\"DMDEDUC2\").agg({\"BMXHT\": [np.mean]})\n",
    "dh"
   ]
  },
  {
   "cell_type": "code",
   "execution_count": 83,
   "id": "4ff773a5",
   "metadata": {},
   "outputs": [
    {
     "name": "stdout",
     "output_type": "stream",
     "text": [
      "165.4665188470065 167.85535055350562\n"
     ]
    }
   ],
   "source": [
    "height_graduated = da.loc[da.DMDEDUC2 == 1, \"BMXHT\"]\n",
    "height_non_graduated = da.loc[da.DMDEDUC2 == 0, \"BMXHT\"]\n",
    "print(height_non_graduated.mean(), height_graduated.mean()) "
   ]
  },
  {
   "cell_type": "code",
   "execution_count": 93,
   "id": "38f5a593",
   "metadata": {},
   "outputs": [
    {
     "name": "stdout",
     "output_type": "stream",
     "text": [
      "(-7.569245765210218, 3.753973608321762e-14)\n"
     ]
    }
   ],
   "source": [
    "print(sm.stats.ztest( height_non_graduated.dropna(), height_graduated.dropna()))"
   ]
  },
  {
   "cell_type": "markdown",
   "id": "e8ccafac",
   "metadata": {},
   "source": [
    "Convert the heights from centimeters to inches, and conduct a test of the null hypothesis that the average heights (in inches) of the two groups are equal. The results are the same - there is  statistically significant difference in heights between these two groups - graduated college or not."
   ]
  },
  {
   "cell_type": "code",
   "execution_count": 85,
   "id": "0007476d",
   "metadata": {},
   "outputs": [
    {
     "data": {
      "text/plain": [
       "0       72.637795\n",
       "1       67.480315\n",
       "2       66.968504\n",
       "3       63.346457\n",
       "4       64.921260\n",
       "          ...    \n",
       "5730    65.275591\n",
       "5731    71.732283\n",
       "5732    59.921260\n",
       "5733    68.228346\n",
       "5734    64.960630\n",
       "Name: BMXHT_INCHES, Length: 5735, dtype: float64"
      ]
     },
     "execution_count": 85,
     "metadata": {},
     "output_type": "execute_result"
    }
   ],
   "source": [
    "da[\"BMXHT_INCHES\"] = da[\"BMXHT\"] / 2.54\n",
    "da[\"BMXHT_INCHES\"]"
   ]
  },
  {
   "cell_type": "code",
   "execution_count": 88,
   "id": "a93aa2f6",
   "metadata": {},
   "outputs": [
    {
     "data": {
      "text/html": [
       "<div>\n",
       "<style scoped>\n",
       "    .dataframe tbody tr th:only-of-type {\n",
       "        vertical-align: middle;\n",
       "    }\n",
       "\n",
       "    .dataframe tbody tr th {\n",
       "        vertical-align: top;\n",
       "    }\n",
       "\n",
       "    .dataframe thead tr th {\n",
       "        text-align: left;\n",
       "    }\n",
       "\n",
       "    .dataframe thead tr:last-of-type th {\n",
       "        text-align: right;\n",
       "    }\n",
       "</style>\n",
       "<table border=\"1\" class=\"dataframe\">\n",
       "  <thead>\n",
       "    <tr>\n",
       "      <th></th>\n",
       "      <th>BMXHT_INCHES</th>\n",
       "    </tr>\n",
       "    <tr>\n",
       "      <th></th>\n",
       "      <th>mean</th>\n",
       "    </tr>\n",
       "    <tr>\n",
       "      <th>DMDEDUC2</th>\n",
       "      <th></th>\n",
       "    </tr>\n",
       "  </thead>\n",
       "  <tbody>\n",
       "    <tr>\n",
       "      <th>0.0</th>\n",
       "      <td>65.144299</td>\n",
       "    </tr>\n",
       "    <tr>\n",
       "      <th>1.0</th>\n",
       "      <td>66.084784</td>\n",
       "    </tr>\n",
       "  </tbody>\n",
       "</table>\n",
       "</div>"
      ],
      "text/plain": [
       "         BMXHT_INCHES\n",
       "                 mean\n",
       "DMDEDUC2             \n",
       "0.0         65.144299\n",
       "1.0         66.084784"
      ]
     },
     "execution_count": 88,
     "metadata": {},
     "output_type": "execute_result"
    }
   ],
   "source": [
    "dh = da.groupby(\"DMDEDUC2\").agg({\"BMXHT_INCHES\": [np.mean]})\n",
    "dh"
   ]
  },
  {
   "cell_type": "code",
   "execution_count": 90,
   "id": "aea6e64c",
   "metadata": {},
   "outputs": [
    {
     "name": "stdout",
     "output_type": "stream",
     "text": [
      "65.14429875866409 66.08478368248244\n"
     ]
    }
   ],
   "source": [
    "height_non_graduated = da.loc[da.DMDEDUC2 == 0, \"BMXHT_INCHES\"]\n",
    "height_graduated = da.loc[da.DMDEDUC2 == 1, \"BMXHT_INCHES\"]\n",
    "print(height_non_graduated.mean(), height_graduated.mean()) "
   ]
  },
  {
   "cell_type": "code",
   "execution_count": 92,
   "id": "82a2e444",
   "metadata": {},
   "outputs": [
    {
     "name": "stdout",
     "output_type": "stream",
     "text": [
      "(-7.569245765210218, 3.753973608321762e-14)\n"
     ]
    }
   ],
   "source": [
    "print(sm.stats.ztest(height_non_graduated.dropna(), height_graduated.dropna(), ))"
   ]
  },
  {
   "cell_type": "markdown",
   "id": "f1a5227b",
   "metadata": {},
   "source": [
    "# Question 3\n",
    "\n",
    "Conduct a hypothesis test of the null hypothesis that the average BMI for men between 30 and 40 is equal to the average BMI for men between 50 and 60. After testing p-value is 0.36897190924214873 that is higher than 0.05 (sigificant level). We don't have enough evidence to accept that BMI is different for men between 30 and 40 and for men between 50 and 60.\n",
    "Then carry out this test again after log transforming the BMI values.After testing p-value is 0.4803222133688403. And in this case we don't have enough evidence to accept that BMI is different for men between 30 and 40 and for men between 50 and 60.\n"
   ]
  },
  {
   "cell_type": "code",
   "execution_count": 130,
   "id": "d858fdf6",
   "metadata": {},
   "outputs": [
    {
     "data": {
      "text/plain": [
       "29.613729508196734"
      ]
     },
     "execution_count": 130,
     "metadata": {},
     "output_type": "execute_result"
    }
   ],
   "source": [
    "df_male30_40 = da.loc[(da.RIDAGEYR >= 30) & (da.RIDAGEYR <= 40) & (da.RIAGENDR == \"Male\"), \"BMXBMI\"]\n",
    "df_male30_40.mean()"
   ]
  },
  {
   "cell_type": "code",
   "execution_count": 131,
   "id": "81ab0d20",
   "metadata": {},
   "outputs": [
    {
     "data": {
      "text/plain": [
       "29.249999999999996"
      ]
     },
     "execution_count": 131,
     "metadata": {},
     "output_type": "execute_result"
    }
   ],
   "source": [
    "df_male50_60 = da.loc[(da.RIDAGEYR >= 50) & (da.RIDAGEYR <= 60) & (da.RIAGENDR == \"Male\"), \"BMXBMI\"]\n",
    "df_male50_60.mean()"
   ]
  },
  {
   "cell_type": "code",
   "execution_count": 129,
   "id": "9dd5fe5d",
   "metadata": {},
   "outputs": [
    {
     "name": "stdout",
     "output_type": "stream",
     "text": [
      "(0.8984008016755222, 0.36897190924214873)\n"
     ]
    }
   ],
   "source": [
    "print(sm.stats.ztest(df_male30_40.dropna(), df_male50_60.dropna()))"
   ]
  },
  {
   "cell_type": "code",
   "execution_count": 147,
   "id": "38c38564",
   "metadata": {},
   "outputs": [
    {
     "data": {
      "text/html": [
       "<div>\n",
       "<style scoped>\n",
       "    .dataframe tbody tr th:only-of-type {\n",
       "        vertical-align: middle;\n",
       "    }\n",
       "\n",
       "    .dataframe tbody tr th {\n",
       "        vertical-align: top;\n",
       "    }\n",
       "\n",
       "    .dataframe thead th {\n",
       "        text-align: right;\n",
       "    }\n",
       "</style>\n",
       "<table border=\"1\" class=\"dataframe\">\n",
       "  <thead>\n",
       "    <tr style=\"text-align: right;\">\n",
       "      <th></th>\n",
       "      <th>SEQN</th>\n",
       "      <th>ALQ101</th>\n",
       "      <th>ALQ110</th>\n",
       "      <th>ALQ130</th>\n",
       "      <th>SMQ020</th>\n",
       "      <th>RIAGENDR</th>\n",
       "      <th>RIDAGEYR</th>\n",
       "      <th>RIDRETH1</th>\n",
       "      <th>DMDCITZN</th>\n",
       "      <th>DMDEDUC2</th>\n",
       "      <th>...</th>\n",
       "      <th>BPXDI2</th>\n",
       "      <th>BMXWT</th>\n",
       "      <th>BMXHT</th>\n",
       "      <th>BMXBMI</th>\n",
       "      <th>BMXLEG</th>\n",
       "      <th>BMXARML</th>\n",
       "      <th>BMXARMC</th>\n",
       "      <th>BMXWAIST</th>\n",
       "      <th>HIQ210</th>\n",
       "      <th>log_BMXBMI</th>\n",
       "    </tr>\n",
       "  </thead>\n",
       "  <tbody>\n",
       "    <tr>\n",
       "      <th>0</th>\n",
       "      <td>83732</td>\n",
       "      <td>1.0</td>\n",
       "      <td>NaN</td>\n",
       "      <td>1.0</td>\n",
       "      <td>1.0</td>\n",
       "      <td>Male</td>\n",
       "      <td>62</td>\n",
       "      <td>3</td>\n",
       "      <td>1.0</td>\n",
       "      <td>5.0</td>\n",
       "      <td>...</td>\n",
       "      <td>64.0</td>\n",
       "      <td>94.8</td>\n",
       "      <td>184.5</td>\n",
       "      <td>27.8</td>\n",
       "      <td>43.3</td>\n",
       "      <td>43.6</td>\n",
       "      <td>35.9</td>\n",
       "      <td>101.1</td>\n",
       "      <td>2.0</td>\n",
       "      <td>3.325036</td>\n",
       "    </tr>\n",
       "    <tr>\n",
       "      <th>1</th>\n",
       "      <td>83733</td>\n",
       "      <td>1.0</td>\n",
       "      <td>NaN</td>\n",
       "      <td>6.0</td>\n",
       "      <td>1.0</td>\n",
       "      <td>Male</td>\n",
       "      <td>53</td>\n",
       "      <td>3</td>\n",
       "      <td>2.0</td>\n",
       "      <td>3.0</td>\n",
       "      <td>...</td>\n",
       "      <td>88.0</td>\n",
       "      <td>90.4</td>\n",
       "      <td>171.4</td>\n",
       "      <td>30.8</td>\n",
       "      <td>38.0</td>\n",
       "      <td>40.0</td>\n",
       "      <td>33.2</td>\n",
       "      <td>107.9</td>\n",
       "      <td>NaN</td>\n",
       "      <td>3.427515</td>\n",
       "    </tr>\n",
       "    <tr>\n",
       "      <th>2</th>\n",
       "      <td>83734</td>\n",
       "      <td>1.0</td>\n",
       "      <td>NaN</td>\n",
       "      <td>NaN</td>\n",
       "      <td>1.0</td>\n",
       "      <td>Male</td>\n",
       "      <td>78</td>\n",
       "      <td>3</td>\n",
       "      <td>1.0</td>\n",
       "      <td>3.0</td>\n",
       "      <td>...</td>\n",
       "      <td>44.0</td>\n",
       "      <td>83.4</td>\n",
       "      <td>170.1</td>\n",
       "      <td>28.8</td>\n",
       "      <td>35.6</td>\n",
       "      <td>37.0</td>\n",
       "      <td>31.0</td>\n",
       "      <td>116.5</td>\n",
       "      <td>2.0</td>\n",
       "      <td>3.360375</td>\n",
       "    </tr>\n",
       "    <tr>\n",
       "      <th>3</th>\n",
       "      <td>83735</td>\n",
       "      <td>2.0</td>\n",
       "      <td>1.0</td>\n",
       "      <td>1.0</td>\n",
       "      <td>0.0</td>\n",
       "      <td>Female</td>\n",
       "      <td>56</td>\n",
       "      <td>3</td>\n",
       "      <td>1.0</td>\n",
       "      <td>5.0</td>\n",
       "      <td>...</td>\n",
       "      <td>68.0</td>\n",
       "      <td>109.8</td>\n",
       "      <td>160.9</td>\n",
       "      <td>42.4</td>\n",
       "      <td>38.5</td>\n",
       "      <td>37.7</td>\n",
       "      <td>38.3</td>\n",
       "      <td>110.1</td>\n",
       "      <td>2.0</td>\n",
       "      <td>3.747148</td>\n",
       "    </tr>\n",
       "    <tr>\n",
       "      <th>4</th>\n",
       "      <td>83736</td>\n",
       "      <td>2.0</td>\n",
       "      <td>1.0</td>\n",
       "      <td>1.0</td>\n",
       "      <td>0.0</td>\n",
       "      <td>Female</td>\n",
       "      <td>42</td>\n",
       "      <td>4</td>\n",
       "      <td>1.0</td>\n",
       "      <td>4.0</td>\n",
       "      <td>...</td>\n",
       "      <td>54.0</td>\n",
       "      <td>55.2</td>\n",
       "      <td>164.9</td>\n",
       "      <td>20.3</td>\n",
       "      <td>37.4</td>\n",
       "      <td>36.0</td>\n",
       "      <td>27.2</td>\n",
       "      <td>80.4</td>\n",
       "      <td>2.0</td>\n",
       "      <td>3.010621</td>\n",
       "    </tr>\n",
       "  </tbody>\n",
       "</table>\n",
       "<p>5 rows × 29 columns</p>\n",
       "</div>"
      ],
      "text/plain": [
       "    SEQN  ALQ101  ALQ110  ALQ130  SMQ020 RIAGENDR  RIDAGEYR  RIDRETH1  \\\n",
       "0  83732     1.0     NaN     1.0     1.0     Male        62         3   \n",
       "1  83733     1.0     NaN     6.0     1.0     Male        53         3   \n",
       "2  83734     1.0     NaN     NaN     1.0     Male        78         3   \n",
       "3  83735     2.0     1.0     1.0     0.0   Female        56         3   \n",
       "4  83736     2.0     1.0     1.0     0.0   Female        42         4   \n",
       "\n",
       "   DMDCITZN  DMDEDUC2  ...  BPXDI2  BMXWT  BMXHT  BMXBMI  BMXLEG  BMXARML  \\\n",
       "0       1.0       5.0  ...    64.0   94.8  184.5    27.8    43.3     43.6   \n",
       "1       2.0       3.0  ...    88.0   90.4  171.4    30.8    38.0     40.0   \n",
       "2       1.0       3.0  ...    44.0   83.4  170.1    28.8    35.6     37.0   \n",
       "3       1.0       5.0  ...    68.0  109.8  160.9    42.4    38.5     37.7   \n",
       "4       1.0       4.0  ...    54.0   55.2  164.9    20.3    37.4     36.0   \n",
       "\n",
       "   BMXARMC  BMXWAIST  HIQ210  log_BMXBMI  \n",
       "0     35.9     101.1     2.0    3.325036  \n",
       "1     33.2     107.9     NaN    3.427515  \n",
       "2     31.0     116.5     2.0    3.360375  \n",
       "3     38.3     110.1     2.0    3.747148  \n",
       "4     27.2      80.4     2.0    3.010621  \n",
       "\n",
       "[5 rows x 29 columns]"
      ]
     },
     "execution_count": 147,
     "metadata": {},
     "output_type": "execute_result"
    }
   ],
   "source": [
    "da[\"log_BMXBMI\"] = np.log(da[\"BMXBMI\"])\n",
    "da.head()"
   ]
  },
  {
   "cell_type": "code",
   "execution_count": 151,
   "id": "c3c1ec69",
   "metadata": {},
   "outputs": [
    {
     "data": {
      "text/plain": [
       "3.3653907870271893"
      ]
     },
     "execution_count": 151,
     "metadata": {},
     "output_type": "execute_result"
    }
   ],
   "source": [
    "df_male30_40 = da.loc[(da.RIDAGEYR >= 30) & (da.RIDAGEYR <= 40) & (da.RIAGENDR == \"Male\"), \"log_BMXBMI\"]\n",
    "df_male30_40.mean()"
   ]
  },
  {
   "cell_type": "code",
   "execution_count": 150,
   "id": "69cc62eb",
   "metadata": {},
   "outputs": [
    {
     "data": {
      "text/plain": [
       "3.35623020612263"
      ]
     },
     "execution_count": 150,
     "metadata": {},
     "output_type": "execute_result"
    }
   ],
   "source": [
    "df_male50_60 = da.loc[(da.RIDAGEYR >= 50) & (da.RIDAGEYR <= 60) & (da.RIAGENDR == \"Male\"),\"log_BMXBMI\"]\n",
    "df_male50_60.mean()"
   ]
  },
  {
   "cell_type": "code",
   "execution_count": 152,
   "id": "45b8acc0",
   "metadata": {},
   "outputs": [
    {
     "name": "stdout",
     "output_type": "stream",
     "text": [
      "(0.7057844184100666, 0.4803222133688403)\n"
     ]
    }
   ],
   "source": [
    "print(sm.stats.ztest(df_male30_40.dropna(), df_male50_60.dropna()))"
   ]
  },
  {
   "cell_type": "markdown",
   "id": "26e127bf",
   "metadata": {},
   "source": [
    "# Question 4\n",
    "\n",
    "Suppose we wish to compare the mean BMI between college graduates and people who have not graduated from college, focusing on women between the ages of 30 and 40. First, consider the variance of BMI within each of these subpopulations using graphical techniques, and through the estimated subpopulation variances. Then, calculate pooled and unpooled estimates of the standard error for the difference between the mean BMI in the two populations being compared. Finally, test the null hypothesis that the two population means are equal, using each of the two different standard errors.\n"
   ]
  },
  {
   "cell_type": "code",
   "execution_count": 268,
   "id": "23db6611",
   "metadata": {},
   "outputs": [
    {
     "data": {
      "text/html": [
       "<div>\n",
       "<style scoped>\n",
       "    .dataframe tbody tr th:only-of-type {\n",
       "        vertical-align: middle;\n",
       "    }\n",
       "\n",
       "    .dataframe tbody tr th {\n",
       "        vertical-align: top;\n",
       "    }\n",
       "\n",
       "    .dataframe thead th {\n",
       "        text-align: right;\n",
       "    }\n",
       "</style>\n",
       "<table border=\"1\" class=\"dataframe\">\n",
       "  <thead>\n",
       "    <tr style=\"text-align: right;\">\n",
       "      <th></th>\n",
       "      <th>SEQN</th>\n",
       "      <th>ALQ101</th>\n",
       "      <th>ALQ110</th>\n",
       "      <th>ALQ130</th>\n",
       "      <th>SMQ020</th>\n",
       "      <th>RIAGENDR</th>\n",
       "      <th>RIDAGEYR</th>\n",
       "      <th>RIDRETH1</th>\n",
       "      <th>DMDCITZN</th>\n",
       "      <th>DMDEDUC2</th>\n",
       "      <th>...</th>\n",
       "      <th>BPXSY2</th>\n",
       "      <th>BPXDI2</th>\n",
       "      <th>BMXWT</th>\n",
       "      <th>BMXHT</th>\n",
       "      <th>BMXBMI</th>\n",
       "      <th>BMXLEG</th>\n",
       "      <th>BMXARML</th>\n",
       "      <th>BMXARMC</th>\n",
       "      <th>BMXWAIST</th>\n",
       "      <th>HIQ210</th>\n",
       "    </tr>\n",
       "  </thead>\n",
       "  <tbody>\n",
       "    <tr>\n",
       "      <th>7</th>\n",
       "      <td>83742</td>\n",
       "      <td>1.0</td>\n",
       "      <td>NaN</td>\n",
       "      <td>1.0</td>\n",
       "      <td>0.0</td>\n",
       "      <td>Female</td>\n",
       "      <td>32</td>\n",
       "      <td>1</td>\n",
       "      <td>2.0</td>\n",
       "      <td>0.0</td>\n",
       "      <td>...</td>\n",
       "      <td>114.0</td>\n",
       "      <td>70.0</td>\n",
       "      <td>64.5</td>\n",
       "      <td>151.3</td>\n",
       "      <td>28.2</td>\n",
       "      <td>34.1</td>\n",
       "      <td>33.1</td>\n",
       "      <td>31.5</td>\n",
       "      <td>93.3</td>\n",
       "      <td>2.0</td>\n",
       "    </tr>\n",
       "    <tr>\n",
       "      <th>12</th>\n",
       "      <td>83752</td>\n",
       "      <td>1.0</td>\n",
       "      <td>NaN</td>\n",
       "      <td>2.0</td>\n",
       "      <td>1.0</td>\n",
       "      <td>Female</td>\n",
       "      <td>30</td>\n",
       "      <td>2</td>\n",
       "      <td>1.0</td>\n",
       "      <td>0.0</td>\n",
       "      <td>...</td>\n",
       "      <td>104.0</td>\n",
       "      <td>50.0</td>\n",
       "      <td>71.2</td>\n",
       "      <td>163.6</td>\n",
       "      <td>26.6</td>\n",
       "      <td>37.3</td>\n",
       "      <td>35.7</td>\n",
       "      <td>31.0</td>\n",
       "      <td>90.7</td>\n",
       "      <td>2.0</td>\n",
       "    </tr>\n",
       "    <tr>\n",
       "      <th>34</th>\n",
       "      <td>83799</td>\n",
       "      <td>NaN</td>\n",
       "      <td>NaN</td>\n",
       "      <td>NaN</td>\n",
       "      <td>0.0</td>\n",
       "      <td>Female</td>\n",
       "      <td>37</td>\n",
       "      <td>2</td>\n",
       "      <td>1.0</td>\n",
       "      <td>0.0</td>\n",
       "      <td>...</td>\n",
       "      <td>110.0</td>\n",
       "      <td>72.0</td>\n",
       "      <td>66.6</td>\n",
       "      <td>161.6</td>\n",
       "      <td>25.5</td>\n",
       "      <td>NaN</td>\n",
       "      <td>NaN</td>\n",
       "      <td>NaN</td>\n",
       "      <td>NaN</td>\n",
       "      <td>2.0</td>\n",
       "    </tr>\n",
       "    <tr>\n",
       "      <th>50</th>\n",
       "      <td>83828</td>\n",
       "      <td>1.0</td>\n",
       "      <td>NaN</td>\n",
       "      <td>2.0</td>\n",
       "      <td>0.0</td>\n",
       "      <td>Female</td>\n",
       "      <td>39</td>\n",
       "      <td>1</td>\n",
       "      <td>2.0</td>\n",
       "      <td>0.0</td>\n",
       "      <td>...</td>\n",
       "      <td>100.0</td>\n",
       "      <td>62.0</td>\n",
       "      <td>71.3</td>\n",
       "      <td>162.0</td>\n",
       "      <td>27.2</td>\n",
       "      <td>36.8</td>\n",
       "      <td>34.6</td>\n",
       "      <td>29.1</td>\n",
       "      <td>94.6</td>\n",
       "      <td>NaN</td>\n",
       "    </tr>\n",
       "    <tr>\n",
       "      <th>61</th>\n",
       "      <td>83851</td>\n",
       "      <td>2.0</td>\n",
       "      <td>1.0</td>\n",
       "      <td>1.0</td>\n",
       "      <td>1.0</td>\n",
       "      <td>Female</td>\n",
       "      <td>37</td>\n",
       "      <td>3</td>\n",
       "      <td>1.0</td>\n",
       "      <td>0.0</td>\n",
       "      <td>...</td>\n",
       "      <td>122.0</td>\n",
       "      <td>74.0</td>\n",
       "      <td>85.1</td>\n",
       "      <td>155.3</td>\n",
       "      <td>35.3</td>\n",
       "      <td>32.5</td>\n",
       "      <td>33.6</td>\n",
       "      <td>36.1</td>\n",
       "      <td>106.5</td>\n",
       "      <td>1.0</td>\n",
       "    </tr>\n",
       "    <tr>\n",
       "      <th>...</th>\n",
       "      <td>...</td>\n",
       "      <td>...</td>\n",
       "      <td>...</td>\n",
       "      <td>...</td>\n",
       "      <td>...</td>\n",
       "      <td>...</td>\n",
       "      <td>...</td>\n",
       "      <td>...</td>\n",
       "      <td>...</td>\n",
       "      <td>...</td>\n",
       "      <td>...</td>\n",
       "      <td>...</td>\n",
       "      <td>...</td>\n",
       "      <td>...</td>\n",
       "      <td>...</td>\n",
       "      <td>...</td>\n",
       "      <td>...</td>\n",
       "      <td>...</td>\n",
       "      <td>...</td>\n",
       "      <td>...</td>\n",
       "      <td>...</td>\n",
       "    </tr>\n",
       "    <tr>\n",
       "      <th>5668</th>\n",
       "      <td>93585</td>\n",
       "      <td>NaN</td>\n",
       "      <td>NaN</td>\n",
       "      <td>NaN</td>\n",
       "      <td>1.0</td>\n",
       "      <td>Female</td>\n",
       "      <td>34</td>\n",
       "      <td>4</td>\n",
       "      <td>1.0</td>\n",
       "      <td>1.0</td>\n",
       "      <td>...</td>\n",
       "      <td>108.0</td>\n",
       "      <td>60.0</td>\n",
       "      <td>54.1</td>\n",
       "      <td>170.0</td>\n",
       "      <td>18.7</td>\n",
       "      <td>NaN</td>\n",
       "      <td>NaN</td>\n",
       "      <td>NaN</td>\n",
       "      <td>NaN</td>\n",
       "      <td>2.0</td>\n",
       "    </tr>\n",
       "    <tr>\n",
       "      <th>5685</th>\n",
       "      <td>93612</td>\n",
       "      <td>2.0</td>\n",
       "      <td>2.0</td>\n",
       "      <td>NaN</td>\n",
       "      <td>0.0</td>\n",
       "      <td>Female</td>\n",
       "      <td>36</td>\n",
       "      <td>5</td>\n",
       "      <td>1.0</td>\n",
       "      <td>1.0</td>\n",
       "      <td>...</td>\n",
       "      <td>112.0</td>\n",
       "      <td>74.0</td>\n",
       "      <td>65.7</td>\n",
       "      <td>162.4</td>\n",
       "      <td>24.9</td>\n",
       "      <td>37.2</td>\n",
       "      <td>36.0</td>\n",
       "      <td>29.8</td>\n",
       "      <td>89.0</td>\n",
       "      <td>2.0</td>\n",
       "    </tr>\n",
       "    <tr>\n",
       "      <th>5715</th>\n",
       "      <td>93665</td>\n",
       "      <td>NaN</td>\n",
       "      <td>NaN</td>\n",
       "      <td>NaN</td>\n",
       "      <td>0.0</td>\n",
       "      <td>Female</td>\n",
       "      <td>34</td>\n",
       "      <td>3</td>\n",
       "      <td>1.0</td>\n",
       "      <td>1.0</td>\n",
       "      <td>...</td>\n",
       "      <td>126.0</td>\n",
       "      <td>84.0</td>\n",
       "      <td>69.0</td>\n",
       "      <td>169.6</td>\n",
       "      <td>24.0</td>\n",
       "      <td>38.9</td>\n",
       "      <td>37.5</td>\n",
       "      <td>27.6</td>\n",
       "      <td>91.5</td>\n",
       "      <td>2.0</td>\n",
       "    </tr>\n",
       "    <tr>\n",
       "      <th>5721</th>\n",
       "      <td>93676</td>\n",
       "      <td>1.0</td>\n",
       "      <td>NaN</td>\n",
       "      <td>2.0</td>\n",
       "      <td>0.0</td>\n",
       "      <td>Female</td>\n",
       "      <td>35</td>\n",
       "      <td>4</td>\n",
       "      <td>1.0</td>\n",
       "      <td>1.0</td>\n",
       "      <td>...</td>\n",
       "      <td>114.0</td>\n",
       "      <td>76.0</td>\n",
       "      <td>92.2</td>\n",
       "      <td>161.7</td>\n",
       "      <td>35.3</td>\n",
       "      <td>41.5</td>\n",
       "      <td>37.5</td>\n",
       "      <td>38.9</td>\n",
       "      <td>110.9</td>\n",
       "      <td>2.0</td>\n",
       "    </tr>\n",
       "    <tr>\n",
       "      <th>5722</th>\n",
       "      <td>93677</td>\n",
       "      <td>1.0</td>\n",
       "      <td>NaN</td>\n",
       "      <td>1.0</td>\n",
       "      <td>0.0</td>\n",
       "      <td>Female</td>\n",
       "      <td>34</td>\n",
       "      <td>3</td>\n",
       "      <td>1.0</td>\n",
       "      <td>1.0</td>\n",
       "      <td>...</td>\n",
       "      <td>110.0</td>\n",
       "      <td>78.0</td>\n",
       "      <td>62.2</td>\n",
       "      <td>167.4</td>\n",
       "      <td>22.2</td>\n",
       "      <td>39.8</td>\n",
       "      <td>37.7</td>\n",
       "      <td>28.5</td>\n",
       "      <td>83.3</td>\n",
       "      <td>2.0</td>\n",
       "    </tr>\n",
       "  </tbody>\n",
       "</table>\n",
       "<p>532 rows × 28 columns</p>\n",
       "</div>"
      ],
      "text/plain": [
       "       SEQN  ALQ101  ALQ110  ALQ130  SMQ020 RIAGENDR  RIDAGEYR  RIDRETH1  \\\n",
       "7     83742     1.0     NaN     1.0     0.0   Female        32         1   \n",
       "12    83752     1.0     NaN     2.0     1.0   Female        30         2   \n",
       "34    83799     NaN     NaN     NaN     0.0   Female        37         2   \n",
       "50    83828     1.0     NaN     2.0     0.0   Female        39         1   \n",
       "61    83851     2.0     1.0     1.0     1.0   Female        37         3   \n",
       "...     ...     ...     ...     ...     ...      ...       ...       ...   \n",
       "5668  93585     NaN     NaN     NaN     1.0   Female        34         4   \n",
       "5685  93612     2.0     2.0     NaN     0.0   Female        36         5   \n",
       "5715  93665     NaN     NaN     NaN     0.0   Female        34         3   \n",
       "5721  93676     1.0     NaN     2.0     0.0   Female        35         4   \n",
       "5722  93677     1.0     NaN     1.0     0.0   Female        34         3   \n",
       "\n",
       "      DMDCITZN  DMDEDUC2  ...  BPXSY2  BPXDI2  BMXWT  BMXHT  BMXBMI  BMXLEG  \\\n",
       "7          2.0       0.0  ...   114.0    70.0   64.5  151.3    28.2    34.1   \n",
       "12         1.0       0.0  ...   104.0    50.0   71.2  163.6    26.6    37.3   \n",
       "34         1.0       0.0  ...   110.0    72.0   66.6  161.6    25.5     NaN   \n",
       "50         2.0       0.0  ...   100.0    62.0   71.3  162.0    27.2    36.8   \n",
       "61         1.0       0.0  ...   122.0    74.0   85.1  155.3    35.3    32.5   \n",
       "...        ...       ...  ...     ...     ...    ...    ...     ...     ...   \n",
       "5668       1.0       1.0  ...   108.0    60.0   54.1  170.0    18.7     NaN   \n",
       "5685       1.0       1.0  ...   112.0    74.0   65.7  162.4    24.9    37.2   \n",
       "5715       1.0       1.0  ...   126.0    84.0   69.0  169.6    24.0    38.9   \n",
       "5721       1.0       1.0  ...   114.0    76.0   92.2  161.7    35.3    41.5   \n",
       "5722       1.0       1.0  ...   110.0    78.0   62.2  167.4    22.2    39.8   \n",
       "\n",
       "      BMXARML  BMXARMC  BMXWAIST  HIQ210  \n",
       "7        33.1     31.5      93.3     2.0  \n",
       "12       35.7     31.0      90.7     2.0  \n",
       "34        NaN      NaN       NaN     2.0  \n",
       "50       34.6     29.1      94.6     NaN  \n",
       "61       33.6     36.1     106.5     1.0  \n",
       "...       ...      ...       ...     ...  \n",
       "5668      NaN      NaN       NaN     2.0  \n",
       "5685     36.0     29.8      89.0     2.0  \n",
       "5715     37.5     27.6      91.5     2.0  \n",
       "5721     37.5     38.9     110.9     2.0  \n",
       "5722     37.7     28.5      83.3     2.0  \n",
       "\n",
       "[532 rows x 28 columns]"
      ]
     },
     "execution_count": 268,
     "metadata": {},
     "output_type": "execute_result"
    }
   ],
   "source": [
    "df_female30_40 = da.loc[(da.RIDAGEYR >= 30) & (da.RIDAGEYR <= 40) & (da.RIAGENDR == \"Female\"), :]\n",
    "df_female30_40"
   ]
  },
  {
   "cell_type": "code",
   "execution_count": 269,
   "id": "4c3daef1",
   "metadata": {},
   "outputs": [
    {
     "data": {
      "text/html": [
       "<div>\n",
       "<style scoped>\n",
       "    .dataframe tbody tr th:only-of-type {\n",
       "        vertical-align: middle;\n",
       "    }\n",
       "\n",
       "    .dataframe tbody tr th {\n",
       "        vertical-align: top;\n",
       "    }\n",
       "\n",
       "    .dataframe thead tr th {\n",
       "        text-align: left;\n",
       "    }\n",
       "\n",
       "    .dataframe thead tr:last-of-type th {\n",
       "        text-align: right;\n",
       "    }\n",
       "</style>\n",
       "<table border=\"1\" class=\"dataframe\">\n",
       "  <thead>\n",
       "    <tr>\n",
       "      <th></th>\n",
       "      <th colspan=\"3\" halign=\"left\">BMXBMI</th>\n",
       "    </tr>\n",
       "    <tr>\n",
       "      <th></th>\n",
       "      <th>mean</th>\n",
       "      <th>std</th>\n",
       "      <th>size</th>\n",
       "    </tr>\n",
       "    <tr>\n",
       "      <th>DMDEDUC2</th>\n",
       "      <th></th>\n",
       "      <th></th>\n",
       "      <th></th>\n",
       "    </tr>\n",
       "  </thead>\n",
       "  <tbody>\n",
       "    <tr>\n",
       "      <th>0.0</th>\n",
       "      <td>31.257345</td>\n",
       "      <td>8.256083</td>\n",
       "      <td>358</td>\n",
       "    </tr>\n",
       "    <tr>\n",
       "      <th>1.0</th>\n",
       "      <td>27.808187</td>\n",
       "      <td>7.358264</td>\n",
       "      <td>174</td>\n",
       "    </tr>\n",
       "  </tbody>\n",
       "</table>\n",
       "</div>"
      ],
      "text/plain": [
       "             BMXBMI               \n",
       "               mean       std size\n",
       "DMDEDUC2                          \n",
       "0.0       31.257345  8.256083  358\n",
       "1.0       27.808187  7.358264  174"
      ]
     },
     "execution_count": 269,
     "metadata": {},
     "output_type": "execute_result"
    }
   ],
   "source": [
    "female30_40_graduated_vs_non = df_female30_40.groupby(\"DMDEDUC2\").agg({\"BMXBMI\": [np.mean, np.std, np.size]})\n",
    "female30_40_graduated_vs_non"
   ]
  },
  {
   "cell_type": "markdown",
   "id": "1ca03950",
   "metadata": {},
   "source": [
    "Consider the variance of BMI within each of these subpopulations through the estimated subpopulation variances. Variances are not equal for these groups. Confidence interval for population variance (group without degree) is 59.172701554846896 to 79.38136286172579 and for group with degree is: 44.32717602761395 to 67.64478241004501 The First group (without degree) has higher variance in BMI."
   ]
  },
  {
   "cell_type": "code",
   "execution_count": 270,
   "id": "98ef4284",
   "metadata": {},
   "outputs": [
    {
     "name": "stdout",
     "output_type": "stream",
     "text": [
      "Right Chi-Squared distribution Critical Value is: 411.23959160418184\n"
     ]
    }
   ],
   "source": [
    "# Find Right Chi-Square critical value for the group without degree\n",
    "right_critical = scipy.stats.chi2.ppf(1-.025, df=357)\n",
    "print(f'Right Chi-Squared distribution Critical Value is: {right_critical}')"
   ]
  },
  {
   "cell_type": "code",
   "execution_count": 271,
   "id": "7688c3ff",
   "metadata": {},
   "outputs": [
    {
     "name": "stdout",
     "output_type": "stream",
     "text": [
      "Left Chi-Squared distribution Critical Value is: 306.54749105175966\n"
     ]
    }
   ],
   "source": [
    "# Find Left Chi-Square critical value for the group without degree\n",
    "left_critical = scipy.stats.chi2.ppf(.025, df=357)\n",
    "print(f'Left Chi-Squared distribution Critical Value is: {left_critical}')"
   ]
  },
  {
   "cell_type": "code",
   "execution_count": 272,
   "id": "d2fd6e32",
   "metadata": {},
   "outputs": [
    {
     "name": "stdout",
     "output_type": "stream",
     "text": [
      "59.172701554846896 79.38136286172579\n"
     ]
    }
   ],
   "source": [
    "# Confidence interval for population variance (without degree)\n",
    "left_b = (358 - 1) * (8.256083 * 8.256083) / right_critical\n",
    "right_b = (358 - 1) * (8.256083 * 8.256083) / left_critical\n",
    "print(left_b, right_b) "
   ]
  },
  {
   "cell_type": "code",
   "execution_count": 273,
   "id": "07f9a36b",
   "metadata": {},
   "outputs": [
    {
     "name": "stdout",
     "output_type": "stream",
     "text": [
      "Right Chi-Squared distribution Critical Value is: 211.3132694799735\n"
     ]
    }
   ],
   "source": [
    "# Find Right Chi-Square critical value for the group with degree\n",
    "right_critical = scipy.stats.chi2.ppf(1-.025, df=173)\n",
    "print(f'Right Chi-Squared distribution Critical Value is: {right_critical}')"
   ]
  },
  {
   "cell_type": "code",
   "execution_count": 274,
   "id": "bdc54415",
   "metadata": {},
   "outputs": [
    {
     "name": "stdout",
     "output_type": "stream",
     "text": [
      "Left Chi-Squared distribution Critical Value is: 138.47218010739664\n"
     ]
    }
   ],
   "source": [
    "# Find Left Chi-Square critical value for the group with degree\n",
    "left_critical = scipy.stats.chi2.ppf(.025, df=173)\n",
    "print(f'Left Chi-Squared distribution Critical Value is: {left_critical}')"
   ]
  },
  {
   "cell_type": "code",
   "execution_count": 291,
   "id": "2934a017",
   "metadata": {},
   "outputs": [
    {
     "name": "stdout",
     "output_type": "stream",
     "text": [
      "44.32717602761395 67.64478241004501\n"
     ]
    }
   ],
   "source": [
    "# Confidence interval for population variance (with degree)\n",
    "left_b = (174 - 1) * (7.358264 * 7.358264) / right_critical\n",
    "right_b = (174 - 1) * (7.358264 * 7.358264) / left_critical\n",
    "print(left_b, right_b) "
   ]
  },
  {
   "cell_type": "markdown",
   "id": "671890b4",
   "metadata": {},
   "source": [
    "Calculate pooled and unpooled estimates of the standard error for the difference between the mean BMI in the two populations. Then, calculate pooled and unpooled estimates of the standard error for the difference between the mean BMI in the two populations being compared. Finally, test the null hypothesis that the two population means are equal, using each of the two different standard errors.\n",
    "Answer: We reject the Null Hypothesis, because P-value is very small. We have enough evidence to accept the Alternative Hypothesis: average BMI in these two groups (females between 30-40 with and without degree) is not equal."
   ]
  },
  {
   "cell_type": "code",
   "execution_count": 312,
   "id": "461b25bc",
   "metadata": {},
   "outputs": [
    {
     "data": {
      "text/plain": [
       "31.25734463276835"
      ]
     },
     "execution_count": 312,
     "metadata": {},
     "output_type": "execute_result"
    }
   ],
   "source": [
    "bmi_non_degree = da.loc[(da.RIDAGEYR >= 30) & (da.RIDAGEYR <= 40) & (da.RIAGENDR == \"Female\")\n",
    "                        & (da.DMDEDUC2 == 0),\"BMXBMI\"].dropna()\n",
    "bmi_non_degree.mean()"
   ]
  },
  {
   "cell_type": "code",
   "execution_count": 313,
   "id": "c9ade4b7",
   "metadata": {},
   "outputs": [
    {
     "data": {
      "text/plain": [
       "27.808187134502933"
      ]
     },
     "execution_count": 313,
     "metadata": {},
     "output_type": "execute_result"
    }
   ],
   "source": [
    "bmi_degree = da.loc[(da.RIDAGEYR >= 30) & (da.RIDAGEYR <= 40) & (da.RIAGENDR == \"Female\")\n",
    "                        & (da.DMDEDUC2 == 1),\"BMXBMI\"].dropna()\n",
    "bmi_degree.mean()"
   ]
  },
  {
   "cell_type": "code",
   "execution_count": 314,
   "id": "8bbef39f",
   "metadata": {},
   "outputs": [
    {
     "name": "stdout",
     "output_type": "stream",
     "text": [
      "pooled:  (4.643908450956419, 1.7093955033558891e-06)\n"
     ]
    }
   ],
   "source": [
    "# First approach - assumption that (σ1 * σ1) is not equal to (σ2 * σ2)\n",
    "bmi_non_degree = sm.stats.DescrStatsW(bmi_non_degree)\n",
    "bmi_degree = sm.stats.DescrStatsW(bmi_degree)\n",
    "print(\"pooled: \", sm.stats.CompareMeans(bmi_non_degree, bmi_degree).ztest_ind(usevar='pooled', alternative='larger'))"
   ]
  },
  {
   "cell_type": "code",
   "execution_count": 302,
   "id": "cf5e0a88",
   "metadata": {},
   "outputs": [
    {
     "name": "stdout",
     "output_type": "stream",
     "text": [
      "unequal:  (4.833662355599096, 1.3404386169204186e-06)\n"
     ]
    }
   ],
   "source": [
    "# Second approach - assumption that (σ1 * σ1) is equal to (σ2 * σ2)\n",
    "print(\"unequal: \", sm.stats.CompareMeans(bmi_non_degree, bmi_degree).ztest_ind(usevar='unequal'))"
   ]
  },
  {
   "cell_type": "markdown",
   "id": "64dc2327",
   "metadata": {},
   "source": [
    "# Question 5\n",
    "\n",
    "Conduct a test of the null hypothesis that the first and second diastolic blood pressure measurements within a subject have the same mean values.\n",
    "Answer: There is enough evidence to reject the Null Hypothesis and accept that the first and second blood pressure measurements within a subject are not equal.\n"
   ]
  },
  {
   "cell_type": "code",
   "execution_count": 254,
   "id": "b8e7883d",
   "metadata": {},
   "outputs": [
    {
     "name": "stdout",
     "output_type": "stream",
     "text": [
      "0.3490407897187558\n"
     ]
    }
   ],
   "source": [
    "dx = da[[\"BPXDI1\", \"BPXDI2\"]].dropna()\n",
    "db = dx.BPXDI1 - dx.BPXDI2\n",
    "print(db.mean())"
   ]
  },
  {
   "cell_type": "code",
   "execution_count": 255,
   "id": "5ed0c06a",
   "metadata": {},
   "outputs": [
    {
     "data": {
      "text/plain": [
       "(4.140387087476751, 3.467202439743513e-05)"
      ]
     },
     "execution_count": 255,
     "metadata": {},
     "output_type": "execute_result"
    }
   ],
   "source": [
    "sm.stats.ztest(db)"
   ]
  }
 ],
 "metadata": {
  "kernelspec": {
   "display_name": "Python 3 (ipykernel)",
   "language": "python",
   "name": "python3"
  },
  "language_info": {
   "codemirror_mode": {
    "name": "ipython",
    "version": 3
   },
   "file_extension": ".py",
   "mimetype": "text/x-python",
   "name": "python",
   "nbconvert_exporter": "python",
   "pygments_lexer": "ipython3",
   "version": "3.9.7"
  }
 },
 "nbformat": 4,
 "nbformat_minor": 5
}
