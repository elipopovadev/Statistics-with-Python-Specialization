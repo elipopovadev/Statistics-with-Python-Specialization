{
 "cells": [
  {
   "cell_type": "code",
   "execution_count": 1,
   "id": "904c981f",
   "metadata": {},
   "outputs": [],
   "source": [
    "import math"
   ]
  },
  {
   "cell_type": "code",
   "execution_count": 16,
   "id": "8bdf4747",
   "metadata": {},
   "outputs": [
    {
     "name": "stdout",
     "output_type": "stream",
     "text": [
      "<class 'int'>\n",
      "<class 'int'>\n",
      "<class 'int'>\n",
      "<class 'float'>\n",
      "<class 'float'>\n"
     ]
    },
    {
     "data": {
      "text/plain": [
       "float"
      ]
     },
     "execution_count": 16,
     "metadata": {},
     "output_type": "execute_result"
    }
   ],
   "source": [
    "'''\n",
    "Data Types in Python\n",
    "\n",
    "The following data types can be used in base python:\n",
    "\n",
    "    boolean\n",
    "    integer\n",
    "    float\n",
    "    string\n",
    "    list\n",
    "    None\n",
    "    complex\n",
    "    object\n",
    "    set\n",
    "    dictionary\n",
    "\n",
    "Numerical or Quantitative (taking the mean makes sense)\n",
    "\n",
    "    Discrete\n",
    "        Integer (int) #Stored exactly\n",
    "    Continuous\n",
    "        Float (float) #Stored similarly to scientific notation. Allows for decimal places but loses precision.\n",
    "'''\n",
    "\n",
    "print(type(4))  # <class 'int'>\n",
    "print(type(0))  # <class 'int'>\n",
    "print(type(-3))  # <class 'int'>\n",
    "\n",
    "num = 3/5\n",
    "num\n",
    "print(type(num))\n",
    "\n",
    "print(type(math.pi))\n",
    "type(4.0)"
   ]
  },
  {
   "cell_type": "code",
   "execution_count": 11,
   "id": "4020366b",
   "metadata": {},
   "outputs": [
    {
     "name": "stdout",
     "output_type": "stream",
     "text": [
      "2.6138642178632643\n"
     ]
    },
    {
     "data": {
      "text/plain": [
       "float"
      ]
     },
     "execution_count": 11,
     "metadata": {},
     "output_type": "execute_result"
    }
   ],
   "source": [
    "# Try taking the mean\n",
    "numbers = [math.pi, 3/5, 4.1]\n",
    "mean = sum(numbers)/len(numbers)\n",
    "print(mean)\n",
    "type(mean)"
   ]
  },
  {
   "cell_type": "code",
   "execution_count": 17,
   "id": "2a7d26ca",
   "metadata": {},
   "outputs": [
    {
     "name": "stdout",
     "output_type": "stream",
     "text": [
      "<class 'bool'>\n",
      "Yes!\n"
     ]
    }
   ],
   "source": [
    "'''\n",
    "Categorical or Qualitative\n",
    "\n",
    "    Nominal\n",
    "        Boolean (bool)\n",
    "        String (str)\n",
    "        None (NoneType)\n",
    "    Ordinal\n",
    "        Only defined by how you use the data\n",
    "        Often important when creating visuals\n",
    "        Lists can hold ordinal information because they have indices\n",
    "'''\n",
    "\n",
    "# Boolean\n",
    "print(type(True))  # <class 'bool'>\n",
    "\n",
    "if 6 > 5:\n",
    "    print(\"Yes!\")"
   ]
  },
  {
   "cell_type": "code",
   "execution_count": 18,
   "id": "6284cc2d",
   "metadata": {},
   "outputs": [
    {
     "name": "stdout",
     "output_type": "stream",
     "text": [
      "<class 'bool'>\n",
      "<class 'bool'>\n",
      "<class 'bool'>\n",
      "<class 'bool'>\n",
      "0.5\n",
      "<class 'float'>\n"
     ]
    }
   ],
   "source": [
    "myList = [True, 6 < 5, 1 == 3, None is None]\n",
    "for element in myList:\n",
    "    print(type(element))  # <class 'bool'>\n",
    "\n",
    "print(sum(myList)/len(myList))  # 0.5\n",
    "print(type(sum(myList)/len(myList)))  # <class 'float'>"
   ]
  },
  {
   "cell_type": "code",
   "execution_count": 19,
   "id": "d0cb726b",
   "metadata": {},
   "outputs": [
    {
     "name": "stdout",
     "output_type": "stream",
     "text": [
      "<class 'str'>\n",
      "<class 'str'>\n",
      "<class 'str'>\n"
     ]
    },
    {
     "ename": "TypeError",
     "evalue": "unsupported operand type(s) for +: 'int' and 'str'",
     "output_type": "error",
     "traceback": [
      "\u001b[1;31m---------------------------------------------------------------------------\u001b[0m",
      "\u001b[1;31mTypeError\u001b[0m                                 Traceback (most recent call last)",
      "\u001b[1;32m~\\AppData\\Local\\Temp/ipykernel_2152/3251123796.py\u001b[0m in \u001b[0;36m<module>\u001b[1;34m\u001b[0m\n\u001b[0;32m      6\u001b[0m \u001b[0mstrList\u001b[0m \u001b[1;33m=\u001b[0m \u001b[1;33m[\u001b[0m\u001b[1;34m'dog'\u001b[0m\u001b[1;33m,\u001b[0m \u001b[1;34m'koala'\u001b[0m\u001b[1;33m,\u001b[0m \u001b[1;34m'goose'\u001b[0m\u001b[1;33m]\u001b[0m\u001b[1;33m\u001b[0m\u001b[1;33m\u001b[0m\u001b[0m\n\u001b[0;32m      7\u001b[0m \u001b[1;31m# TypeError: unsupported operand type(s) for +: 'int' and 'str'\u001b[0m\u001b[1;33m\u001b[0m\u001b[1;33m\u001b[0m\u001b[0m\n\u001b[1;32m----> 8\u001b[1;33m \u001b[0mprint\u001b[0m\u001b[1;33m(\u001b[0m\u001b[0msum\u001b[0m\u001b[1;33m(\u001b[0m\u001b[0mstrList\u001b[0m\u001b[1;33m)\u001b[0m\u001b[1;33m/\u001b[0m\u001b[0mlen\u001b[0m\u001b[1;33m(\u001b[0m\u001b[0mstrList\u001b[0m\u001b[1;33m)\u001b[0m\u001b[1;33m)\u001b[0m\u001b[1;33m\u001b[0m\u001b[1;33m\u001b[0m\u001b[0m\n\u001b[0m",
      "\u001b[1;31mTypeError\u001b[0m: unsupported operand type(s) for +: 'int' and 'str'"
     ]
    }
   ],
   "source": [
    "# String\n",
    "print(type(\"This sentence makes sense\"))  # <class 'str'>\n",
    "print(type(\"Makes sentense this sense\"))  # <class 'str'>\n",
    "print(type(\"math.pi\"))  # <class 'str'>\n",
    "\n",
    "strList = ['dog', 'koala', 'goose']\n",
    "# TypeError: unsupported operand type(s) for +: 'int' and 'str'\n",
    "print(sum(strList)/len(strList))"
   ]
  },
  {
   "cell_type": "code",
   "execution_count": 20,
   "id": "1a013cc8",
   "metadata": {},
   "outputs": [
    {
     "name": "stdout",
     "output_type": "stream",
     "text": [
      "<class 'NoneType'>\n",
      "<class 'NoneType'>\n"
     ]
    },
    {
     "ename": "TypeError",
     "evalue": "unsupported operand type(s) for +: 'int' and 'NoneType'",
     "output_type": "error",
     "traceback": [
      "\u001b[1;31m---------------------------------------------------------------------------\u001b[0m",
      "\u001b[1;31mTypeError\u001b[0m                                 Traceback (most recent call last)",
      "\u001b[1;32m~\\AppData\\Local\\Temp/ipykernel_2152/210071233.py\u001b[0m in \u001b[0;36m<module>\u001b[1;34m\u001b[0m\n\u001b[0;32m      6\u001b[0m \u001b[0mnoneList\u001b[0m \u001b[1;33m=\u001b[0m \u001b[1;33m[\u001b[0m\u001b[1;32mNone\u001b[0m\u001b[1;33m]\u001b[0m\u001b[1;33m*\u001b[0m\u001b[1;36m5\u001b[0m\u001b[1;33m\u001b[0m\u001b[1;33m\u001b[0m\u001b[0m\n\u001b[0;32m      7\u001b[0m \u001b[1;31m# TypeError: unsupported operand type(s) for +: 'int' and 'NoneType'\u001b[0m\u001b[1;33m\u001b[0m\u001b[1;33m\u001b[0m\u001b[0m\n\u001b[1;32m----> 8\u001b[1;33m \u001b[0msum\u001b[0m\u001b[1;33m(\u001b[0m\u001b[0mnoneList\u001b[0m\u001b[1;33m)\u001b[0m\u001b[1;33m/\u001b[0m\u001b[0mlen\u001b[0m\u001b[1;33m(\u001b[0m\u001b[0mnoneList\u001b[0m\u001b[1;33m)\u001b[0m\u001b[1;33m\u001b[0m\u001b[1;33m\u001b[0m\u001b[0m\n\u001b[0m",
      "\u001b[1;31mTypeError\u001b[0m: unsupported operand type(s) for +: 'int' and 'NoneType'"
     ]
    }
   ],
   "source": [
    "# Nonetype\n",
    "print(type(None))  # <class 'NoneType'>\n",
    "x = None\n",
    "print(type(x))  # <class 'NoneType'>\n",
    "\n",
    "noneList = [None]*5\n",
    "# TypeError: unsupported operand type(s) for +: 'int' and 'NoneType'\n",
    "sum(noneList)/len(noneList)"
   ]
  },
  {
   "cell_type": "code",
   "execution_count": 21,
   "id": "1e4ba0dd",
   "metadata": {},
   "outputs": [
    {
     "name": "stdout",
     "output_type": "stream",
     "text": [
      "<class 'int'>\n",
      "<class 'float'>\n",
      "<class 'str'>\n",
      "<class 'NoneType'>\n"
     ]
    },
    {
     "ename": "TypeError",
     "evalue": "unsupported operand type(s) for +: 'float' and 'str'",
     "output_type": "error",
     "traceback": [
      "\u001b[1;31m---------------------------------------------------------------------------\u001b[0m",
      "\u001b[1;31mTypeError\u001b[0m                                 Traceback (most recent call last)",
      "\u001b[1;32m~\\AppData\\Local\\Temp/ipykernel_2152/1923606964.py\u001b[0m in \u001b[0;36m<module>\u001b[1;34m\u001b[0m\n\u001b[0;32m      8\u001b[0m     \u001b[0mprint\u001b[0m\u001b[1;33m(\u001b[0m\u001b[0mtype\u001b[0m\u001b[1;33m(\u001b[0m\u001b[0melement\u001b[0m\u001b[1;33m)\u001b[0m\u001b[1;33m)\u001b[0m\u001b[1;33m\u001b[0m\u001b[1;33m\u001b[0m\u001b[0m\n\u001b[0;32m      9\u001b[0m \u001b[1;31m# TypeError: unsupported operand type(s) for +: 'float' and 'str'\u001b[0m\u001b[1;33m\u001b[0m\u001b[1;33m\u001b[0m\u001b[0m\n\u001b[1;32m---> 10\u001b[1;33m \u001b[0mprint\u001b[0m\u001b[1;33m(\u001b[0m\u001b[0msum\u001b[0m\u001b[1;33m(\u001b[0m\u001b[0mmyList\u001b[0m\u001b[1;33m)\u001b[0m\u001b[1;33m/\u001b[0m\u001b[0mlen\u001b[0m\u001b[1;33m(\u001b[0m\u001b[0mmyList\u001b[0m\u001b[1;33m)\u001b[0m\u001b[1;33m)\u001b[0m\u001b[1;33m\u001b[0m\u001b[1;33m\u001b[0m\u001b[0m\n\u001b[0m",
      "\u001b[1;31mTypeError\u001b[0m: unsupported operand type(s) for +: 'float' and 'str'"
     ]
    }
   ],
   "source": [
    "'''\n",
    "Lists\n",
    "\n",
    "A list can hold many types and can also be used to store ordinal information.\n",
    "'''\n",
    "myList = [1, 1.1, \"This is a sentence\", None]\n",
    "for element in myList:\n",
    "    print(type(element))\n",
    "# TypeError: unsupported operand type(s) for +: 'float' and 'str'\n",
    "print(sum(myList)/len(myList))"
   ]
  },
  {
   "cell_type": "code",
   "execution_count": 22,
   "id": "ff38b358",
   "metadata": {},
   "outputs": [
    {
     "name": "stdout",
     "output_type": "stream",
     "text": [
      "<class 'int'>\n",
      "<class 'int'>\n",
      "<class 'int'>\n",
      "2.0\n",
      "third\n",
      "['first', 'large', 'medium', 'small', 'third']\n"
     ]
    }
   ],
   "source": [
    "# List\n",
    "myList = [1, 2, 3]\n",
    "for element in myList:\n",
    "    print(type(element))\n",
    "print(sum(myList)/len(myList))  # note that this outputs a float\n",
    "\n",
    "myList = ['third', 'first', 'medium', 'small', 'large']\n",
    "print(myList[0])  # 'third'\n",
    "\n",
    "myList.sort()\n",
    "print(myList)  # ['first', 'large', 'medium', 'small', 'third']"
   ]
  }
 ],
 "metadata": {
  "kernelspec": {
   "display_name": "Python 3 (ipykernel)",
   "language": "python",
   "name": "python3"
  },
  "language_info": {
   "codemirror_mode": {
    "name": "ipython",
    "version": 3
   },
   "file_extension": ".py",
   "mimetype": "text/x-python",
   "name": "python",
   "nbconvert_exporter": "python",
   "pygments_lexer": "ipython3",
   "version": "3.9.7"
  }
 },
 "nbformat": 4,
 "nbformat_minor": 5
}
