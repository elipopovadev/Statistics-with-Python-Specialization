{
 "cells": [
  {
   "cell_type": "code",
   "execution_count": 23,
   "id": "8797468e",
   "metadata": {},
   "outputs": [],
   "source": [
    "import matplotlib.pyplot as plt\n",
    "import seaborn as sns\n",
    "import pandas as pd\n",
    "import numpy as np\n",
    "\n",
    "da = pd.read_csv(\n",
    "    \"C:/Users/eli/Desktop/nhanes_2015_2016.csv\")"
   ]
  },
  {
   "cell_type": "code",
   "execution_count": 25,
   "id": "96bc3600",
   "metadata": {},
   "outputs": [
    {
     "data": {
      "text/plain": [
       "Married                2780\n",
       "Never married          1004\n",
       "Divorced                579\n",
       "Living with partner     527\n",
       "Widowed                 396\n",
       "Separated               186\n",
       "Refused                   2\n",
       "Name: DMDMARTL, dtype: int64"
      ]
     },
     "execution_count": 25,
     "metadata": {},
     "output_type": "execute_result"
    }
   ],
   "source": [
    "\n",
    "''' Question 1\n",
    "Relabel the marital status variable DMDMARTL to have brief but informative character labels.\n",
    "Then construct a frequency table of these values for all people, then for women only, and for men only.\n",
    "Then construct these three frequency tables using only people whose age is between 30 and 40. '''\n",
    "\n",
    "da[\"DMDMARTL\"] = da.DMDMARTL.replace({1: \"Married\", 2: \"Widowed\", 3: \"Divorced\", 4: \"Separated\", 5: \"Never married\",\n",
    "                                      6: \"Living with partner\",\n",
    "                                      77: \"Refused\", 99: \"Don't know\"})\n",
    "\n",
    "da[\"DMDMARTL\"].value_counts()  # for all people"
   ]
  },
  {
   "cell_type": "code",
   "execution_count": 26,
   "id": "cffdf039",
   "metadata": {},
   "outputs": [
    {
     "data": {
      "text/plain": [
       "Married                1303\n",
       "Never married           520\n",
       "Divorced                350\n",
       "Widowed                 296\n",
       "Living with partner     262\n",
       "Separated               118\n",
       "Refused                   1\n",
       "Name: DMDMARTL, dtype: int64"
      ]
     },
     "execution_count": 26,
     "metadata": {},
     "output_type": "execute_result"
    }
   ],
   "source": [
    "da_group_by_gender = da.groupby([\"RIAGENDR\"])\n",
    "da_group_by_gender.get_group(2)[\"DMDMARTL\"].value_counts()  # for all women"
   ]
  },
  {
   "cell_type": "code",
   "execution_count": 27,
   "id": "89e6698a",
   "metadata": {},
   "outputs": [
    {
     "data": {
      "text/plain": [
       "Married                1477\n",
       "Never married           484\n",
       "Living with partner     265\n",
       "Divorced                229\n",
       "Widowed                 100\n",
       "Separated                68\n",
       "Refused                   1\n",
       "Name: DMDMARTL, dtype: int64"
      ]
     },
     "execution_count": 27,
     "metadata": {},
     "output_type": "execute_result"
    }
   ],
   "source": [
    "da_group_by_gender.get_group(1)[\"DMDMARTL\"].value_counts()  # for all men"
   ]
  },
  {
   "cell_type": "code",
   "execution_count": 28,
   "id": "641c2303",
   "metadata": {},
   "outputs": [
    {
     "data": {
      "text/plain": [
       "Married                285\n",
       "Never married          116\n",
       "Living with partner     65\n",
       "Divorced                46\n",
       "Separated               18\n",
       "Widowed                  2\n",
       "Name: DMDMARTL, dtype: int64"
      ]
     },
     "execution_count": 28,
     "metadata": {},
     "output_type": "execute_result"
    }
   ],
   "source": [
    "da[(da[\"RIDAGEYR\"] >= 30) & (da[\"RIDAGEYR\"] <= 40) & (da[\"RIAGENDR\"] == 2)\n",
    "   ].DMDMARTL.value_counts()  # for women with age between 30 and 40"
   ]
  },
  {
   "cell_type": "code",
   "execution_count": 29,
   "id": "86b23012",
   "metadata": {},
   "outputs": [
    {
     "data": {
      "text/plain": [
       "Married                275\n",
       "Never married          101\n",
       "Living with partner     78\n",
       "Divorced                24\n",
       "Separated               12\n",
       "Widowed                  3\n",
       "Refused                  1\n",
       "Name: DMDMARTL, dtype: int64"
      ]
     },
     "execution_count": 29,
     "metadata": {},
     "output_type": "execute_result"
    }
   ],
   "source": [
    "da[(da[\"RIDAGEYR\"] >= 30) & (da[\"RIDAGEYR\"] <= 40) & (da[\"RIAGENDR\"] == 1)\n",
    "   ].DMDMARTL.value_counts()  # for men with age between 30 and 40"
   ]
  },
  {
   "cell_type": "code",
   "execution_count": 33,
   "id": "e1657a23",
   "metadata": {},
   "outputs": [
    {
     "name": "stderr",
     "output_type": "stream",
     "text": [
      "C:\\Users\\eli\\AppData\\Local\\Temp/ipykernel_19452/4232644474.py:6: SettingWithCopyWarning: \n",
      "A value is trying to be set on a copy of a slice from a DataFrame.\n",
      "Try using .loc[row_indexer,col_indexer] = value instead\n",
      "\n",
      "See the caveats in the documentation: https://pandas.pydata.org/pandas-docs/stable/user_guide/indexing.html#returning-a-view-versus-a-copy\n",
      "  da_only_women[\"agegrp\"] = pd.cut(da_only_women.RIDAGEYR, [\n"
     ]
    },
    {
     "data": {
      "text/plain": [
       "agegrp    DMDMARTL           \n",
       "(10, 20]  Never married          0.769231\n",
       "          Living with partner    0.205128\n",
       "          Married                0.025641\n",
       "(20, 30]  Never married          0.445525\n",
       "          Married                0.305447\n",
       "          Living with partner    0.206226\n",
       "          Divorced               0.021401\n",
       "          Separated              0.021401\n",
       "(30, 40]  Married                0.544304\n",
       "          Never married          0.204641\n",
       "          Living with partner    0.120253\n",
       "          Divorced               0.090717\n",
       "          Separated              0.035865\n",
       "          Widowed                0.004219\n",
       "(40, 50]  Married                0.573705\n",
       "          Divorced               0.137450\n",
       "          Never married          0.125498\n",
       "          Living with partner    0.073705\n",
       "          Separated              0.065737\n",
       "          Widowed                0.023904\n",
       "(50, 60]  Married                0.546809\n",
       "          Divorced               0.176596\n",
       "          Never married          0.089362\n",
       "          Living with partner    0.068085\n",
       "          Widowed                0.059574\n",
       "          Separated              0.057447\n",
       "          Refused                0.002128\n",
       "(60, 70]  Married                0.480726\n",
       "          Divorced               0.192744\n",
       "          Widowed                0.147392\n",
       "          Never married          0.086168\n",
       "          Separated              0.049887\n",
       "          Living with partner    0.043084\n",
       "(70, 80]  Widowed                0.460976\n",
       "          Married                0.317073\n",
       "          Divorced               0.143902\n",
       "          Never married          0.051220\n",
       "          Separated              0.019512\n",
       "          Living with partner    0.007317\n",
       "Name: DMDMARTL, dtype: float64"
      ]
     },
     "execution_count": 33,
     "metadata": {},
     "output_type": "execute_result"
    }
   ],
   "source": [
    "''' Question 2 \n",
    "Restricting to the female population, stratify the subjects into age bands no wider than ten years,\n",
    "and construct the distribution of marital status within each age band. Within each age band,\n",
    "present the distribution in terms of proportions that must sum to 1. '''\n",
    "da_only_women = da[da[\"RIAGENDR\"] == 2]\n",
    "da_only_women[\"agegrp\"] = pd.cut(da_only_women.RIDAGEYR, [\n",
    "                                 10, 20, 30, 40, 50, 60, 70, 80])\n",
    "df = da_only_women.groupby(\"agegrp\")[\"DMDMARTL\"].value_counts(\n",
    "    normalize=True, ascending=False)\n",
    "df"
   ]
  },
  {
   "cell_type": "code",
   "execution_count": 34,
   "id": "08ab7521",
   "metadata": {},
   "outputs": [
    {
     "name": "stderr",
     "output_type": "stream",
     "text": [
      "C:\\Users\\eli\\AppData\\Local\\Temp/ipykernel_19452/1012242819.py:3: SettingWithCopyWarning: \n",
      "A value is trying to be set on a copy of a slice from a DataFrame.\n",
      "Try using .loc[row_indexer,col_indexer] = value instead\n",
      "\n",
      "See the caveats in the documentation: https://pandas.pydata.org/pandas-docs/stable/user_guide/indexing.html#returning-a-view-versus-a-copy\n",
      "  da_only_men[\"agegrp\"] = pd.cut(da_only_men.RIDAGEYR, [\n"
     ]
    },
    {
     "data": {
      "text/plain": [
       "agegrp    DMDMARTL           \n",
       "(10, 20]  Never married          0.900000\n",
       "          Living with partner    0.075000\n",
       "          Married                0.025000\n",
       "(20, 30]  Never married          0.523148\n",
       "          Married                0.238426\n",
       "          Living with partner    0.212963\n",
       "          Separated              0.016204\n",
       "          Divorced               0.004630\n",
       "          Widowed                0.004630\n",
       "(30, 40]  Married                0.563319\n",
       "          Never married          0.194323\n",
       "          Living with partner    0.157205\n",
       "          Divorced               0.052402\n",
       "          Separated              0.026201\n",
       "          Widowed                0.004367\n",
       "          Refused                0.002183\n",
       "(40, 50]  Married                0.703242\n",
       "          Never married          0.097257\n",
       "          Divorced               0.084788\n",
       "          Living with partner    0.082294\n",
       "          Separated              0.027431\n",
       "          Widowed                0.004988\n",
       "(50, 60]  Married                0.651982\n",
       "          Divorced               0.125551\n",
       "          Never married          0.103524\n",
       "          Living with partner    0.074890\n",
       "          Separated              0.022026\n",
       "          Widowed                0.022026\n",
       "(60, 70]  Married                0.665904\n",
       "          Divorced               0.125858\n",
       "          Never married          0.086957\n",
       "          Living with partner    0.050343\n",
       "          Widowed                0.038902\n",
       "          Separated              0.032037\n",
       "(70, 80]  Married                0.611940\n",
       "          Widowed                0.166667\n",
       "          Divorced               0.141791\n",
       "          Separated              0.034826\n",
       "          Living with partner    0.022388\n",
       "          Never married          0.022388\n",
       "Name: DMDMARTL, dtype: float64"
      ]
     },
     "execution_count": 34,
     "metadata": {},
     "output_type": "execute_result"
    }
   ],
   "source": [
    "''' Q2b. Repeat the construction for males. '''\n",
    "da_only_men = da[da[\"RIAGENDR\"] == 1]\n",
    "da_only_men[\"agegrp\"] = pd.cut(da_only_men.RIDAGEYR, [\n",
    "    10, 20, 30, 40, 50, 60, 70, 80])\n",
    "df = da_only_men.groupby(\"agegrp\")[\"DMDMARTL\"].value_counts(\n",
    "    normalize=True, ascending=False)\n",
    "df"
   ]
  },
  {
   "cell_type": "code",
   "execution_count": 35,
   "id": "97d8f50b",
   "metadata": {},
   "outputs": [
    {
     "data": {
      "text/plain": [
       "<AxesSubplot:xlabel='BMXHT', ylabel='Count'>"
      ]
     },
     "execution_count": 35,
     "metadata": {},
     "output_type": "execute_result"
    },
    {
     "data": {
      "image/png": "[encoded data removed]",
      "text/plain": [
       "<Figure size 432x288 with 1 Axes>"
      ]
     },
     "metadata": {
      "needs_background": "light"
     },
     "output_type": "display_data"
    }
   ],
   "source": [
    "''' Question 3\n",
    "Construct a histogram of the distribution of heights using the BMXHT variable in the NHANES sample. '''\n",
    "sns.histplot(data=da, x='BMXHT', color='red',\n",
    "             edgecolor='blue', linewidth=4, kde=False)"
   ]
  },
  {
   "cell_type": "code",
   "execution_count": 36,
   "id": "bd0e9a15",
   "metadata": {},
   "outputs": [
    {
     "data": {
      "text/plain": [
       "<AxesSubplot:xlabel='BMXHT', ylabel='Count'>"
      ]
     },
     "execution_count": 36,
     "metadata": {},
     "output_type": "execute_result"
    },
    {
     "data": {
      "image/png": "[encoded data removed]",
      "text/plain": [
       "<Figure size 432x288 with 1 Axes>"
      ]
     },
     "metadata": {
      "needs_background": "light"
     },
     "output_type": "display_data"
    }
   ],
   "source": [
    "''' Q3a. Use the bins argument to distplot to produce histograms with different numbers of bins.\n",
    "Assess whether the default value for this argument gives a meaningful result,\n",
    "and comment on what happens as the number of bins grows excessively large or excessively small. '''\n",
    "sns.histplot(data=da, x='BMXHT', color='red', bins=10,\n",
    "             edgecolor='blue', linewidth=4, kde=False)\n",
    "sns.histplot(data=da, x='BMXHT', color='red', bins=70,\n",
    "             edgecolor='blue', linewidth=4, kde=False)\n",
    "# When bins are excessively small it is difficult to see the count of different values and how data is spread.\n",
    "# With too many bins the result is meaningless."
   ]
  },
  {
   "cell_type": "code",
   "execution_count": 37,
   "id": "c3d25dbc",
   "metadata": {},
   "outputs": [
    {
     "data": {
      "image/png": "[encoded data removed]",
      "text/plain": [
       "<Figure size 432x288 with 1 Axes>"
      ]
     },
     "metadata": {
      "needs_background": "light"
     },
     "output_type": "display_data"
    },
    {
     "data": {
      "image/png": "[encoded data removed]",
      "text/plain": [
       "<Figure size 432x288 with 1 Axes>"
      ]
     },
     "metadata": {
      "needs_background": "light"
     },
     "output_type": "display_data"
    }
   ],
   "source": [
    "''' Q3b. Make separate histograms for the heights of women and men, then make a side-by-side boxplot\n",
    "showing the heights of women and men. '''\n",
    "da_only_men = da[da[\"RIAGENDR\"] == 1]\n",
    "da_only_women = da[da[\"RIAGENDR\"] == 2]\n",
    "sns.histplot(data=da_only_men, x='BMXHT', color='red',\n",
    "             edgecolor='blue', linewidth=4, kde=False)\n",
    "sns.histplot(data=da_only_women, x='BMXHT', color='red',\n",
    "             edgecolor='blue', linewidth=4, kde=False)\n",
    "\n",
    "DF = pd.DataFrame(\n",
    "    {'bmxht_men': da_only_men['BMXHT'].dropna(), 'bmxht_women': da_only_women['BMXHT'].dropna()})\n",
    "ax = DF[['bmxht_men', 'bmxht_women']].plot(\n",
    "    kind='box', title='Diff between men and women', showmeans=True)\n",
    "plt.show()"
   ]
  },
  {
   "cell_type": "code",
   "execution_count": 38,
   "id": "174dd938",
   "metadata": {},
   "outputs": [
    {
     "data": {
      "text/plain": [
       "<AxesSubplot:xlabel='BPXSYDIF'>"
      ]
     },
     "execution_count": 38,
     "metadata": {},
     "output_type": "execute_result"
    },
    {
     "data": {
      "image/png": "[encoded data removed]",
      "text/plain": [
       "<Figure size 432x288 with 1 Axes>"
      ]
     },
     "metadata": {
      "needs_background": "light"
     },
     "output_type": "display_data"
    }
   ],
   "source": [
    "''' Question 4\n",
    "Make a boxplot showing the distribution of within-subject differences between the first and second systolic blood pressure\n",
    "measurents (BPXSY1 and BPXSY2). '''\n",
    "da[\"BPXSYDIF\"] = (da.BPXSY1-da.BPXSY2)\n",
    "sns.boxplot(x=da[\"BPXSYDIF\"].dropna())"
   ]
  },
  {
   "cell_type": "code",
   "execution_count": 39,
   "id": "f8b58fdf",
   "metadata": {},
   "outputs": [
    {
     "name": "stdout",
     "output_type": "stream",
     "text": [
      "0.30159679687274377\n"
     ]
    }
   ],
   "source": [
    "''' Q4a. What proportion of the subjects have a lower SBP on the second reading compared to the first? '''\n",
    "mean_bpxsy1 = da[\"BPXSY1\"].mean()\n",
    "mean_bpxsy2 = da[\"BPXSY2\"].mean()\n",
    "diff = mean_bpxsy1 - mean_bpxsy2\n",
    "print(diff) "
   ]
  },
  {
   "cell_type": "code",
   "execution_count": 40,
   "id": "c77f674f",
   "metadata": {},
   "outputs": [
    {
     "data": {
      "image/png": "[encoded data removed]",
      "text/plain": [
       "<Figure size 432x288 with 1 Axes>"
      ]
     },
     "metadata": {
      "needs_background": "light"
     },
     "output_type": "display_data"
    }
   ],
   "source": [
    "''' Q4b. Make side-by-side boxplots of the two systolic blood pressure variables.'''\n",
    "bp = sns.boxplot(data=da.loc[:, [\"BPXSY1\", \"BPXSY2\"]])"
   ]
  },
  {
   "cell_type": "code",
   "execution_count": 41,
   "id": "9e7b2568",
   "metadata": {},
   "outputs": [
    {
     "data": {
      "text/plain": [
       "count    5369.000000\n",
       "mean        0.674986\n",
       "std         5.046465\n",
       "min       -26.000000\n",
       "25%        -2.000000\n",
       "50%         0.000000\n",
       "75%         4.000000\n",
       "max        32.000000\n",
       "Name: BPXSYDIF, dtype: float64"
      ]
     },
     "execution_count": 41,
     "metadata": {},
     "output_type": "execute_result"
    }
   ],
   "source": [
    "''' Q4c. Comment on the variation within either the first or second systolic blood pressure measurements,\n",
    "and the variation in the within-subject differences between the first and second systolic blood pressure measurements. '''\n",
    "da[\"BPXSYDIF\"].dropna().describe()\n",
    "# The First sistolic blood pressure measurements have higher median than the second blood pressure measurements, but\n",
    "# but not drastically higher. The second systolic blood pressure measurements have more outliers.\n",
    "# 50% have diff between BPXSY1 and BPXSY2 above and bellow 0.67 mm/Hg (the median).\n",
    "# The bottom 25% have diff bellow -2(Q1), which means higher BPXSY2.\n",
    "# The top 25% (Q3) have diff higher than 4 mm/Hg.\n",
    "# Min diff is -26 mm/Hg and max diff is 32 mm/Hg."
   ]
  },
  {
   "cell_type": "code",
   "execution_count": 42,
   "id": "5c781109",
   "metadata": {},
   "outputs": [
    {
     "data": {
      "text/plain": [
       "DMDEDUC2                                            DMDHHSIZ\n",
       "9-11th grade (Includes 12th grade with no diploma)  2           0.222395\n",
       "                                                    3           0.163297\n",
       "                                                    4           0.152411\n",
       "                                                    5           0.146190\n",
       "                                                    1           0.116641\n",
       "                                                    6           0.113530\n",
       "                                                    7           0.085537\n",
       "College graduate or above                           2           0.347731\n",
       "                                                    3           0.193997\n",
       "                                                    4           0.165447\n",
       "                                                    1           0.142753\n",
       "                                                    5           0.095168\n",
       "                                                    6           0.029283\n",
       "                                                    7           0.025622\n",
       "Don't know                                          2           0.666667\n",
       "                                                    5           0.333333\n",
       "High school graduate/GED or equivalent              2           0.270658\n",
       "                                                    3           0.171164\n",
       "                                                    4           0.161889\n",
       "                                                    1           0.152614\n",
       "                                                    5           0.109612\n",
       "                                                    7           0.068297\n",
       "                                                    6           0.065767\n",
       "Less than 9th grade                                 2           0.224427\n",
       "                                                    5           0.148092\n",
       "                                                    3           0.146565\n",
       "                                                    4           0.132824\n",
       "                                                    7           0.129771\n",
       "                                                    1           0.109924\n",
       "                                                    6           0.108397\n",
       "Some college or AA degree                           2           0.268970\n",
       "                                                    3           0.193091\n",
       "                                                    4           0.169031\n",
       "                                                    1           0.151141\n",
       "                                                    5           0.122147\n",
       "                                                    6           0.050586\n",
       "                                                    7           0.045034\n",
       "Name: DMDHHSIZ, dtype: float64"
      ]
     },
     "execution_count": 42,
     "metadata": {},
     "output_type": "execute_result"
    }
   ],
   "source": [
    "''' Question 5\n",
    "Construct a frequency table of household sizes for people within each educational attainment category\n",
    "(the relevant variable is DMDEDUC2). Convert the frequencies to proportions. '''\n",
    "da[\"DMDEDUC2\"] = da.DMDEDUC2.replace({1: \"Less than 9th grade\", 2: \"9-11th grade (Includes 12th grade with no diploma)\",\n",
    "                                      3: \"High school graduate/GED or equivalent\", 4: \"Some college or AA degree\",\n",
    "                                      5: \"College graduate or above\",\n",
    "                                      7: \"Refused\", 9: \"Don't know\"})\n",
    "da[\"DMDEDUC2\"] = da[\"DMDEDUC2\"].dropna()\n",
    "da.groupby(\"DMDEDUC2\")[\"DMDHHSIZ\"].value_counts(normalize=True)"
   ]
  },
  {
   "cell_type": "code",
   "execution_count": 43,
   "id": "da7c80c2",
   "metadata": {},
   "outputs": [
    {
     "data": {
      "text/plain": [
       "DMDEDUC2\n",
       "9-11th grade (Includes 12th grade with no diploma)    5.0\n",
       "College graduate or above                             3.0\n",
       "High school graduate/GED or equivalent                5.0\n",
       "Less than 9th grade                                   5.0\n",
       "Some college or AA degree                             4.0\n",
       "Name: DMDHHSIZ, dtype: float64"
      ]
     },
     "execution_count": 43,
     "metadata": {},
     "output_type": "execute_result"
    }
   ],
   "source": [
    "''' Q5b. Restrict the sample to people between 30 and 40 years of age. \n",
    "Then calculate the median household size for women and men within each level of educational attainment. '''\n",
    "da_only_men = da[(da[\"RIAGENDR\"] == 1) & (\n",
    "    da[\"RIDAGEYR\"] >= 30) & (da[\"RIDAGEYR\"] <= 40)]\n",
    "da_only_women = da[(da[\"RIAGENDR\"] == 2) & (\n",
    "    da[\"RIDAGEYR\"] >= 30) & (da[\"RIDAGEYR\"] <= 40)]\n",
    "da_only_men.groupby(\"DMDEDUC2\")[\"DMDHHSIZ\"].median()\n",
    "da_only_women.groupby(\"DMDEDUC2\")[\"DMDHHSIZ\"].median()"
   ]
  },
  {
   "cell_type": "code",
   "execution_count": 53,
   "id": "55b5ecd6",
   "metadata": {},
   "outputs": [
    {
     "data": {
      "text/html": [
       "<div>\n",
       "<style scoped>\n",
       "    .dataframe tbody tr th:only-of-type {\n",
       "        vertical-align: middle;\n",
       "    }\n",
       "\n",
       "    .dataframe tbody tr th {\n",
       "        vertical-align: top;\n",
       "    }\n",
       "\n",
       "    .dataframe thead th {\n",
       "        text-align: right;\n",
       "    }\n",
       "</style>\n",
       "<table border=\"1\" class=\"dataframe\">\n",
       "  <thead>\n",
       "    <tr style=\"text-align: right;\">\n",
       "      <th></th>\n",
       "      <th>RIDAGEYR</th>\n",
       "      <th>BMXHT</th>\n",
       "      <th>BMXBMI</th>\n",
       "    </tr>\n",
       "    <tr>\n",
       "      <th>MVU</th>\n",
       "      <th></th>\n",
       "      <th></th>\n",
       "      <th></th>\n",
       "    </tr>\n",
       "  </thead>\n",
       "  <tbody>\n",
       "    <tr>\n",
       "      <th>0</th>\n",
       "      <td>47.861111</td>\n",
       "      <td>172.741667</td>\n",
       "      <td>26.958333</td>\n",
       "    </tr>\n",
       "    <tr>\n",
       "      <th>1</th>\n",
       "      <td>54.363636</td>\n",
       "      <td>172.906818</td>\n",
       "      <td>27.160465</td>\n",
       "    </tr>\n",
       "    <tr>\n",
       "      <th>2</th>\n",
       "      <td>43.130000</td>\n",
       "      <td>169.537755</td>\n",
       "      <td>30.939175</td>\n",
       "    </tr>\n",
       "    <tr>\n",
       "      <th>3</th>\n",
       "      <td>45.219178</td>\n",
       "      <td>173.075342</td>\n",
       "      <td>27.727397</td>\n",
       "    </tr>\n",
       "    <tr>\n",
       "      <th>4</th>\n",
       "      <td>46.750000</td>\n",
       "      <td>172.177885</td>\n",
       "      <td>29.416505</td>\n",
       "    </tr>\n",
       "    <tr>\n",
       "      <th>5</th>\n",
       "      <td>42.063158</td>\n",
       "      <td>174.764516</td>\n",
       "      <td>26.273118</td>\n",
       "    </tr>\n",
       "    <tr>\n",
       "      <th>6</th>\n",
       "      <td>44.653061</td>\n",
       "      <td>173.998969</td>\n",
       "      <td>28.528866</td>\n",
       "    </tr>\n",
       "    <tr>\n",
       "      <th>7</th>\n",
       "      <td>44.320000</td>\n",
       "      <td>170.332323</td>\n",
       "      <td>25.744444</td>\n",
       "    </tr>\n",
       "    <tr>\n",
       "      <th>8</th>\n",
       "      <td>47.829787</td>\n",
       "      <td>174.315217</td>\n",
       "      <td>29.231522</td>\n",
       "    </tr>\n",
       "    <tr>\n",
       "      <th>9</th>\n",
       "      <td>52.126582</td>\n",
       "      <td>174.454430</td>\n",
       "      <td>28.811392</td>\n",
       "    </tr>\n",
       "    <tr>\n",
       "      <th>10</th>\n",
       "      <td>50.750000</td>\n",
       "      <td>172.109009</td>\n",
       "      <td>28.614414</td>\n",
       "    </tr>\n",
       "    <tr>\n",
       "      <th>11</th>\n",
       "      <td>48.245614</td>\n",
       "      <td>174.291228</td>\n",
       "      <td>27.714035</td>\n",
       "    </tr>\n",
       "    <tr>\n",
       "      <th>12</th>\n",
       "      <td>55.165289</td>\n",
       "      <td>173.631092</td>\n",
       "      <td>29.727731</td>\n",
       "    </tr>\n",
       "    <tr>\n",
       "      <th>13</th>\n",
       "      <td>49.705882</td>\n",
       "      <td>174.456863</td>\n",
       "      <td>29.143564</td>\n",
       "    </tr>\n",
       "    <tr>\n",
       "      <th>14</th>\n",
       "      <td>48.416667</td>\n",
       "      <td>175.149398</td>\n",
       "      <td>29.033333</td>\n",
       "    </tr>\n",
       "    <tr>\n",
       "      <th>15</th>\n",
       "      <td>48.666667</td>\n",
       "      <td>174.713043</td>\n",
       "      <td>29.039130</td>\n",
       "    </tr>\n",
       "    <tr>\n",
       "      <th>16</th>\n",
       "      <td>53.137931</td>\n",
       "      <td>171.545349</td>\n",
       "      <td>31.062353</td>\n",
       "    </tr>\n",
       "    <tr>\n",
       "      <th>17</th>\n",
       "      <td>54.070588</td>\n",
       "      <td>173.366667</td>\n",
       "      <td>30.557831</td>\n",
       "    </tr>\n",
       "    <tr>\n",
       "      <th>18</th>\n",
       "      <td>53.673267</td>\n",
       "      <td>169.325000</td>\n",
       "      <td>31.749000</td>\n",
       "    </tr>\n",
       "    <tr>\n",
       "      <th>19</th>\n",
       "      <td>45.822785</td>\n",
       "      <td>172.400000</td>\n",
       "      <td>26.835443</td>\n",
       "    </tr>\n",
       "    <tr>\n",
       "      <th>20</th>\n",
       "      <td>43.922222</td>\n",
       "      <td>171.094318</td>\n",
       "      <td>26.493182</td>\n",
       "    </tr>\n",
       "    <tr>\n",
       "      <th>21</th>\n",
       "      <td>45.775510</td>\n",
       "      <td>173.138298</td>\n",
       "      <td>28.961702</td>\n",
       "    </tr>\n",
       "    <tr>\n",
       "      <th>22</th>\n",
       "      <td>50.516854</td>\n",
       "      <td>176.974157</td>\n",
       "      <td>30.337079</td>\n",
       "    </tr>\n",
       "    <tr>\n",
       "      <th>23</th>\n",
       "      <td>50.535354</td>\n",
       "      <td>175.061224</td>\n",
       "      <td>29.237755</td>\n",
       "    </tr>\n",
       "    <tr>\n",
       "      <th>24</th>\n",
       "      <td>53.140187</td>\n",
       "      <td>175.610476</td>\n",
       "      <td>28.259615</td>\n",
       "    </tr>\n",
       "    <tr>\n",
       "      <th>25</th>\n",
       "      <td>46.778846</td>\n",
       "      <td>175.091346</td>\n",
       "      <td>30.077885</td>\n",
       "    </tr>\n",
       "    <tr>\n",
       "      <th>26</th>\n",
       "      <td>42.380435</td>\n",
       "      <td>172.534066</td>\n",
       "      <td>28.546154</td>\n",
       "    </tr>\n",
       "    <tr>\n",
       "      <th>27</th>\n",
       "      <td>49.038760</td>\n",
       "      <td>172.809524</td>\n",
       "      <td>28.966667</td>\n",
       "    </tr>\n",
       "    <tr>\n",
       "      <th>28</th>\n",
       "      <td>44.054795</td>\n",
       "      <td>171.509722</td>\n",
       "      <td>27.495833</td>\n",
       "    </tr>\n",
       "    <tr>\n",
       "      <th>29</th>\n",
       "      <td>47.489796</td>\n",
       "      <td>171.179167</td>\n",
       "      <td>27.966667</td>\n",
       "    </tr>\n",
       "  </tbody>\n",
       "</table>\n",
       "</div>"
      ],
      "text/plain": [
       "      RIDAGEYR       BMXHT     BMXBMI\n",
       "MVU                                  \n",
       "0    47.861111  172.741667  26.958333\n",
       "1    54.363636  172.906818  27.160465\n",
       "2    43.130000  169.537755  30.939175\n",
       "3    45.219178  173.075342  27.727397\n",
       "4    46.750000  172.177885  29.416505\n",
       "5    42.063158  174.764516  26.273118\n",
       "6    44.653061  173.998969  28.528866\n",
       "7    44.320000  170.332323  25.744444\n",
       "8    47.829787  174.315217  29.231522\n",
       "9    52.126582  174.454430  28.811392\n",
       "10   50.750000  172.109009  28.614414\n",
       "11   48.245614  174.291228  27.714035\n",
       "12   55.165289  173.631092  29.727731\n",
       "13   49.705882  174.456863  29.143564\n",
       "14   48.416667  175.149398  29.033333\n",
       "15   48.666667  174.713043  29.039130\n",
       "16   53.137931  171.545349  31.062353\n",
       "17   54.070588  173.366667  30.557831\n",
       "18   53.673267  169.325000  31.749000\n",
       "19   45.822785  172.400000  26.835443\n",
       "20   43.922222  171.094318  26.493182\n",
       "21   45.775510  173.138298  28.961702\n",
       "22   50.516854  176.974157  30.337079\n",
       "23   50.535354  175.061224  29.237755\n",
       "24   53.140187  175.610476  28.259615\n",
       "25   46.778846  175.091346  30.077885\n",
       "26   42.380435  172.534066  28.546154\n",
       "27   49.038760  172.809524  28.966667\n",
       "28   44.054795  171.509722  27.495833\n",
       "29   47.489796  171.179167  27.966667"
      ]
     },
     "execution_count": 53,
     "metadata": {},
     "output_type": "execute_result"
    }
   ],
   "source": [
    "''' Question 6\n",
    "The participants can be clustered into \"maked variance units\" (MVU) based on every combination of the variables SDMVSTRA\n",
    "and SDMVPSU. Calculate the mean age (RIDAGEYR), height (BMXHT), and BMI (BMXBMI) for each gender (RIAGENDR),\n",
    "within each MVU, and report the ratio between the largest and smallest mean (e.g. for height) across the MVUs. '''\n",
    "da['MVU'] = da.groupby(['SDMVSTRA', 'SDMVPSU']).grouper.group_info[0]\n",
    "da_men = da[(da[\"RIAGENDR\"] == 1)]\n",
    "da_women = da[(da[\"RIAGENDR\"] == 2)]\n",
    "\n",
    "df_men = da_men.groupby([\"MVU\"])[[\"RIDAGEYR\", \"BMXHT\",\n",
    "                                 \"BMXBMI\"]].mean() # mean for men\n",
    "df_men"
   ]
  },
  {
   "cell_type": "code",
   "execution_count": 55,
   "id": "18ebf672",
   "metadata": {},
   "outputs": [
    {
     "data": {
      "text/html": [
       "<div>\n",
       "<style scoped>\n",
       "    .dataframe tbody tr th:only-of-type {\n",
       "        vertical-align: middle;\n",
       "    }\n",
       "\n",
       "    .dataframe tbody tr th {\n",
       "        vertical-align: top;\n",
       "    }\n",
       "\n",
       "    .dataframe thead th {\n",
       "        text-align: right;\n",
       "    }\n",
       "</style>\n",
       "<table border=\"1\" class=\"dataframe\">\n",
       "  <thead>\n",
       "    <tr style=\"text-align: right;\">\n",
       "      <th></th>\n",
       "      <th>RIDAGEYR</th>\n",
       "      <th>BMXHT</th>\n",
       "      <th>BMXBMI</th>\n",
       "    </tr>\n",
       "    <tr>\n",
       "      <th>MVU</th>\n",
       "      <th></th>\n",
       "      <th></th>\n",
       "      <th></th>\n",
       "    </tr>\n",
       "  </thead>\n",
       "  <tbody>\n",
       "    <tr>\n",
       "      <th>0</th>\n",
       "      <td>47.663265</td>\n",
       "      <td>159.570408</td>\n",
       "      <td>30.052041</td>\n",
       "    </tr>\n",
       "    <tr>\n",
       "      <th>1</th>\n",
       "      <td>52.987952</td>\n",
       "      <td>159.244578</td>\n",
       "      <td>27.849398</td>\n",
       "    </tr>\n",
       "    <tr>\n",
       "      <th>2</th>\n",
       "      <td>43.636364</td>\n",
       "      <td>155.402041</td>\n",
       "      <td>32.419388</td>\n",
       "    </tr>\n",
       "    <tr>\n",
       "      <th>3</th>\n",
       "      <td>43.736111</td>\n",
       "      <td>159.218056</td>\n",
       "      <td>27.400000</td>\n",
       "    </tr>\n",
       "    <tr>\n",
       "      <th>4</th>\n",
       "      <td>44.397959</td>\n",
       "      <td>158.871579</td>\n",
       "      <td>30.856842</td>\n",
       "    </tr>\n",
       "    <tr>\n",
       "      <th>5</th>\n",
       "      <td>44.376344</td>\n",
       "      <td>160.229032</td>\n",
       "      <td>26.470968</td>\n",
       "    </tr>\n",
       "    <tr>\n",
       "      <th>6</th>\n",
       "      <td>42.897436</td>\n",
       "      <td>161.315385</td>\n",
       "      <td>29.447436</td>\n",
       "    </tr>\n",
       "    <tr>\n",
       "      <th>7</th>\n",
       "      <td>47.333333</td>\n",
       "      <td>157.231111</td>\n",
       "      <td>26.611111</td>\n",
       "    </tr>\n",
       "    <tr>\n",
       "      <th>8</th>\n",
       "      <td>44.841121</td>\n",
       "      <td>162.059615</td>\n",
       "      <td>29.905769</td>\n",
       "    </tr>\n",
       "    <tr>\n",
       "      <th>9</th>\n",
       "      <td>46.457447</td>\n",
       "      <td>160.476596</td>\n",
       "      <td>30.641489</td>\n",
       "    </tr>\n",
       "    <tr>\n",
       "      <th>10</th>\n",
       "      <td>51.664000</td>\n",
       "      <td>158.788710</td>\n",
       "      <td>29.533065</td>\n",
       "    </tr>\n",
       "    <tr>\n",
       "      <th>11</th>\n",
       "      <td>42.541667</td>\n",
       "      <td>162.853521</td>\n",
       "      <td>28.640845</td>\n",
       "    </tr>\n",
       "    <tr>\n",
       "      <th>12</th>\n",
       "      <td>50.900901</td>\n",
       "      <td>160.762385</td>\n",
       "      <td>30.385321</td>\n",
       "    </tr>\n",
       "    <tr>\n",
       "      <th>13</th>\n",
       "      <td>51.660000</td>\n",
       "      <td>160.021429</td>\n",
       "      <td>28.564286</td>\n",
       "    </tr>\n",
       "    <tr>\n",
       "      <th>14</th>\n",
       "      <td>46.229167</td>\n",
       "      <td>160.387500</td>\n",
       "      <td>31.262500</td>\n",
       "    </tr>\n",
       "    <tr>\n",
       "      <th>15</th>\n",
       "      <td>47.205882</td>\n",
       "      <td>160.892000</td>\n",
       "      <td>29.612121</td>\n",
       "    </tr>\n",
       "    <tr>\n",
       "      <th>16</th>\n",
       "      <td>49.694444</td>\n",
       "      <td>157.422430</td>\n",
       "      <td>32.189720</td>\n",
       "    </tr>\n",
       "    <tr>\n",
       "      <th>17</th>\n",
       "      <td>51.486239</td>\n",
       "      <td>159.022936</td>\n",
       "      <td>30.770642</td>\n",
       "    </tr>\n",
       "    <tr>\n",
       "      <th>18</th>\n",
       "      <td>55.638462</td>\n",
       "      <td>156.339063</td>\n",
       "      <td>32.303125</td>\n",
       "    </tr>\n",
       "    <tr>\n",
       "      <th>19</th>\n",
       "      <td>45.589744</td>\n",
       "      <td>160.437179</td>\n",
       "      <td>27.491026</td>\n",
       "    </tr>\n",
       "    <tr>\n",
       "      <th>20</th>\n",
       "      <td>45.329787</td>\n",
       "      <td>156.900000</td>\n",
       "      <td>29.019149</td>\n",
       "    </tr>\n",
       "    <tr>\n",
       "      <th>21</th>\n",
       "      <td>43.500000</td>\n",
       "      <td>161.034259</td>\n",
       "      <td>29.429630</td>\n",
       "    </tr>\n",
       "    <tr>\n",
       "      <th>22</th>\n",
       "      <td>47.810526</td>\n",
       "      <td>161.977895</td>\n",
       "      <td>30.700000</td>\n",
       "    </tr>\n",
       "    <tr>\n",
       "      <th>23</th>\n",
       "      <td>50.833333</td>\n",
       "      <td>160.060577</td>\n",
       "      <td>31.490385</td>\n",
       "    </tr>\n",
       "    <tr>\n",
       "      <th>24</th>\n",
       "      <td>54.893617</td>\n",
       "      <td>161.989362</td>\n",
       "      <td>30.061702</td>\n",
       "    </tr>\n",
       "    <tr>\n",
       "      <th>25</th>\n",
       "      <td>45.000000</td>\n",
       "      <td>161.673810</td>\n",
       "      <td>32.984127</td>\n",
       "    </tr>\n",
       "    <tr>\n",
       "      <th>26</th>\n",
       "      <td>43.210526</td>\n",
       "      <td>161.508421</td>\n",
       "      <td>29.848421</td>\n",
       "    </tr>\n",
       "    <tr>\n",
       "      <th>27</th>\n",
       "      <td>51.700000</td>\n",
       "      <td>159.138281</td>\n",
       "      <td>30.540625</td>\n",
       "    </tr>\n",
       "    <tr>\n",
       "      <th>28</th>\n",
       "      <td>45.105882</td>\n",
       "      <td>158.295122</td>\n",
       "      <td>27.959259</td>\n",
       "    </tr>\n",
       "    <tr>\n",
       "      <th>29</th>\n",
       "      <td>47.063158</td>\n",
       "      <td>158.627368</td>\n",
       "      <td>29.000000</td>\n",
       "    </tr>\n",
       "  </tbody>\n",
       "</table>\n",
       "</div>"
      ],
      "text/plain": [
       "      RIDAGEYR       BMXHT     BMXBMI\n",
       "MVU                                  \n",
       "0    47.663265  159.570408  30.052041\n",
       "1    52.987952  159.244578  27.849398\n",
       "2    43.636364  155.402041  32.419388\n",
       "3    43.736111  159.218056  27.400000\n",
       "4    44.397959  158.871579  30.856842\n",
       "5    44.376344  160.229032  26.470968\n",
       "6    42.897436  161.315385  29.447436\n",
       "7    47.333333  157.231111  26.611111\n",
       "8    44.841121  162.059615  29.905769\n",
       "9    46.457447  160.476596  30.641489\n",
       "10   51.664000  158.788710  29.533065\n",
       "11   42.541667  162.853521  28.640845\n",
       "12   50.900901  160.762385  30.385321\n",
       "13   51.660000  160.021429  28.564286\n",
       "14   46.229167  160.387500  31.262500\n",
       "15   47.205882  160.892000  29.612121\n",
       "16   49.694444  157.422430  32.189720\n",
       "17   51.486239  159.022936  30.770642\n",
       "18   55.638462  156.339063  32.303125\n",
       "19   45.589744  160.437179  27.491026\n",
       "20   45.329787  156.900000  29.019149\n",
       "21   43.500000  161.034259  29.429630\n",
       "22   47.810526  161.977895  30.700000\n",
       "23   50.833333  160.060577  31.490385\n",
       "24   54.893617  161.989362  30.061702\n",
       "25   45.000000  161.673810  32.984127\n",
       "26   43.210526  161.508421  29.848421\n",
       "27   51.700000  159.138281  30.540625\n",
       "28   45.105882  158.295122  27.959259\n",
       "29   47.063158  158.627368  29.000000"
      ]
     },
     "execution_count": 55,
     "metadata": {},
     "output_type": "execute_result"
    }
   ],
   "source": [
    "df_women = da_women.groupby(\n",
    "    [\"MVU\"])[[\"RIDAGEYR\", \"BMXHT\", \"BMXBMI\"]].mean()  # mean for women\n",
    "df_women"
   ]
  },
  {
   "cell_type": "code",
   "execution_count": 56,
   "id": "a36f0af2",
   "metadata": {},
   "outputs": [
    {
     "name": "stdout",
     "output_type": "stream",
     "text": [
      "1.3114871069416525\n",
      "1.3078580577111432\n",
      "1.0451744119496282\n",
      "1.047949694040641\n",
      "1.2332369443245577\n",
      "1.2460491548963397\n"
     ]
    }
   ],
   "source": [
    "\n",
    "# report the ratio between the largest and smallest mean\n",
    "print(df_men[\"RIDAGEYR\"].max() / df_men[\"RIDAGEYR\"].min())\n",
    "print(df_women[\"RIDAGEYR\"].max() / df_women[\"RIDAGEYR\"].min())\n",
    "\n",
    "print(df_men[\"BMXHT\"].max() / df_men[\"BMXHT\"].min())\n",
    "print(df_women[\"BMXHT\"].max() / df_women[\"BMXHT\"].min())\n",
    "\n",
    "print(df_men[\"BMXBMI\"].max() / df_men[\"BMXBMI\"].min())\n",
    "print(df_women[\"BMXBMI\"].max() / df_women[\"BMXBMI\"].min())"
   ]
  },
  {
   "cell_type": "code",
   "execution_count": 63,
   "id": "4e41ad14",
   "metadata": {},
   "outputs": [
    {
     "name": "stdout",
     "output_type": "stream",
     "text": [
      "count    30.000000\n",
      "mean     48.320132\n",
      "std       3.809722\n",
      "min      42.063158\n",
      "25%      45.358261\n",
      "50%      48.053363\n",
      "75%      50.696338\n",
      "max      55.165289\n",
      "Name: RIDAGEYR, dtype: float64\n",
      "count    30.000000\n",
      "mean     47.512822\n",
      "std       3.741028\n",
      "min      42.541667\n",
      "25%      44.508750\n",
      "50%      46.760302\n",
      "75%      50.884009\n",
      "max      55.638462\n",
      "Name: RIDAGEYR, dtype: float64\n"
     ]
    }
   ],
   "source": [
    "''' Q6a. Comment on the extent to which mean age, height, and BMI vary among the MVUs.'''\n",
    "# The mean age vary the most among the MVU, because the standard deviation is biggest.\n",
    "''' Q6b. Calculate the inter-quartile range (IQR) for age, height, and BMI for each gender and each MVU.\n",
    " Report the ratio between the largest and smalles IQR across the MVUs. '''\n",
    "print(df_men[\"RIDAGEYR\"].describe())  # IQR = 50,70 - 45,36\n",
    "print(df_women[\"RIDAGEYR\"].describe())  # IQR = 50,89 - 44,51"
   ]
  },
  {
   "cell_type": "code",
   "execution_count": 61,
   "id": "f132da8b",
   "metadata": {},
   "outputs": [
    {
     "name": "stdout",
     "output_type": "stream",
     "text": [
      "count     30.000000\n",
      "mean     173.143162\n",
      "std        1.824414\n",
      "min      169.325000\n",
      "25%      172.126228\n",
      "50%      173.106820\n",
      "75%      174.456255\n",
      "max      176.974157\n",
      "Name: BMXHT, dtype: float64\n",
      "count     30.000000\n",
      "mean     159.725022\n",
      "std        1.828171\n",
      "min      155.402041\n",
      "25%      158.809427\n",
      "50%      160.041003\n",
      "75%      160.998694\n",
      "max      162.853521\n",
      "Name: BMXHT, dtype: float64\n"
     ]
    }
   ],
   "source": [
    "print(df_men[\"BMXHT\"].describe())\n",
    "print(df_women[\"BMXHT\"].describe())"
   ]
  },
  {
   "cell_type": "code",
   "execution_count": 62,
   "id": "7fe32b03",
   "metadata": {},
   "outputs": [
    {
     "name": "stdout",
     "output_type": "stream",
     "text": [
      "count    30.000000\n",
      "mean     28.687020\n",
      "std       1.475871\n",
      "min      25.744444\n",
      "25%      27.717376\n",
      "50%      28.886547\n",
      "75%      29.371817\n",
      "max      31.749000\n",
      "Name: BMXBMI, dtype: float64\n",
      "count    30.000000\n",
      "mean     29.781346\n",
      "std       1.687687\n",
      "min      26.470968\n",
      "25%      28.730634\n",
      "50%      29.877095\n",
      "75%      30.752982\n",
      "max      32.984127\n",
      "Name: BMXBMI, dtype: float64\n"
     ]
    }
   ],
   "source": [
    "print(df_men[\"BMXBMI\"].describe())\n",
    "print(df_women[\"BMXBMI\"].describe())"
   ]
  }
 ],
 "metadata": {
  "kernelspec": {
   "display_name": "Python 3 (ipykernel)",
   "language": "python",
   "name": "python3"
  },
  "language_info": {
   "codemirror_mode": {
    "name": "ipython",
    "version": 3
   },
   "file_extension": ".py",
   "mimetype": "text/x-python",
   "name": "python",
   "nbconvert_exporter": "python",
   "pygments_lexer": "ipython3",
   "version": "3.9.7"
  }
 },
 "nbformat": 4,
 "nbformat_minor": 5
}
