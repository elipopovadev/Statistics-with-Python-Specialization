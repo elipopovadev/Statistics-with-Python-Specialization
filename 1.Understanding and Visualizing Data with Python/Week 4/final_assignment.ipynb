{
 "cells": [
  {
   "cell_type": "code",
   "execution_count": 6,
   "id": "c6021982",
   "metadata": {},
   "outputs": [],
   "source": [
    "import numpy as np  # for sampling for the distributions\n",
    "import matplotlib.pyplot as plt  # for basic plotting\n",
    "import seaborn as sns  # for plotting of the histograms"
   ]
  },
  {
   "cell_type": "code",
   "execution_count": 7,
   "id": "0f3c42d3",
   "metadata": {},
   "outputs": [
    {
     "name": "stdout",
     "output_type": "stream",
     "text": [
      "98.91436939669944 100.99734544658358 100.28297849805199\n"
     ]
    }
   ],
   "source": [
    "'''\n",
    "1.\n",
    "Question 1\n",
    "In the code block below, generate 3 normal random variables with mean 100 and standard deviation 1. \n",
    "'''\n",
    "mean = 100\n",
    "sigma = 1\n",
    "\n",
    "np.random.seed(123)\n",
    "var1 = np.random.normal(mean, sigma)\n",
    "var2 = np.random.normal(mean, sigma)\n",
    "var3 = np.random.normal(mean, sigma)\n",
    "print(var1, var2, var3)\n"
   ]
  },
  {
   "cell_type": "code",
   "execution_count": 8,
   "id": "e42f02df",
   "metadata": {},
   "outputs": [
    {
     "name": "stdout",
     "output_type": "stream",
     "text": [
      "[67 93 99 18 84 58 87 98 97 48]\n"
     ]
    }
   ],
   "source": [
    "'''\n",
    "2.\n",
    "Generating random samples from a population lies at the heart of statistics. In the code block below,\n",
    "draw a sample of size 10 from a set containing the integers 1 through 100.\n",
    "'''\n",
    "size = 10\n",
    "np.random.seed(123)\n",
    "population = np.arange(1, 100)\n",
    "sample = np.random.choice(population, size)\n",
    "print(sample)"
   ]
  }
 ],
 "metadata": {
  "kernelspec": {
   "display_name": "Python 3 (ipykernel)",
   "language": "python",
   "name": "python3"
  },
  "language_info": {
   "codemirror_mode": {
    "name": "ipython",
    "version": 3
   },
   "file_extension": ".py",
   "mimetype": "text/x-python",
   "name": "python",
   "nbconvert_exporter": "python",
   "pygments_lexer": "ipython3",
   "version": "3.9.7"
  }
 },
 "nbformat": 4,
 "nbformat_minor": 5
}
